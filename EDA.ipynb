{
 "cells": [
  {
   "cell_type": "markdown",
   "metadata": {},
   "source": [
    "# Part 1: EDA"
   ]
  },
  {
   "cell_type": "markdown",
   "metadata": {},
   "source": [
    "### Content List\n",
    "- [Imports](#Imports)\n",
    "- [Loading the Data](#Loading-the-Date)\n",
    "- [Defining Target Features](#Defining-the-Target-Features)\n",
    "- [Dropping Specific Columns](#Dropping-specific-columns)\n",
    "- [Checking the Correlations](#Checking-Correlations)\n",
    "- [Visualizing EDA](#Visualizing-EDA)\n",
    "- [Additional Data Cleaning](#Additional-Data-Cleaning)\n",
    "- [Reviewing Data Types](#Reviewing-Data-Types)"
   ]
  },
  {
   "cell_type": "markdown",
   "metadata": {},
   "source": [
    "### Imports"
   ]
  },
  {
   "cell_type": "code",
   "execution_count": null,
   "metadata": {},
   "outputs": [],
   "source": [
    "### Imports\n",
    "%matplotlib inline\n",
    "import pandas as pd\n",
    "import matplotlib.pyplot as plt\n",
    "import seaborn as sns\n",
    "import numpy as np\n",
    "import math\n",
    "import folium\n",
    "from datetime import datetime"
   ]
  },
  {
   "cell_type": "markdown",
   "metadata": {},
   "source": [
    "#### Reading in Data from CSV\n",
    "This data comes from a Kaggle dataset initially, from this link: https://www.kaggle.com/wordsforthewise/lending-club."
   ]
  },
  {
   "cell_type": "code",
   "execution_count": 6,
   "metadata": {
    "scrolled": true
   },
   "outputs": [
    {
     "name": "stderr",
     "output_type": "stream",
     "text": [
      "/var/folders/mz/7whxfwmx1bs3m6p4ln701xkw0000gn/T/ipykernel_1738/1545620594.py:2: DtypeWarning: Columns (0,19,49,59,118,129,130,131,134,135,136,139,145,146,147) have mixed types. Specify dtype option on import or set low_memory=False.\n",
      "  data_read = pd.read_csv('./dataset/dataset_2007_to_2018.csv')\n"
     ]
    }
   ],
   "source": [
    "#read in file from csv to dataframe after downloading it to the same folder as this notebook\n",
    "data_read = pd.read_csv('./dataset/dataset_2007_to_2018.csv')"
   ]
  },
  {
   "cell_type": "code",
   "execution_count": 7,
   "metadata": {
    "scrolled": true
   },
   "outputs": [
    {
     "name": "stdout",
     "output_type": "stream",
     "text": [
      "id\n",
      "member_id\n",
      "loan_amnt\n",
      "funded_amnt\n",
      "funded_amnt_inv\n",
      "term\n",
      "int_rate\n",
      "installment\n",
      "grade\n",
      "sub_grade\n",
      "emp_title\n",
      "emp_length\n",
      "home_ownership\n",
      "annual_inc\n",
      "verification_status\n",
      "issue_d\n",
      "loan_status\n",
      "pymnt_plan\n",
      "url\n",
      "desc\n",
      "purpose\n",
      "title\n",
      "zip_code\n",
      "addr_state\n",
      "dti\n",
      "delinq_2yrs\n",
      "earliest_cr_line\n",
      "fico_range_low\n",
      "fico_range_high\n",
      "inq_last_6mths\n",
      "mths_since_last_delinq\n",
      "mths_since_last_record\n",
      "open_acc\n",
      "pub_rec\n",
      "revol_bal\n",
      "revol_util\n",
      "total_acc\n",
      "initial_list_status\n",
      "out_prncp\n",
      "out_prncp_inv\n",
      "total_pymnt\n",
      "total_pymnt_inv\n",
      "total_rec_prncp\n",
      "total_rec_int\n",
      "total_rec_late_fee\n",
      "recoveries\n",
      "collection_recovery_fee\n",
      "last_pymnt_d\n",
      "last_pymnt_amnt\n",
      "next_pymnt_d\n",
      "last_credit_pull_d\n",
      "last_fico_range_high\n",
      "last_fico_range_low\n",
      "collections_12_mths_ex_med\n",
      "mths_since_last_major_derog\n",
      "policy_code\n",
      "application_type\n",
      "annual_inc_joint\n",
      "dti_joint\n",
      "verification_status_joint\n",
      "acc_now_delinq\n",
      "tot_coll_amt\n",
      "tot_cur_bal\n",
      "open_acc_6m\n",
      "open_act_il\n",
      "open_il_12m\n",
      "open_il_24m\n",
      "mths_since_rcnt_il\n",
      "total_bal_il\n",
      "il_util\n",
      "open_rv_12m\n",
      "open_rv_24m\n",
      "max_bal_bc\n",
      "all_util\n",
      "total_rev_hi_lim\n",
      "inq_fi\n",
      "total_cu_tl\n",
      "inq_last_12m\n",
      "acc_open_past_24mths\n",
      "avg_cur_bal\n",
      "bc_open_to_buy\n",
      "bc_util\n",
      "chargeoff_within_12_mths\n",
      "delinq_amnt\n",
      "mo_sin_old_il_acct\n",
      "mo_sin_old_rev_tl_op\n",
      "mo_sin_rcnt_rev_tl_op\n",
      "mo_sin_rcnt_tl\n",
      "mort_acc\n",
      "mths_since_recent_bc\n",
      "mths_since_recent_bc_dlq\n",
      "mths_since_recent_inq\n",
      "mths_since_recent_revol_delinq\n",
      "num_accts_ever_120_pd\n",
      "num_actv_bc_tl\n",
      "num_actv_rev_tl\n",
      "num_bc_sats\n",
      "num_bc_tl\n",
      "num_il_tl\n",
      "num_op_rev_tl\n",
      "num_rev_accts\n",
      "num_rev_tl_bal_gt_0\n",
      "num_sats\n",
      "num_tl_120dpd_2m\n",
      "num_tl_30dpd\n",
      "num_tl_90g_dpd_24m\n",
      "num_tl_op_past_12m\n",
      "pct_tl_nvr_dlq\n",
      "percent_bc_gt_75\n",
      "pub_rec_bankruptcies\n",
      "tax_liens\n",
      "tot_hi_cred_lim\n",
      "total_bal_ex_mort\n",
      "total_bc_limit\n",
      "total_il_high_credit_limit\n",
      "revol_bal_joint\n",
      "sec_app_fico_range_low\n",
      "sec_app_fico_range_high\n",
      "sec_app_earliest_cr_line\n",
      "sec_app_inq_last_6mths\n",
      "sec_app_mort_acc\n",
      "sec_app_open_acc\n",
      "sec_app_revol_util\n",
      "sec_app_open_act_il\n",
      "sec_app_num_rev_accts\n",
      "sec_app_chargeoff_within_12_mths\n",
      "sec_app_collections_12_mths_ex_med\n",
      "sec_app_mths_since_last_major_derog\n",
      "hardship_flag\n",
      "hardship_type\n",
      "hardship_reason\n",
      "hardship_status\n",
      "deferral_term\n",
      "hardship_amount\n",
      "hardship_start_date\n",
      "hardship_end_date\n",
      "payment_plan_start_date\n",
      "hardship_length\n",
      "hardship_dpd\n",
      "hardship_loan_status\n",
      "orig_projected_additional_accrued_interest\n",
      "hardship_payoff_balance_amount\n",
      "hardship_last_payment_amount\n",
      "disbursement_method\n",
      "debt_settlement_flag\n",
      "debt_settlement_flag_date\n",
      "settlement_status\n",
      "settlement_date\n",
      "settlement_amount\n",
      "settlement_percentage\n",
      "settlement_term\n"
     ]
    }
   ],
   "source": [
    "for i in data_read.columns:\n",
    "    print(i)"
   ]
  },
  {
   "cell_type": "code",
   "execution_count": 8,
   "metadata": {},
   "outputs": [
    {
     "name": "stdout",
     "output_type": "stream",
     "text": [
      "There are a total of 151 columns by default.\n"
     ]
    }
   ],
   "source": [
    "print(f'There are a total of {len(data_read.columns)} columns by default.')"
   ]
  },
  {
   "cell_type": "code",
   "execution_count": 9,
   "metadata": {},
   "outputs": [],
   "source": [
    "# By saving the data as something other than what was imported, we no longer need to read in the data again to reset\n",
    "data = data_read"
   ]
  },
  {
   "cell_type": "code",
   "execution_count": 10,
   "metadata": {},
   "outputs": [
    {
     "data": {
      "text/plain": [
       "(2260701, 151)"
      ]
     },
     "execution_count": 10,
     "metadata": {},
     "output_type": "execute_result"
    }
   ],
   "source": [
    "data.shape"
   ]
  },
  {
   "cell_type": "markdown",
   "metadata": {},
   "source": [
    "**Findings:** This dataset consists of over 2.26 million rows and 145 columns, amounting to more than 340 million individual data points. During the exploratory data analysis (EDA) process, the dataset will be reduced while prioritizing the retention of its value and representativeness. Additionally, external research highlights the progression of data collection over time. The dataset has grown substantially, from 188,127 rows and 31 features in 2014 to 2,260,701 rows and 151 features in 2018. This represents an approximately 58.5-fold increase within three years, reflecting the rapidly accelerating pace of data generation."
   ]
  },
  {
   "cell_type": "code",
   "execution_count": 11,
   "metadata": {},
   "outputs": [
    {
     "name": "stdout",
     "output_type": "stream",
     "text": [
      "There are 108486252 missing values in the Lending Club dataset.\n"
     ]
    }
   ],
   "source": [
    "### Identifying contents of data( data types, shape, descriptive statistics, etc)\n",
    "missing_data = data.isna()\n",
    "missing_data_amount = missing_data.sum().sum()\n",
    "print(f'There are {missing_data_amount} missing values in the Lending Club dataset.')"
   ]
  },
  {
   "cell_type": "code",
   "execution_count": 12,
   "metadata": {
    "scrolled": true
   },
   "outputs": [
    {
     "data": {
      "text/plain": [
       "float64    0.748344\n",
       "object     0.251656\n",
       "Name: proportion, dtype: float64"
      ]
     },
     "execution_count": 12,
     "metadata": {},
     "output_type": "execute_result"
    }
   ],
   "source": [
    "data.dtypes.value_counts(normalize=True)"
   ]
  },
  {
   "cell_type": "markdown",
   "metadata": {},
   "source": [
    "The object types are not overly complex as the split is approximately 75% Float64 and 25% Object. Since Machine Learning requires numeric inputs in order to function, it is a relief that there is not an overwhelming amount of Object (or any other non-numeric) data types for our 151 features. "
   ]
  },
  {
   "cell_type": "code",
   "execution_count": 13,
   "metadata": {
    "scrolled": true
   },
   "outputs": [
    {
     "data": {
      "text/html": [
       "<div>\n",
       "<style scoped>\n",
       "    .dataframe tbody tr th:only-of-type {\n",
       "        vertical-align: middle;\n",
       "    }\n",
       "\n",
       "    .dataframe tbody tr th {\n",
       "        vertical-align: top;\n",
       "    }\n",
       "\n",
       "    .dataframe thead th {\n",
       "        text-align: right;\n",
       "    }\n",
       "</style>\n",
       "<table border=\"1\" class=\"dataframe\">\n",
       "  <thead>\n",
       "    <tr style=\"text-align: right;\">\n",
       "      <th></th>\n",
       "      <th>member_id</th>\n",
       "      <th>loan_amnt</th>\n",
       "      <th>funded_amnt</th>\n",
       "      <th>funded_amnt_inv</th>\n",
       "      <th>int_rate</th>\n",
       "      <th>installment</th>\n",
       "      <th>annual_inc</th>\n",
       "      <th>dti</th>\n",
       "      <th>delinq_2yrs</th>\n",
       "      <th>fico_range_low</th>\n",
       "      <th>...</th>\n",
       "      <th>deferral_term</th>\n",
       "      <th>hardship_amount</th>\n",
       "      <th>hardship_length</th>\n",
       "      <th>hardship_dpd</th>\n",
       "      <th>orig_projected_additional_accrued_interest</th>\n",
       "      <th>hardship_payoff_balance_amount</th>\n",
       "      <th>hardship_last_payment_amount</th>\n",
       "      <th>settlement_amount</th>\n",
       "      <th>settlement_percentage</th>\n",
       "      <th>settlement_term</th>\n",
       "    </tr>\n",
       "  </thead>\n",
       "  <tbody>\n",
       "    <tr>\n",
       "      <th>count</th>\n",
       "      <td>0.0</td>\n",
       "      <td>2.260668e+06</td>\n",
       "      <td>2.260668e+06</td>\n",
       "      <td>2.260668e+06</td>\n",
       "      <td>2.260668e+06</td>\n",
       "      <td>2.260668e+06</td>\n",
       "      <td>2.260664e+06</td>\n",
       "      <td>2.258957e+06</td>\n",
       "      <td>2.260639e+06</td>\n",
       "      <td>2.260668e+06</td>\n",
       "      <td>...</td>\n",
       "      <td>10917.0</td>\n",
       "      <td>10917.000000</td>\n",
       "      <td>10917.0</td>\n",
       "      <td>10917.000000</td>\n",
       "      <td>8651.000000</td>\n",
       "      <td>10917.000000</td>\n",
       "      <td>10917.000000</td>\n",
       "      <td>34246.000000</td>\n",
       "      <td>34246.000000</td>\n",
       "      <td>34246.000000</td>\n",
       "    </tr>\n",
       "    <tr>\n",
       "      <th>mean</th>\n",
       "      <td>NaN</td>\n",
       "      <td>1.504693e+04</td>\n",
       "      <td>1.504166e+04</td>\n",
       "      <td>1.502344e+04</td>\n",
       "      <td>1.309283e+01</td>\n",
       "      <td>4.458068e+02</td>\n",
       "      <td>7.799243e+04</td>\n",
       "      <td>1.882420e+01</td>\n",
       "      <td>3.068792e-01</td>\n",
       "      <td>6.985882e+02</td>\n",
       "      <td>...</td>\n",
       "      <td>3.0</td>\n",
       "      <td>155.045981</td>\n",
       "      <td>3.0</td>\n",
       "      <td>13.743886</td>\n",
       "      <td>454.798089</td>\n",
       "      <td>11636.883942</td>\n",
       "      <td>193.994321</td>\n",
       "      <td>5010.664267</td>\n",
       "      <td>47.780365</td>\n",
       "      <td>13.191322</td>\n",
       "    </tr>\n",
       "    <tr>\n",
       "      <th>std</th>\n",
       "      <td>NaN</td>\n",
       "      <td>9.190245e+03</td>\n",
       "      <td>9.188413e+03</td>\n",
       "      <td>9.192332e+03</td>\n",
       "      <td>4.832138e+00</td>\n",
       "      <td>2.671735e+02</td>\n",
       "      <td>1.126962e+05</td>\n",
       "      <td>1.418333e+01</td>\n",
       "      <td>8.672303e-01</td>\n",
       "      <td>3.301038e+01</td>\n",
       "      <td>...</td>\n",
       "      <td>0.0</td>\n",
       "      <td>129.040594</td>\n",
       "      <td>0.0</td>\n",
       "      <td>9.671178</td>\n",
       "      <td>375.385500</td>\n",
       "      <td>7625.988281</td>\n",
       "      <td>198.629496</td>\n",
       "      <td>3693.122590</td>\n",
       "      <td>7.311822</td>\n",
       "      <td>8.159980</td>\n",
       "    </tr>\n",
       "    <tr>\n",
       "      <th>min</th>\n",
       "      <td>NaN</td>\n",
       "      <td>5.000000e+02</td>\n",
       "      <td>5.000000e+02</td>\n",
       "      <td>0.000000e+00</td>\n",
       "      <td>5.310000e+00</td>\n",
       "      <td>4.930000e+00</td>\n",
       "      <td>0.000000e+00</td>\n",
       "      <td>-1.000000e+00</td>\n",
       "      <td>0.000000e+00</td>\n",
       "      <td>6.100000e+02</td>\n",
       "      <td>...</td>\n",
       "      <td>3.0</td>\n",
       "      <td>0.640000</td>\n",
       "      <td>3.0</td>\n",
       "      <td>0.000000</td>\n",
       "      <td>1.920000</td>\n",
       "      <td>55.730000</td>\n",
       "      <td>0.010000</td>\n",
       "      <td>44.210000</td>\n",
       "      <td>0.200000</td>\n",
       "      <td>0.000000</td>\n",
       "    </tr>\n",
       "    <tr>\n",
       "      <th>25%</th>\n",
       "      <td>NaN</td>\n",
       "      <td>8.000000e+03</td>\n",
       "      <td>8.000000e+03</td>\n",
       "      <td>8.000000e+03</td>\n",
       "      <td>9.490000e+00</td>\n",
       "      <td>2.516500e+02</td>\n",
       "      <td>4.600000e+04</td>\n",
       "      <td>1.189000e+01</td>\n",
       "      <td>0.000000e+00</td>\n",
       "      <td>6.750000e+02</td>\n",
       "      <td>...</td>\n",
       "      <td>3.0</td>\n",
       "      <td>59.440000</td>\n",
       "      <td>3.0</td>\n",
       "      <td>5.000000</td>\n",
       "      <td>175.230000</td>\n",
       "      <td>5627.000000</td>\n",
       "      <td>44.440000</td>\n",
       "      <td>2208.000000</td>\n",
       "      <td>45.000000</td>\n",
       "      <td>6.000000</td>\n",
       "    </tr>\n",
       "    <tr>\n",
       "      <th>50%</th>\n",
       "      <td>NaN</td>\n",
       "      <td>1.290000e+04</td>\n",
       "      <td>1.287500e+04</td>\n",
       "      <td>1.280000e+04</td>\n",
       "      <td>1.262000e+01</td>\n",
       "      <td>3.779900e+02</td>\n",
       "      <td>6.500000e+04</td>\n",
       "      <td>1.784000e+01</td>\n",
       "      <td>0.000000e+00</td>\n",
       "      <td>6.900000e+02</td>\n",
       "      <td>...</td>\n",
       "      <td>3.0</td>\n",
       "      <td>119.140000</td>\n",
       "      <td>3.0</td>\n",
       "      <td>15.000000</td>\n",
       "      <td>352.770000</td>\n",
       "      <td>10028.390000</td>\n",
       "      <td>133.160000</td>\n",
       "      <td>4146.110000</td>\n",
       "      <td>45.000000</td>\n",
       "      <td>14.000000</td>\n",
       "    </tr>\n",
       "    <tr>\n",
       "      <th>75%</th>\n",
       "      <td>NaN</td>\n",
       "      <td>2.000000e+04</td>\n",
       "      <td>2.000000e+04</td>\n",
       "      <td>2.000000e+04</td>\n",
       "      <td>1.599000e+01</td>\n",
       "      <td>5.933200e+02</td>\n",
       "      <td>9.300000e+04</td>\n",
       "      <td>2.449000e+01</td>\n",
       "      <td>0.000000e+00</td>\n",
       "      <td>7.150000e+02</td>\n",
       "      <td>...</td>\n",
       "      <td>3.0</td>\n",
       "      <td>213.260000</td>\n",
       "      <td>3.0</td>\n",
       "      <td>22.000000</td>\n",
       "      <td>620.175000</td>\n",
       "      <td>16151.890000</td>\n",
       "      <td>284.190000</td>\n",
       "      <td>6850.172500</td>\n",
       "      <td>50.000000</td>\n",
       "      <td>18.000000</td>\n",
       "    </tr>\n",
       "    <tr>\n",
       "      <th>max</th>\n",
       "      <td>NaN</td>\n",
       "      <td>4.000000e+04</td>\n",
       "      <td>4.000000e+04</td>\n",
       "      <td>4.000000e+04</td>\n",
       "      <td>3.099000e+01</td>\n",
       "      <td>1.719830e+03</td>\n",
       "      <td>1.100000e+08</td>\n",
       "      <td>9.990000e+02</td>\n",
       "      <td>5.800000e+01</td>\n",
       "      <td>8.450000e+02</td>\n",
       "      <td>...</td>\n",
       "      <td>3.0</td>\n",
       "      <td>943.940000</td>\n",
       "      <td>3.0</td>\n",
       "      <td>37.000000</td>\n",
       "      <td>2680.890000</td>\n",
       "      <td>40306.410000</td>\n",
       "      <td>1407.860000</td>\n",
       "      <td>33601.000000</td>\n",
       "      <td>521.350000</td>\n",
       "      <td>181.000000</td>\n",
       "    </tr>\n",
       "  </tbody>\n",
       "</table>\n",
       "<p>8 rows × 113 columns</p>\n",
       "</div>"
      ],
      "text/plain": [
       "       member_id     loan_amnt   funded_amnt  funded_amnt_inv      int_rate  \\\n",
       "count        0.0  2.260668e+06  2.260668e+06     2.260668e+06  2.260668e+06   \n",
       "mean         NaN  1.504693e+04  1.504166e+04     1.502344e+04  1.309283e+01   \n",
       "std          NaN  9.190245e+03  9.188413e+03     9.192332e+03  4.832138e+00   \n",
       "min          NaN  5.000000e+02  5.000000e+02     0.000000e+00  5.310000e+00   \n",
       "25%          NaN  8.000000e+03  8.000000e+03     8.000000e+03  9.490000e+00   \n",
       "50%          NaN  1.290000e+04  1.287500e+04     1.280000e+04  1.262000e+01   \n",
       "75%          NaN  2.000000e+04  2.000000e+04     2.000000e+04  1.599000e+01   \n",
       "max          NaN  4.000000e+04  4.000000e+04     4.000000e+04  3.099000e+01   \n",
       "\n",
       "        installment    annual_inc           dti   delinq_2yrs  fico_range_low  \\\n",
       "count  2.260668e+06  2.260664e+06  2.258957e+06  2.260639e+06    2.260668e+06   \n",
       "mean   4.458068e+02  7.799243e+04  1.882420e+01  3.068792e-01    6.985882e+02   \n",
       "std    2.671735e+02  1.126962e+05  1.418333e+01  8.672303e-01    3.301038e+01   \n",
       "min    4.930000e+00  0.000000e+00 -1.000000e+00  0.000000e+00    6.100000e+02   \n",
       "25%    2.516500e+02  4.600000e+04  1.189000e+01  0.000000e+00    6.750000e+02   \n",
       "50%    3.779900e+02  6.500000e+04  1.784000e+01  0.000000e+00    6.900000e+02   \n",
       "75%    5.933200e+02  9.300000e+04  2.449000e+01  0.000000e+00    7.150000e+02   \n",
       "max    1.719830e+03  1.100000e+08  9.990000e+02  5.800000e+01    8.450000e+02   \n",
       "\n",
       "       ...  deferral_term  hardship_amount  hardship_length  hardship_dpd  \\\n",
       "count  ...        10917.0     10917.000000          10917.0  10917.000000   \n",
       "mean   ...            3.0       155.045981              3.0     13.743886   \n",
       "std    ...            0.0       129.040594              0.0      9.671178   \n",
       "min    ...            3.0         0.640000              3.0      0.000000   \n",
       "25%    ...            3.0        59.440000              3.0      5.000000   \n",
       "50%    ...            3.0       119.140000              3.0     15.000000   \n",
       "75%    ...            3.0       213.260000              3.0     22.000000   \n",
       "max    ...            3.0       943.940000              3.0     37.000000   \n",
       "\n",
       "       orig_projected_additional_accrued_interest  \\\n",
       "count                                 8651.000000   \n",
       "mean                                   454.798089   \n",
       "std                                    375.385500   \n",
       "min                                      1.920000   \n",
       "25%                                    175.230000   \n",
       "50%                                    352.770000   \n",
       "75%                                    620.175000   \n",
       "max                                   2680.890000   \n",
       "\n",
       "       hardship_payoff_balance_amount  hardship_last_payment_amount  \\\n",
       "count                    10917.000000                  10917.000000   \n",
       "mean                     11636.883942                    193.994321   \n",
       "std                       7625.988281                    198.629496   \n",
       "min                         55.730000                      0.010000   \n",
       "25%                       5627.000000                     44.440000   \n",
       "50%                      10028.390000                    133.160000   \n",
       "75%                      16151.890000                    284.190000   \n",
       "max                      40306.410000                   1407.860000   \n",
       "\n",
       "       settlement_amount  settlement_percentage  settlement_term  \n",
       "count       34246.000000           34246.000000     34246.000000  \n",
       "mean         5010.664267              47.780365        13.191322  \n",
       "std          3693.122590               7.311822         8.159980  \n",
       "min            44.210000               0.200000         0.000000  \n",
       "25%          2208.000000              45.000000         6.000000  \n",
       "50%          4146.110000              45.000000        14.000000  \n",
       "75%          6850.172500              50.000000        18.000000  \n",
       "max         33601.000000             521.350000       181.000000  \n",
       "\n",
       "[8 rows x 113 columns]"
      ]
     },
     "execution_count": 13,
     "metadata": {},
     "output_type": "execute_result"
    }
   ],
   "source": [
    "data.describe()"
   ]
  },
  {
   "cell_type": "code",
   "execution_count": 14,
   "metadata": {},
   "outputs": [
    {
     "name": "stdout",
     "output_type": "stream",
     "text": [
      "The Average Interest Rate is: 13.09%\n",
      "The Average Loan amount is: 15046.93$\n"
     ]
    }
   ],
   "source": [
    "avg_rate = data['int_rate'].mean()\n",
    "avg_rate = round((avg_rate),2)\n",
    "print(f'The Average Interest Rate is: {avg_rate}%')\n",
    "\n",
    "avg_loan = data['loan_amnt'].mean()\n",
    "avg_loan = round((avg_loan),2)\n",
    "print(f'The Average Loan amount is: {avg_loan}$')"
   ]
  },
  {
   "cell_type": "markdown",
   "metadata": {},
   "source": [
    "**FINDINGS:** Using the `describe` method, it is evident that several columns contain a significant number of missing values. Outliers are also present, particularly in the `annual_inc` (Reported Annual Income) column, which will require attention before proceeding with modeling. The `id`, `member_id`, and `url` columns can be dropped immediately, as they provide no meaningful information, as confirmed by consulting the data dictionary. Additionally, some individuals have reported an annual income of 0, which could be noteworthy and warrants further investigation."
   ]
  },
  {
   "cell_type": "markdown",
   "metadata": {},
   "source": [
    "## Defining the Target Features\n"
   ]
  },
  {
   "cell_type": "code",
   "execution_count": 15,
   "metadata": {
    "scrolled": true
   },
   "outputs": [
    {
     "data": {
      "text/plain": [
       "loan_status\n",
       "Fully Paid                                             0.476298\n",
       "Current                                                0.388521\n",
       "Charged Off                                            0.118796\n",
       "Late (31-120 days)                                     0.009496\n",
       "In Grace Period                                        0.003732\n",
       "Late (16-30 days)                                      0.001924\n",
       "Does not meet the credit policy. Status:Fully Paid     0.000879\n",
       "Does not meet the credit policy. Status:Charged Off    0.000337\n",
       "Default                                                0.000018\n",
       "Name: proportion, dtype: float64"
      ]
     },
     "execution_count": 15,
     "metadata": {},
     "output_type": "execute_result"
    }
   ],
   "source": [
    "loans = data['loan_status'].value_counts(normalize=True)\n",
    "loans"
   ]
  },
  {
   "cell_type": "code",
   "execution_count": 16,
   "metadata": {},
   "outputs": [],
   "source": [
    "#applying the class definitions to the columns\n",
    "data = data.dropna(subset=['loan_status'])\n",
    "\n",
    "#using masking to exclude all loans that include 'Current' and 'In Grace Period' text in the fields\n",
    "data = data[data['loan_status'] != 'Current']\n",
    "data = data[data['loan_status'] != 'In Grace Period']\n",
    "\n",
    "#after dropping 'Current' and 'In Grace Period' the lambda function makes the rest of it easy!\n",
    "data['classes'] = data['loan_status'].apply(lambda x: 1 if 'Fully Paid' in x else 0)"
   ]
  },
  {
   "cell_type": "code",
   "execution_count": 17,
   "metadata": {},
   "outputs": [
    {
     "data": {
      "text/plain": [
       "classes\n",
       "1    0.785157\n",
       "0    0.214843\n",
       "Name: proportion, dtype: float64"
      ]
     },
     "execution_count": 17,
     "metadata": {},
     "output_type": "execute_result"
    }
   ],
   "source": [
    "classes = data['classes'].value_counts(normalize=True)\n",
    "classes"
   ]
  },
  {
   "cell_type": "code",
   "execution_count": 18,
   "metadata": {},
   "outputs": [
    {
     "data": {
      "text/plain": [
       "700.0929904688427"
      ]
     },
     "execution_count": 18,
     "metadata": {},
     "output_type": "execute_result"
    }
   ],
   "source": [
    "data['fico_range_high'].mean()"
   ]
  },
  {
   "cell_type": "code",
   "execution_count": 19,
   "metadata": {},
   "outputs": [
    {
     "data": {
      "text/plain": [
       "696.0928514500533"
      ]
     },
     "execution_count": 19,
     "metadata": {},
     "output_type": "execute_result"
    }
   ],
   "source": [
    "data['fico_range_low'].mean()"
   ]
  },
  {
   "cell_type": "code",
   "execution_count": 20,
   "metadata": {},
   "outputs": [
    {
     "data": {
      "image/png": "[encoded data removed]",
      "text/plain": [
       "<Figure size 640x480 with 1 Axes>"
      ]
     },
     "metadata": {},
     "output_type": "display_data"
    }
   ],
   "source": [
    "data['classes'].hist(bins=3)\n",
    "plt.title('Loan Status', size=20);\n",
    "plt.xlabel('Status', size= 12);\n",
    "plt.ylabel('Quantity', size=12);"
   ]
  },
  {
   "cell_type": "markdown",
   "metadata": {},
   "source": [
    "## Dropping specific columns\n",
    "This dataset contains an extensive number of features, many of which are redundant or overlapping. The following features have been identified for removal:\n",
    "\n",
    "- id, member_id, and url: These columns provide no meaningful information.\n",
    "- all hardship-related columns: These are redundant, as a binary flag already exists to indicate hardship status.\n",
    "- all secondary applicant columns: The application_type column sufficiently signifies whether the application was joint or single.\n",
    "- all settlement-related columns: These columns are unnecessary because loans not fully paid off are already reflected in the settlement status.\n",
    "- columns with more than 70% missing values: To maintain data integrity, no imputed values will be added to replace the missing data."
   ]
  },
  {
   "cell_type": "code",
   "execution_count": 21,
   "metadata": {},
   "outputs": [
    {
     "data": {
      "text/plain": [
       "id                             0\n",
       "member_id                1373915\n",
       "loan_amnt                      0\n",
       "funded_amnt                    0\n",
       "funded_amnt_inv                0\n",
       "                          ...   \n",
       "settlement_date          1339707\n",
       "settlement_amount        1339707\n",
       "settlement_percentage    1339707\n",
       "settlement_term          1339707\n",
       "classes                        0\n",
       "Length: 152, dtype: int64"
      ]
     },
     "execution_count": 21,
     "metadata": {},
     "output_type": "execute_result"
    }
   ],
   "source": [
    "data.isnull().sum()"
   ]
  },
  {
   "cell_type": "code",
   "execution_count": 22,
   "metadata": {},
   "outputs": [
    {
     "data": {
      "text/plain": [
       "71696984"
      ]
     },
     "execution_count": 22,
     "metadata": {},
     "output_type": "execute_result"
    }
   ],
   "source": [
    "data.isnull().sum().sum()"
   ]
  },
  {
   "cell_type": "code",
   "execution_count": 23,
   "metadata": {
    "scrolled": true
   },
   "outputs": [],
   "source": [
    "data = data.drop(columns= ['id', 'member_id', 'url', 'policy_code'])"
   ]
  },
  {
   "cell_type": "code",
   "execution_count": 24,
   "metadata": {
    "scrolled": true
   },
   "outputs": [],
   "source": [
    "data = data.drop(columns=['loan_status'])"
   ]
  },
  {
   "cell_type": "code",
   "execution_count": 25,
   "metadata": {},
   "outputs": [],
   "source": [
    "data = data.drop(columns=['zip_code','sub_grade','mths_since_last_record','mths_since_last_delinq', 'mths_since_recent_bc_dlq','mths_since_recent_bc',\n",
    "                          'mths_since_recent_inq', 'mths_since_recent_revol_delinq', 'mo_sin_old_il_acct',\n",
    "                          'mo_sin_old_rev_tl_op', 'mo_sin_rcnt_rev_tl_op', 'mo_sin_rcnt_tl', 'last_credit_pull_d'])"
   ]
  },
  {
   "cell_type": "code",
   "execution_count": 26,
   "metadata": {
    "scrolled": true
   },
   "outputs": [],
   "source": [
    "data = data.drop(columns=['last_pymnt_d', 'next_pymnt_d','total_bal_il', 'total_bc_limit', 'total_cu_tl',\n",
    "                          'total_pymnt', 'total_pymnt_inv', 'total_rec_int',\n",
    "                          'total_rec_late_fee', 'total_rec_prncp', 'total_rev_hi_lim', 'initial_list_status'])"
   ]
  },
  {
   "cell_type": "code",
   "execution_count": 27,
   "metadata": {
    "scrolled": true
   },
   "outputs": [],
   "source": [
    "# All of the hardship data has been reduced to whether or not there was a payment plan present\n",
    "data = data.drop(columns=['debt_settlement_flag_date', 'hardship_type',\n",
    "                          'hardship_reason', 'hardship_status', \n",
    "                          'hardship_amount', 'hardship_start_date',\n",
    "                          'hardship_end_date', 'payment_plan_start_date', 'hardship_length',\n",
    "                          'hardship_dpd', 'hardship_loan_status', 'deferral_term',\n",
    "                          'orig_projected_additional_accrued_interest',\n",
    "                          'hardship_payoff_balance_amount', 'hardship_last_payment_amount'])"
   ]
  },
  {
   "cell_type": "code",
   "execution_count": 28,
   "metadata": {},
   "outputs": [],
   "source": [
    "# all of these features are reduced to the 'application_type' which binarizes between single and joint applicant\n",
    "data = data.drop(columns=['sec_app_earliest_cr_line',\n",
    "                          'revol_bal_joint','verification_status_joint', 'dti_joint', 'annual_inc_joint',\n",
    "                          'sec_app_inq_last_6mths', 'sec_app_mort_acc',\n",
    "                          'sec_app_open_acc', 'sec_app_revol_util','sec_app_open_act_il',\n",
    "                          'sec_app_num_rev_accts', 'sec_app_chargeoff_within_12_mths',\n",
    "                          'sec_app_collections_12_mths_ex_med', 'sec_app_mths_since_last_major_derog', 'sec_app_fico_range_low', 'sec_app_fico_range_high' ])"
   ]
  },
  {
   "cell_type": "code",
   "execution_count": 29,
   "metadata": {},
   "outputs": [],
   "source": [
    "data = data.drop(columns=['all_util', 'open_acc_6m', 'inq_last_12m', 'open_act_il', \n",
    "                          'open_il_12m', 'open_il_24m', 'open_rv_12m', 'open_rv_24m', \n",
    "                          'inq_fi', 'max_bal_bc', 'mths_since_last_major_derog',\n",
    "                          'il_util', 'num_tl_120dpd_2m', 'mths_since_rcnt_il'])\n"
   ]
  },
  {
   "cell_type": "code",
   "execution_count": 30,
   "metadata": {},
   "outputs": [],
   "source": [
    "#similar to prior groupings, one feature 'settlement_flag' represents these features in order to reduce complexity\n",
    "data= data.drop(columns=['settlement_status', 'settlement_date',\n",
    "                         'settlement_amount', 'settlement_percentage', 'settlement_term'])"
   ]
  },
  {
   "cell_type": "markdown",
   "metadata": {},
   "source": [
    "## Checking Correlations"
   ]
  },
  {
   "cell_type": "code",
   "execution_count": 31,
   "metadata": {
    "scrolled": true
   },
   "outputs": [
    {
     "data": {
      "text/html": [
       "<div>\n",
       "<style scoped>\n",
       "    .dataframe tbody tr th:only-of-type {\n",
       "        vertical-align: middle;\n",
       "    }\n",
       "\n",
       "    .dataframe tbody tr th {\n",
       "        vertical-align: top;\n",
       "    }\n",
       "\n",
       "    .dataframe thead th {\n",
       "        text-align: right;\n",
       "    }\n",
       "</style>\n",
       "<table border=\"1\" class=\"dataframe\">\n",
       "  <thead>\n",
       "    <tr style=\"text-align: right;\">\n",
       "      <th></th>\n",
       "      <th>loan_amnt</th>\n",
       "      <th>funded_amnt</th>\n",
       "      <th>funded_amnt_inv</th>\n",
       "      <th>int_rate</th>\n",
       "      <th>installment</th>\n",
       "      <th>annual_inc</th>\n",
       "      <th>dti</th>\n",
       "      <th>delinq_2yrs</th>\n",
       "      <th>fico_range_low</th>\n",
       "      <th>fico_range_high</th>\n",
       "      <th>...</th>\n",
       "      <th>num_tl_90g_dpd_24m</th>\n",
       "      <th>num_tl_op_past_12m</th>\n",
       "      <th>pct_tl_nvr_dlq</th>\n",
       "      <th>percent_bc_gt_75</th>\n",
       "      <th>pub_rec_bankruptcies</th>\n",
       "      <th>tax_liens</th>\n",
       "      <th>tot_hi_cred_lim</th>\n",
       "      <th>total_bal_ex_mort</th>\n",
       "      <th>total_il_high_credit_limit</th>\n",
       "      <th>classes</th>\n",
       "    </tr>\n",
       "  </thead>\n",
       "  <tbody>\n",
       "    <tr>\n",
       "      <th>loan_amnt</th>\n",
       "      <td>1.000000</td>\n",
       "      <td>0.999556</td>\n",
       "      <td>0.998259</td>\n",
       "      <td>0.142477</td>\n",
       "      <td>0.953021</td>\n",
       "      <td>0.309873</td>\n",
       "      <td>0.032195</td>\n",
       "      <td>-0.002138</td>\n",
       "      <td>0.101643</td>\n",
       "      <td>0.101642</td>\n",
       "      <td>...</td>\n",
       "      <td>-0.021811</td>\n",
       "      <td>-0.020131</td>\n",
       "      <td>0.087934</td>\n",
       "      <td>0.020342</td>\n",
       "      <td>-0.092956</td>\n",
       "      <td>0.007817</td>\n",
       "      <td>0.334170</td>\n",
       "      <td>0.275413</td>\n",
       "      <td>0.200318</td>\n",
       "      <td>-0.072908</td>\n",
       "    </tr>\n",
       "    <tr>\n",
       "      <th>funded_amnt</th>\n",
       "      <td>0.999556</td>\n",
       "      <td>1.000000</td>\n",
       "      <td>0.998808</td>\n",
       "      <td>0.142571</td>\n",
       "      <td>0.953674</td>\n",
       "      <td>0.309765</td>\n",
       "      <td>0.032588</td>\n",
       "      <td>-0.001945</td>\n",
       "      <td>0.100813</td>\n",
       "      <td>0.100812</td>\n",
       "      <td>...</td>\n",
       "      <td>-0.021812</td>\n",
       "      <td>-0.020133</td>\n",
       "      <td>0.087934</td>\n",
       "      <td>0.020341</td>\n",
       "      <td>-0.092761</td>\n",
       "      <td>0.007949</td>\n",
       "      <td>0.334169</td>\n",
       "      <td>0.275413</td>\n",
       "      <td>0.200315</td>\n",
       "      <td>-0.072978</td>\n",
       "    </tr>\n",
       "    <tr>\n",
       "      <th>funded_amnt_inv</th>\n",
       "      <td>0.998259</td>\n",
       "      <td>0.998808</td>\n",
       "      <td>1.000000</td>\n",
       "      <td>0.142661</td>\n",
       "      <td>0.952313</td>\n",
       "      <td>0.309242</td>\n",
       "      <td>0.033657</td>\n",
       "      <td>-0.001645</td>\n",
       "      <td>0.100030</td>\n",
       "      <td>0.100029</td>\n",
       "      <td>...</td>\n",
       "      <td>-0.021826</td>\n",
       "      <td>-0.020149</td>\n",
       "      <td>0.087948</td>\n",
       "      <td>0.020290</td>\n",
       "      <td>-0.092393</td>\n",
       "      <td>0.008243</td>\n",
       "      <td>0.334197</td>\n",
       "      <td>0.275419</td>\n",
       "      <td>0.200319</td>\n",
       "      <td>-0.072597</td>\n",
       "    </tr>\n",
       "    <tr>\n",
       "      <th>int_rate</th>\n",
       "      <td>0.142477</td>\n",
       "      <td>0.142571</td>\n",
       "      <td>0.142661</td>\n",
       "      <td>1.000000</td>\n",
       "      <td>0.155666</td>\n",
       "      <td>-0.071362</td>\n",
       "      <td>0.146165</td>\n",
       "      <td>0.047965</td>\n",
       "      <td>-0.403169</td>\n",
       "      <td>-0.403166</td>\n",
       "      <td>...</td>\n",
       "      <td>0.026583</td>\n",
       "      <td>0.206641</td>\n",
       "      <td>-0.063701</td>\n",
       "      <td>0.248037</td>\n",
       "      <td>0.058580</td>\n",
       "      <td>0.011477</td>\n",
       "      <td>-0.118486</td>\n",
       "      <td>0.004525</td>\n",
       "      <td>-0.002747</td>\n",
       "      <td>-0.263577</td>\n",
       "    </tr>\n",
       "    <tr>\n",
       "      <th>installment</th>\n",
       "      <td>0.953021</td>\n",
       "      <td>0.953674</td>\n",
       "      <td>0.952313</td>\n",
       "      <td>0.155666</td>\n",
       "      <td>1.000000</td>\n",
       "      <td>0.300753</td>\n",
       "      <td>0.035986</td>\n",
       "      <td>0.007124</td>\n",
       "      <td>0.051494</td>\n",
       "      <td>0.051493</td>\n",
       "      <td>...</td>\n",
       "      <td>-0.016399</td>\n",
       "      <td>0.000162</td>\n",
       "      <td>0.070509</td>\n",
       "      <td>0.040028</td>\n",
       "      <td>-0.085199</td>\n",
       "      <td>0.014752</td>\n",
       "      <td>0.301477</td>\n",
       "      <td>0.260119</td>\n",
       "      <td>0.185541</td>\n",
       "      <td>-0.057873</td>\n",
       "    </tr>\n",
       "    <tr>\n",
       "      <th>annual_inc</th>\n",
       "      <td>0.309873</td>\n",
       "      <td>0.309765</td>\n",
       "      <td>0.309242</td>\n",
       "      <td>-0.071362</td>\n",
       "      <td>0.300753</td>\n",
       "      <td>1.000000</td>\n",
       "      <td>-0.139055</td>\n",
       "      <td>0.040924</td>\n",
       "      <td>0.069903</td>\n",
       "      <td>0.069904</td>\n",
       "      <td>...</td>\n",
       "      <td>0.007510</td>\n",
       "      <td>0.052413</td>\n",
       "      <td>-0.007275</td>\n",
       "      <td>-0.016370</td>\n",
       "      <td>-0.043951</td>\n",
       "      <td>0.037793</td>\n",
       "      <td>0.408800</td>\n",
       "      <td>0.315126</td>\n",
       "      <td>0.262025</td>\n",
       "      <td>0.039071</td>\n",
       "    </tr>\n",
       "    <tr>\n",
       "      <th>dti</th>\n",
       "      <td>0.032195</td>\n",
       "      <td>0.032588</td>\n",
       "      <td>0.033657</td>\n",
       "      <td>0.146165</td>\n",
       "      <td>0.035986</td>\n",
       "      <td>-0.139055</td>\n",
       "      <td>1.000000</td>\n",
       "      <td>-0.008023</td>\n",
       "      <td>-0.060032</td>\n",
       "      <td>-0.060035</td>\n",
       "      <td>...</td>\n",
       "      <td>-0.013967</td>\n",
       "      <td>0.068868</td>\n",
       "      <td>0.072104</td>\n",
       "      <td>0.127592</td>\n",
       "      <td>-0.016726</td>\n",
       "      <td>-0.022822</td>\n",
       "      <td>0.015190</td>\n",
       "      <td>0.223567</td>\n",
       "      <td>0.252218</td>\n",
       "      <td>-0.084895</td>\n",
       "    </tr>\n",
       "    <tr>\n",
       "      <th>delinq_2yrs</th>\n",
       "      <td>-0.002138</td>\n",
       "      <td>-0.001945</td>\n",
       "      <td>-0.001645</td>\n",
       "      <td>0.047965</td>\n",
       "      <td>0.007124</td>\n",
       "      <td>0.040924</td>\n",
       "      <td>-0.008023</td>\n",
       "      <td>1.000000</td>\n",
       "      <td>-0.174090</td>\n",
       "      <td>-0.174088</td>\n",
       "      <td>...</td>\n",
       "      <td>0.656164</td>\n",
       "      <td>-0.025121</td>\n",
       "      <td>-0.444748</td>\n",
       "      <td>-0.010852</td>\n",
       "      <td>-0.047360</td>\n",
       "      <td>0.011169</td>\n",
       "      <td>0.058910</td>\n",
       "      <td>0.032243</td>\n",
       "      <td>0.062321</td>\n",
       "      <td>-0.020347</td>\n",
       "    </tr>\n",
       "    <tr>\n",
       "      <th>fico_range_low</th>\n",
       "      <td>0.101643</td>\n",
       "      <td>0.100813</td>\n",
       "      <td>0.100030</td>\n",
       "      <td>-0.403169</td>\n",
       "      <td>0.051494</td>\n",
       "      <td>0.069903</td>\n",
       "      <td>-0.060032</td>\n",
       "      <td>-0.174090</td>\n",
       "      <td>1.000000</td>\n",
       "      <td>1.000000</td>\n",
       "      <td>...</td>\n",
       "      <td>-0.101882</td>\n",
       "      <td>-0.092465</td>\n",
       "      <td>0.300555</td>\n",
       "      <td>-0.410429</td>\n",
       "      <td>-0.202539</td>\n",
       "      <td>-0.057341</td>\n",
       "      <td>0.195576</td>\n",
       "      <td>0.031953</td>\n",
       "      <td>0.062800</td>\n",
       "      <td>0.129188</td>\n",
       "    </tr>\n",
       "    <tr>\n",
       "      <th>fico_range_high</th>\n",
       "      <td>0.101642</td>\n",
       "      <td>0.100812</td>\n",
       "      <td>0.100029</td>\n",
       "      <td>-0.403166</td>\n",
       "      <td>0.051493</td>\n",
       "      <td>0.069904</td>\n",
       "      <td>-0.060035</td>\n",
       "      <td>-0.174088</td>\n",
       "      <td>1.000000</td>\n",
       "      <td>1.000000</td>\n",
       "      <td>...</td>\n",
       "      <td>-0.101881</td>\n",
       "      <td>-0.092467</td>\n",
       "      <td>0.300552</td>\n",
       "      <td>-0.410426</td>\n",
       "      <td>-0.202536</td>\n",
       "      <td>-0.057341</td>\n",
       "      <td>0.195577</td>\n",
       "      <td>0.031951</td>\n",
       "      <td>0.062798</td>\n",
       "      <td>0.129186</td>\n",
       "    </tr>\n",
       "    <tr>\n",
       "      <th>inq_last_6mths</th>\n",
       "      <td>-0.019264</td>\n",
       "      <td>-0.019645</td>\n",
       "      <td>-0.022477</td>\n",
       "      <td>0.209321</td>\n",
       "      <td>0.002737</td>\n",
       "      <td>0.031598</td>\n",
       "      <td>-0.009542</td>\n",
       "      <td>0.022412</td>\n",
       "      <td>-0.086113</td>\n",
       "      <td>-0.086113</td>\n",
       "      <td>...</td>\n",
       "      <td>0.031360</td>\n",
       "      <td>0.316861</td>\n",
       "      <td>-0.032253</td>\n",
       "      <td>-0.067344</td>\n",
       "      <td>0.073295</td>\n",
       "      <td>0.008850</td>\n",
       "      <td>0.030790</td>\n",
       "      <td>0.036628</td>\n",
       "      <td>0.044760</td>\n",
       "      <td>-0.061624</td>\n",
       "    </tr>\n",
       "    <tr>\n",
       "      <th>open_acc</th>\n",
       "      <td>0.185681</td>\n",
       "      <td>0.185981</td>\n",
       "      <td>0.186387</td>\n",
       "      <td>-0.004353</td>\n",
       "      <td>0.176024</td>\n",
       "      <td>0.134801</td>\n",
       "      <td>0.222143</td>\n",
       "      <td>0.052478</td>\n",
       "      <td>0.017038</td>\n",
       "      <td>0.017037</td>\n",
       "      <td>...</td>\n",
       "      <td>0.011561</td>\n",
       "      <td>0.367172</td>\n",
       "      <td>0.109034</td>\n",
       "      <td>-0.095612</td>\n",
       "      <td>-0.021868</td>\n",
       "      <td>-0.004509</td>\n",
       "      <td>0.281847</td>\n",
       "      <td>0.400299</td>\n",
       "      <td>0.361762</td>\n",
       "      <td>-0.026775</td>\n",
       "    </tr>\n",
       "    <tr>\n",
       "      <th>pub_rec</th>\n",
       "      <td>-0.064388</td>\n",
       "      <td>-0.064146</td>\n",
       "      <td>-0.063475</td>\n",
       "      <td>0.052233</td>\n",
       "      <td>-0.052988</td>\n",
       "      <td>-0.004803</td>\n",
       "      <td>-0.030566</td>\n",
       "      <td>-0.020327</td>\n",
       "      <td>-0.191011</td>\n",
       "      <td>-0.191009</td>\n",
       "      <td>...</td>\n",
       "      <td>-0.000668</td>\n",
       "      <td>0.083674</td>\n",
       "      <td>-0.026497</td>\n",
       "      <td>-0.044444</td>\n",
       "      <td>0.647560</td>\n",
       "      <td>0.701350</td>\n",
       "      <td>-0.075084</td>\n",
       "      <td>-0.058000</td>\n",
       "      <td>-0.022949</td>\n",
       "      <td>-0.026086</td>\n",
       "    </tr>\n",
       "    <tr>\n",
       "      <th>revol_bal</th>\n",
       "      <td>0.314501</td>\n",
       "      <td>0.314379</td>\n",
       "      <td>0.313296</td>\n",
       "      <td>-0.028264</td>\n",
       "      <td>0.303342</td>\n",
       "      <td>0.284923</td>\n",
       "      <td>0.107710</td>\n",
       "      <td>-0.027881</td>\n",
       "      <td>0.025751</td>\n",
       "      <td>0.025749</td>\n",
       "      <td>...</td>\n",
       "      <td>-0.033468</td>\n",
       "      <td>-0.025593</td>\n",
       "      <td>0.114909</td>\n",
       "      <td>0.128369</td>\n",
       "      <td>-0.115992</td>\n",
       "      <td>-0.012126</td>\n",
       "      <td>0.463819</td>\n",
       "      <td>0.504233</td>\n",
       "      <td>0.119308</td>\n",
       "      <td>0.020725</td>\n",
       "    </tr>\n",
       "    <tr>\n",
       "      <th>revol_util</th>\n",
       "      <td>0.106218</td>\n",
       "      <td>0.106383</td>\n",
       "      <td>0.106490</td>\n",
       "      <td>0.240323</td>\n",
       "      <td>0.124952</td>\n",
       "      <td>0.035590</td>\n",
       "      <td>0.139436</td>\n",
       "      <td>-0.011202</td>\n",
       "      <td>-0.459067</td>\n",
       "      <td>-0.459066</td>\n",
       "      <td>...</td>\n",
       "      <td>-0.011085</td>\n",
       "      <td>-0.218025</td>\n",
       "      <td>-0.016431</td>\n",
       "      <td>0.727165</td>\n",
       "      <td>-0.085778</td>\n",
       "      <td>-0.011014</td>\n",
       "      <td>0.027776</td>\n",
       "      <td>0.120968</td>\n",
       "      <td>0.031970</td>\n",
       "      <td>-0.054068</td>\n",
       "    </tr>\n",
       "    <tr>\n",
       "      <th>total_acc</th>\n",
       "      <td>0.207573</td>\n",
       "      <td>0.207506</td>\n",
       "      <td>0.207591</td>\n",
       "      <td>-0.043344</td>\n",
       "      <td>0.184598</td>\n",
       "      <td>0.175246</td>\n",
       "      <td>0.171435</td>\n",
       "      <td>0.119579</td>\n",
       "      <td>0.020993</td>\n",
       "      <td>0.020992</td>\n",
       "      <td>...</td>\n",
       "      <td>0.070575</td>\n",
       "      <td>0.328138</td>\n",
       "      <td>0.016215</td>\n",
       "      <td>-0.071838</td>\n",
       "      <td>0.033614</td>\n",
       "      <td>-0.018891</td>\n",
       "      <td>0.334283</td>\n",
       "      <td>0.429953</td>\n",
       "      <td>0.417639</td>\n",
       "      <td>0.016556</td>\n",
       "    </tr>\n",
       "    <tr>\n",
       "      <th>out_prncp</th>\n",
       "      <td>0.109561</td>\n",
       "      <td>0.109717</td>\n",
       "      <td>0.109926</td>\n",
       "      <td>0.070006</td>\n",
       "      <td>0.095007</td>\n",
       "      <td>0.018582</td>\n",
       "      <td>0.018349</td>\n",
       "      <td>0.004917</td>\n",
       "      <td>0.000762</td>\n",
       "      <td>0.000763</td>\n",
       "      <td>...</td>\n",
       "      <td>0.000428</td>\n",
       "      <td>0.009914</td>\n",
       "      <td>-0.007197</td>\n",
       "      <td>-0.018080</td>\n",
       "      <td>0.002076</td>\n",
       "      <td>0.000629</td>\n",
       "      <td>0.009402</td>\n",
       "      <td>0.018527</td>\n",
       "      <td>0.021167</td>\n",
       "      <td>-0.211324</td>\n",
       "    </tr>\n",
       "    <tr>\n",
       "      <th>out_prncp_inv</th>\n",
       "      <td>0.109561</td>\n",
       "      <td>0.109717</td>\n",
       "      <td>0.109927</td>\n",
       "      <td>0.070007</td>\n",
       "      <td>0.095000</td>\n",
       "      <td>0.018583</td>\n",
       "      <td>0.018346</td>\n",
       "      <td>0.004915</td>\n",
       "      <td>0.000766</td>\n",
       "      <td>0.000767</td>\n",
       "      <td>...</td>\n",
       "      <td>0.000429</td>\n",
       "      <td>0.009911</td>\n",
       "      <td>-0.007196</td>\n",
       "      <td>-0.018081</td>\n",
       "      <td>0.002073</td>\n",
       "      <td>0.000629</td>\n",
       "      <td>0.009404</td>\n",
       "      <td>0.018527</td>\n",
       "      <td>0.021167</td>\n",
       "      <td>-0.211313</td>\n",
       "    </tr>\n",
       "    <tr>\n",
       "      <th>recoveries</th>\n",
       "      <td>0.187639</td>\n",
       "      <td>0.187775</td>\n",
       "      <td>0.187526</td>\n",
       "      <td>0.184337</td>\n",
       "      <td>0.168780</td>\n",
       "      <td>0.027375</td>\n",
       "      <td>0.047194</td>\n",
       "      <td>0.017965</td>\n",
       "      <td>-0.058543</td>\n",
       "      <td>-0.058543</td>\n",
       "      <td>...</td>\n",
       "      <td>0.004116</td>\n",
       "      <td>0.053904</td>\n",
       "      <td>0.000265</td>\n",
       "      <td>0.043822</td>\n",
       "      <td>-0.001641</td>\n",
       "      <td>0.004188</td>\n",
       "      <td>0.013300</td>\n",
       "      <td>0.048415</td>\n",
       "      <td>0.042282</td>\n",
       "      <td>-0.477313</td>\n",
       "    </tr>\n",
       "    <tr>\n",
       "      <th>collection_recovery_fee</th>\n",
       "      <td>0.179745</td>\n",
       "      <td>0.179954</td>\n",
       "      <td>0.179623</td>\n",
       "      <td>0.171063</td>\n",
       "      <td>0.162029</td>\n",
       "      <td>0.027231</td>\n",
       "      <td>0.047751</td>\n",
       "      <td>0.018590</td>\n",
       "      <td>-0.056584</td>\n",
       "      <td>-0.056583</td>\n",
       "      <td>...</td>\n",
       "      <td>0.004434</td>\n",
       "      <td>0.053707</td>\n",
       "      <td>-0.001048</td>\n",
       "      <td>0.040385</td>\n",
       "      <td>0.000369</td>\n",
       "      <td>0.004823</td>\n",
       "      <td>0.014091</td>\n",
       "      <td>0.049332</td>\n",
       "      <td>0.043495</td>\n",
       "      <td>-0.453070</td>\n",
       "    </tr>\n",
       "    <tr>\n",
       "      <th>last_pymnt_amnt</th>\n",
       "      <td>0.492016</td>\n",
       "      <td>0.492400</td>\n",
       "      <td>0.492682</td>\n",
       "      <td>0.079604</td>\n",
       "      <td>0.432396</td>\n",
       "      <td>0.177731</td>\n",
       "      <td>-0.002852</td>\n",
       "      <td>-0.016859</td>\n",
       "      <td>0.104774</td>\n",
       "      <td>0.104774</td>\n",
       "      <td>...</td>\n",
       "      <td>-0.017668</td>\n",
       "      <td>0.023831</td>\n",
       "      <td>0.057681</td>\n",
       "      <td>-0.049763</td>\n",
       "      <td>-0.025370</td>\n",
       "      <td>-0.010357</td>\n",
       "      <td>0.235021</td>\n",
       "      <td>0.157128</td>\n",
       "      <td>0.127177</td>\n",
       "      <td>0.358162</td>\n",
       "    </tr>\n",
       "    <tr>\n",
       "      <th>last_fico_range_high</th>\n",
       "      <td>0.048651</td>\n",
       "      <td>0.048420</td>\n",
       "      <td>0.048267</td>\n",
       "      <td>-0.348143</td>\n",
       "      <td>0.035247</td>\n",
       "      <td>0.066452</td>\n",
       "      <td>-0.074253</td>\n",
       "      <td>-0.072732</td>\n",
       "      <td>0.342210</td>\n",
       "      <td>0.342209</td>\n",
       "      <td>...</td>\n",
       "      <td>-0.038160</td>\n",
       "      <td>-0.122611</td>\n",
       "      <td>0.104086</td>\n",
       "      <td>-0.166494</td>\n",
       "      <td>-0.063487</td>\n",
       "      <td>-0.020133</td>\n",
       "      <td>0.139315</td>\n",
       "      <td>0.027659</td>\n",
       "      <td>0.020217</td>\n",
       "      <td>0.664926</td>\n",
       "    </tr>\n",
       "    <tr>\n",
       "      <th>last_fico_range_low</th>\n",
       "      <td>0.046008</td>\n",
       "      <td>0.045824</td>\n",
       "      <td>0.045783</td>\n",
       "      <td>-0.270077</td>\n",
       "      <td>0.036046</td>\n",
       "      <td>0.059827</td>\n",
       "      <td>-0.044970</td>\n",
       "      <td>-0.035930</td>\n",
       "      <td>0.245194</td>\n",
       "      <td>0.245193</td>\n",
       "      <td>...</td>\n",
       "      <td>-0.020406</td>\n",
       "      <td>-0.089385</td>\n",
       "      <td>0.058719</td>\n",
       "      <td>-0.113356</td>\n",
       "      <td>-0.049310</td>\n",
       "      <td>-0.017056</td>\n",
       "      <td>0.126286</td>\n",
       "      <td>0.044595</td>\n",
       "      <td>0.038831</td>\n",
       "      <td>0.567334</td>\n",
       "    </tr>\n",
       "    <tr>\n",
       "      <th>collections_12_mths_ex_med</th>\n",
       "      <td>-0.017797</td>\n",
       "      <td>-0.017690</td>\n",
       "      <td>-0.017403</td>\n",
       "      <td>0.015452</td>\n",
       "      <td>-0.014181</td>\n",
       "      <td>-0.003954</td>\n",
       "      <td>-0.003189</td>\n",
       "      <td>0.071017</td>\n",
       "      <td>-0.069024</td>\n",
       "      <td>-0.069023</td>\n",
       "      <td>...</td>\n",
       "      <td>0.104698</td>\n",
       "      <td>0.014081</td>\n",
       "      <td>-0.046268</td>\n",
       "      <td>-0.032588</td>\n",
       "      <td>0.000134</td>\n",
       "      <td>0.012738</td>\n",
       "      <td>-0.011427</td>\n",
       "      <td>-0.010474</td>\n",
       "      <td>0.001188</td>\n",
       "      <td>-0.017173</td>\n",
       "    </tr>\n",
       "    <tr>\n",
       "      <th>acc_now_delinq</th>\n",
       "      <td>0.001500</td>\n",
       "      <td>0.001566</td>\n",
       "      <td>0.001684</td>\n",
       "      <td>0.016639</td>\n",
       "      <td>0.004239</td>\n",
       "      <td>0.013429</td>\n",
       "      <td>0.002823</td>\n",
       "      <td>0.123928</td>\n",
       "      <td>-0.039043</td>\n",
       "      <td>-0.039042</td>\n",
       "      <td>...</td>\n",
       "      <td>0.059901</td>\n",
       "      <td>-0.005989</td>\n",
       "      <td>-0.047552</td>\n",
       "      <td>-0.022940</td>\n",
       "      <td>-0.009200</td>\n",
       "      <td>0.007259</td>\n",
       "      <td>0.027202</td>\n",
       "      <td>0.009823</td>\n",
       "      <td>0.016494</td>\n",
       "      <td>-0.003277</td>\n",
       "    </tr>\n",
       "    <tr>\n",
       "      <th>tot_coll_amt</th>\n",
       "      <td>-0.003434</td>\n",
       "      <td>-0.003434</td>\n",
       "      <td>-0.003434</td>\n",
       "      <td>0.002360</td>\n",
       "      <td>-0.002896</td>\n",
       "      <td>0.000010</td>\n",
       "      <td>-0.002880</td>\n",
       "      <td>-0.000335</td>\n",
       "      <td>-0.015907</td>\n",
       "      <td>-0.015907</td>\n",
       "      <td>...</td>\n",
       "      <td>0.001009</td>\n",
       "      <td>0.004737</td>\n",
       "      <td>-0.014120</td>\n",
       "      <td>-0.006817</td>\n",
       "      <td>0.000495</td>\n",
       "      <td>0.002557</td>\n",
       "      <td>-0.001590</td>\n",
       "      <td>-0.001848</td>\n",
       "      <td>0.000953</td>\n",
       "      <td>0.000482</td>\n",
       "    </tr>\n",
       "    <tr>\n",
       "      <th>tot_cur_bal</th>\n",
       "      <td>0.313727</td>\n",
       "      <td>0.313727</td>\n",
       "      <td>0.313750</td>\n",
       "      <td>-0.084877</td>\n",
       "      <td>0.283254</td>\n",
       "      <td>0.395615</td>\n",
       "      <td>0.005928</td>\n",
       "      <td>0.057641</td>\n",
       "      <td>0.133941</td>\n",
       "      <td>0.133940</td>\n",
       "      <td>...</td>\n",
       "      <td>0.008401</td>\n",
       "      <td>0.084882</td>\n",
       "      <td>0.014382</td>\n",
       "      <td>0.027970</td>\n",
       "      <td>-0.097681</td>\n",
       "      <td>-0.002920</td>\n",
       "      <td>0.973010</td>\n",
       "      <td>0.518625</td>\n",
       "      <td>0.406836</td>\n",
       "      <td>0.070672</td>\n",
       "    </tr>\n",
       "    <tr>\n",
       "      <th>acc_open_past_24mths</th>\n",
       "      <td>0.009901</td>\n",
       "      <td>0.009902</td>\n",
       "      <td>0.009893</td>\n",
       "      <td>0.189125</td>\n",
       "      <td>0.023351</td>\n",
       "      <td>0.056872</td>\n",
       "      <td>0.117854</td>\n",
       "      <td>-0.054050</td>\n",
       "      <td>-0.101059</td>\n",
       "      <td>-0.101061</td>\n",
       "      <td>...</td>\n",
       "      <td>-0.032303</td>\n",
       "      <td>0.758237</td>\n",
       "      <td>0.059152</td>\n",
       "      <td>-0.163760</td>\n",
       "      <td>0.115018</td>\n",
       "      <td>0.014275</td>\n",
       "      <td>0.104902</td>\n",
       "      <td>0.160219</td>\n",
       "      <td>0.190003</td>\n",
       "      <td>-0.099427</td>\n",
       "    </tr>\n",
       "    <tr>\n",
       "      <th>avg_cur_bal</th>\n",
       "      <td>0.228813</td>\n",
       "      <td>0.228814</td>\n",
       "      <td>0.228835</td>\n",
       "      <td>-0.084062</td>\n",
       "      <td>0.202667</td>\n",
       "      <td>0.305661</td>\n",
       "      <td>-0.084362</td>\n",
       "      <td>0.044907</td>\n",
       "      <td>0.124878</td>\n",
       "      <td>0.124879</td>\n",
       "      <td>...</td>\n",
       "      <td>0.010646</td>\n",
       "      <td>-0.050049</td>\n",
       "      <td>-0.042943</td>\n",
       "      <td>0.058922</td>\n",
       "      <td>-0.081224</td>\n",
       "      <td>0.001055</td>\n",
       "      <td>0.794453</td>\n",
       "      <td>0.290178</td>\n",
       "      <td>0.206962</td>\n",
       "      <td>0.078310</td>\n",
       "    </tr>\n",
       "    <tr>\n",
       "      <th>bc_open_to_buy</th>\n",
       "      <td>0.198490</td>\n",
       "      <td>0.198497</td>\n",
       "      <td>0.198552</td>\n",
       "      <td>-0.279467</td>\n",
       "      <td>0.165162</td>\n",
       "      <td>0.157346</td>\n",
       "      <td>-0.058959</td>\n",
       "      <td>-0.053702</td>\n",
       "      <td>0.512248</td>\n",
       "      <td>0.512251</td>\n",
       "      <td>...</td>\n",
       "      <td>-0.041072</td>\n",
       "      <td>0.105090</td>\n",
       "      <td>0.158435</td>\n",
       "      <td>-0.441321</td>\n",
       "      <td>-0.095654</td>\n",
       "      <td>-0.016777</td>\n",
       "      <td>0.261470</td>\n",
       "      <td>0.113192</td>\n",
       "      <td>0.062830</td>\n",
       "      <td>0.078908</td>\n",
       "    </tr>\n",
       "    <tr>\n",
       "      <th>bc_util</th>\n",
       "      <td>0.051034</td>\n",
       "      <td>0.051028</td>\n",
       "      <td>0.050967</td>\n",
       "      <td>0.250880</td>\n",
       "      <td>0.073153</td>\n",
       "      <td>-0.003034</td>\n",
       "      <td>0.142599</td>\n",
       "      <td>-0.008944</td>\n",
       "      <td>-0.480634</td>\n",
       "      <td>-0.480632</td>\n",
       "      <td>...</td>\n",
       "      <td>-0.012482</td>\n",
       "      <td>-0.186214</td>\n",
       "      <td>-0.018333</td>\n",
       "      <td>0.844756</td>\n",
       "      <td>-0.038911</td>\n",
       "      <td>-0.010297</td>\n",
       "      <td>-0.014916</td>\n",
       "      <td>0.082621</td>\n",
       "      <td>0.017869</td>\n",
       "      <td>-0.059209</td>\n",
       "    </tr>\n",
       "    <tr>\n",
       "      <th>chargeoff_within_12_mths</th>\n",
       "      <td>-0.000613</td>\n",
       "      <td>-0.000532</td>\n",
       "      <td>-0.000344</td>\n",
       "      <td>0.011634</td>\n",
       "      <td>0.001455</td>\n",
       "      <td>0.008972</td>\n",
       "      <td>-0.002726</td>\n",
       "      <td>0.142133</td>\n",
       "      <td>-0.052619</td>\n",
       "      <td>-0.052618</td>\n",
       "      <td>...</td>\n",
       "      <td>0.214325</td>\n",
       "      <td>0.001901</td>\n",
       "      <td>-0.084713</td>\n",
       "      <td>-0.013162</td>\n",
       "      <td>-0.010554</td>\n",
       "      <td>-0.001602</td>\n",
       "      <td>0.007614</td>\n",
       "      <td>-0.002572</td>\n",
       "      <td>0.005671</td>\n",
       "      <td>-0.003621</td>\n",
       "    </tr>\n",
       "    <tr>\n",
       "      <th>delinq_amnt</th>\n",
       "      <td>0.000454</td>\n",
       "      <td>0.000473</td>\n",
       "      <td>0.000509</td>\n",
       "      <td>0.005333</td>\n",
       "      <td>0.001470</td>\n",
       "      <td>0.006568</td>\n",
       "      <td>-0.004269</td>\n",
       "      <td>0.030182</td>\n",
       "      <td>-0.011678</td>\n",
       "      <td>-0.011677</td>\n",
       "      <td>...</td>\n",
       "      <td>0.041912</td>\n",
       "      <td>-0.001686</td>\n",
       "      <td>-0.014160</td>\n",
       "      <td>-0.006439</td>\n",
       "      <td>-0.000564</td>\n",
       "      <td>0.002813</td>\n",
       "      <td>0.020863</td>\n",
       "      <td>0.002881</td>\n",
       "      <td>0.002002</td>\n",
       "      <td>-0.002729</td>\n",
       "    </tr>\n",
       "    <tr>\n",
       "      <th>mort_acc</th>\n",
       "      <td>0.222444</td>\n",
       "      <td>0.222446</td>\n",
       "      <td>0.222459</td>\n",
       "      <td>-0.084655</td>\n",
       "      <td>0.189466</td>\n",
       "      <td>0.212430</td>\n",
       "      <td>-0.028550</td>\n",
       "      <td>0.073332</td>\n",
       "      <td>0.097311</td>\n",
       "      <td>0.097312</td>\n",
       "      <td>...</td>\n",
       "      <td>0.033374</td>\n",
       "      <td>0.054396</td>\n",
       "      <td>-0.035370</td>\n",
       "      <td>0.001889</td>\n",
       "      <td>0.006211</td>\n",
       "      <td>-0.011868</td>\n",
       "      <td>0.531346</td>\n",
       "      <td>0.149615</td>\n",
       "      <td>0.105429</td>\n",
       "      <td>0.080139</td>\n",
       "    </tr>\n",
       "    <tr>\n",
       "      <th>num_accts_ever_120_pd</th>\n",
       "      <td>-0.049895</td>\n",
       "      <td>-0.049897</td>\n",
       "      <td>-0.049914</td>\n",
       "      <td>0.043085</td>\n",
       "      <td>-0.041318</td>\n",
       "      <td>0.016954</td>\n",
       "      <td>-0.033432</td>\n",
       "      <td>0.215394</td>\n",
       "      <td>-0.196383</td>\n",
       "      <td>-0.196380</td>\n",
       "      <td>...</td>\n",
       "      <td>0.309943</td>\n",
       "      <td>0.080333</td>\n",
       "      <td>-0.568331</td>\n",
       "      <td>-0.032052</td>\n",
       "      <td>-0.022792</td>\n",
       "      <td>0.012850</td>\n",
       "      <td>0.006766</td>\n",
       "      <td>0.016866</td>\n",
       "      <td>0.047897</td>\n",
       "      <td>-0.011646</td>\n",
       "    </tr>\n",
       "    <tr>\n",
       "      <th>num_actv_bc_tl</th>\n",
       "      <td>0.194419</td>\n",
       "      <td>0.194419</td>\n",
       "      <td>0.194401</td>\n",
       "      <td>0.022400</td>\n",
       "      <td>0.197567</td>\n",
       "      <td>0.104187</td>\n",
       "      <td>0.126502</td>\n",
       "      <td>-0.042993</td>\n",
       "      <td>-0.110028</td>\n",
       "      <td>-0.110029</td>\n",
       "      <td>...</td>\n",
       "      <td>-0.033677</td>\n",
       "      <td>0.160583</td>\n",
       "      <td>0.126007</td>\n",
       "      <td>0.034182</td>\n",
       "      <td>-0.061622</td>\n",
       "      <td>0.010687</td>\n",
       "      <td>0.128773</td>\n",
       "      <td>0.147762</td>\n",
       "      <td>0.029323</td>\n",
       "      <td>-0.040996</td>\n",
       "    </tr>\n",
       "    <tr>\n",
       "      <th>num_actv_rev_tl</th>\n",
       "      <td>0.151521</td>\n",
       "      <td>0.151520</td>\n",
       "      <td>0.151492</td>\n",
       "      <td>0.085249</td>\n",
       "      <td>0.158999</td>\n",
       "      <td>0.073012</td>\n",
       "      <td>0.189363</td>\n",
       "      <td>-0.004920</td>\n",
       "      <td>-0.187546</td>\n",
       "      <td>-0.187546</td>\n",
       "      <td>...</td>\n",
       "      <td>-0.017884</td>\n",
       "      <td>0.257452</td>\n",
       "      <td>0.091644</td>\n",
       "      <td>0.094839</td>\n",
       "      <td>-0.014496</td>\n",
       "      <td>0.007001</td>\n",
       "      <td>0.118132</td>\n",
       "      <td>0.142375</td>\n",
       "      <td>0.024950</td>\n",
       "      <td>-0.068844</td>\n",
       "    </tr>\n",
       "    <tr>\n",
       "      <th>num_bc_sats</th>\n",
       "      <td>0.214004</td>\n",
       "      <td>0.214003</td>\n",
       "      <td>0.214002</td>\n",
       "      <td>-0.054187</td>\n",
       "      <td>0.206650</td>\n",
       "      <td>0.122157</td>\n",
       "      <td>0.078955</td>\n",
       "      <td>-0.032389</td>\n",
       "      <td>0.063170</td>\n",
       "      <td>0.063169</td>\n",
       "      <td>...</td>\n",
       "      <td>-0.020621</td>\n",
       "      <td>0.236342</td>\n",
       "      <td>0.136761</td>\n",
       "      <td>-0.169033</td>\n",
       "      <td>-0.049801</td>\n",
       "      <td>0.002509</td>\n",
       "      <td>0.168065</td>\n",
       "      <td>0.140892</td>\n",
       "      <td>0.042373</td>\n",
       "      <td>-0.014645</td>\n",
       "    </tr>\n",
       "    <tr>\n",
       "      <th>num_bc_tl</th>\n",
       "      <td>0.196046</td>\n",
       "      <td>0.196045</td>\n",
       "      <td>0.196028</td>\n",
       "      <td>-0.084845</td>\n",
       "      <td>0.183223</td>\n",
       "      <td>0.126115</td>\n",
       "      <td>0.050344</td>\n",
       "      <td>0.031794</td>\n",
       "      <td>0.056203</td>\n",
       "      <td>0.056202</td>\n",
       "      <td>...</td>\n",
       "      <td>0.015924</td>\n",
       "      <td>0.217824</td>\n",
       "      <td>0.048173</td>\n",
       "      <td>-0.148005</td>\n",
       "      <td>0.011768</td>\n",
       "      <td>-0.011588</td>\n",
       "      <td>0.182286</td>\n",
       "      <td>0.124406</td>\n",
       "      <td>0.045311</td>\n",
       "      <td>0.023442</td>\n",
       "    </tr>\n",
       "    <tr>\n",
       "      <th>num_il_tl</th>\n",
       "      <td>0.077918</td>\n",
       "      <td>0.077917</td>\n",
       "      <td>0.077913</td>\n",
       "      <td>0.011222</td>\n",
       "      <td>0.061786</td>\n",
       "      <td>0.100921</td>\n",
       "      <td>0.172610</td>\n",
       "      <td>0.084854</td>\n",
       "      <td>-0.014185</td>\n",
       "      <td>-0.014188</td>\n",
       "      <td>...</td>\n",
       "      <td>0.069554</td>\n",
       "      <td>0.191526</td>\n",
       "      <td>0.002474</td>\n",
       "      <td>0.018047</td>\n",
       "      <td>-0.006650</td>\n",
       "      <td>-0.011872</td>\n",
       "      <td>0.190361</td>\n",
       "      <td>0.512464</td>\n",
       "      <td>0.587654</td>\n",
       "      <td>-0.004791</td>\n",
       "    </tr>\n",
       "    <tr>\n",
       "      <th>num_op_rev_tl</th>\n",
       "      <td>0.165899</td>\n",
       "      <td>0.165898</td>\n",
       "      <td>0.165888</td>\n",
       "      <td>-0.009371</td>\n",
       "      <td>0.161779</td>\n",
       "      <td>0.078527</td>\n",
       "      <td>0.135582</td>\n",
       "      <td>0.006303</td>\n",
       "      <td>0.016935</td>\n",
       "      <td>0.016934</td>\n",
       "      <td>...</td>\n",
       "      <td>-0.025182</td>\n",
       "      <td>0.346469</td>\n",
       "      <td>0.133580</td>\n",
       "      <td>-0.140296</td>\n",
       "      <td>0.002264</td>\n",
       "      <td>-0.000732</td>\n",
       "      <td>0.146241</td>\n",
       "      <td>0.132308</td>\n",
       "      <td>0.043119</td>\n",
       "      <td>-0.031303</td>\n",
       "    </tr>\n",
       "    <tr>\n",
       "      <th>num_rev_accts</th>\n",
       "      <td>0.169400</td>\n",
       "      <td>0.169398</td>\n",
       "      <td>0.169385</td>\n",
       "      <td>-0.057986</td>\n",
       "      <td>0.157494</td>\n",
       "      <td>0.101611</td>\n",
       "      <td>0.098314</td>\n",
       "      <td>0.077157</td>\n",
       "      <td>0.022658</td>\n",
       "      <td>0.022658</td>\n",
       "      <td>...</td>\n",
       "      <td>0.029829</td>\n",
       "      <td>0.296044</td>\n",
       "      <td>0.033742</td>\n",
       "      <td>-0.120670</td>\n",
       "      <td>0.053802</td>\n",
       "      <td>-0.018017</td>\n",
       "      <td>0.185202</td>\n",
       "      <td>0.127227</td>\n",
       "      <td>0.054640</td>\n",
       "      <td>0.010818</td>\n",
       "    </tr>\n",
       "    <tr>\n",
       "      <th>num_rev_tl_bal_gt_0</th>\n",
       "      <td>0.150833</td>\n",
       "      <td>0.150833</td>\n",
       "      <td>0.150803</td>\n",
       "      <td>0.085073</td>\n",
       "      <td>0.158126</td>\n",
       "      <td>0.071899</td>\n",
       "      <td>0.191467</td>\n",
       "      <td>-0.008683</td>\n",
       "      <td>-0.186513</td>\n",
       "      <td>-0.186513</td>\n",
       "      <td>...</td>\n",
       "      <td>-0.025356</td>\n",
       "      <td>0.244594</td>\n",
       "      <td>0.100909</td>\n",
       "      <td>0.101658</td>\n",
       "      <td>-0.023133</td>\n",
       "      <td>0.007535</td>\n",
       "      <td>0.117539</td>\n",
       "      <td>0.146105</td>\n",
       "      <td>0.026709</td>\n",
       "      <td>-0.067071</td>\n",
       "    </tr>\n",
       "    <tr>\n",
       "      <th>num_sats</th>\n",
       "      <td>0.182377</td>\n",
       "      <td>0.182377</td>\n",
       "      <td>0.182369</td>\n",
       "      <td>-0.009847</td>\n",
       "      <td>0.171590</td>\n",
       "      <td>0.132132</td>\n",
       "      <td>0.215098</td>\n",
       "      <td>0.047464</td>\n",
       "      <td>0.032683</td>\n",
       "      <td>0.032682</td>\n",
       "      <td>...</td>\n",
       "      <td>0.009300</td>\n",
       "      <td>0.365146</td>\n",
       "      <td>0.111686</td>\n",
       "      <td>-0.095461</td>\n",
       "      <td>-0.033682</td>\n",
       "      <td>-0.006832</td>\n",
       "      <td>0.281907</td>\n",
       "      <td>0.400457</td>\n",
       "      <td>0.362345</td>\n",
       "      <td>-0.025043</td>\n",
       "    </tr>\n",
       "    <tr>\n",
       "      <th>num_tl_30dpd</th>\n",
       "      <td>0.002409</td>\n",
       "      <td>0.002409</td>\n",
       "      <td>0.002397</td>\n",
       "      <td>0.013722</td>\n",
       "      <td>0.004671</td>\n",
       "      <td>0.012177</td>\n",
       "      <td>0.004360</td>\n",
       "      <td>0.103982</td>\n",
       "      <td>-0.030364</td>\n",
       "      <td>-0.030363</td>\n",
       "      <td>...</td>\n",
       "      <td>0.006054</td>\n",
       "      <td>-0.006006</td>\n",
       "      <td>-0.038773</td>\n",
       "      <td>-0.017017</td>\n",
       "      <td>-0.012969</td>\n",
       "      <td>0.005268</td>\n",
       "      <td>0.026858</td>\n",
       "      <td>0.009719</td>\n",
       "      <td>0.014953</td>\n",
       "      <td>-0.002311</td>\n",
       "    </tr>\n",
       "    <tr>\n",
       "      <th>num_tl_90g_dpd_24m</th>\n",
       "      <td>-0.021811</td>\n",
       "      <td>-0.021812</td>\n",
       "      <td>-0.021826</td>\n",
       "      <td>0.026583</td>\n",
       "      <td>-0.016399</td>\n",
       "      <td>0.007510</td>\n",
       "      <td>-0.013967</td>\n",
       "      <td>0.656164</td>\n",
       "      <td>-0.101882</td>\n",
       "      <td>-0.101881</td>\n",
       "      <td>...</td>\n",
       "      <td>1.000000</td>\n",
       "      <td>-0.001404</td>\n",
       "      <td>-0.268758</td>\n",
       "      <td>-0.013188</td>\n",
       "      <td>-0.008100</td>\n",
       "      <td>0.002016</td>\n",
       "      <td>0.005872</td>\n",
       "      <td>0.015769</td>\n",
       "      <td>0.033004</td>\n",
       "      <td>-0.009805</td>\n",
       "    </tr>\n",
       "    <tr>\n",
       "      <th>num_tl_op_past_12m</th>\n",
       "      <td>-0.020131</td>\n",
       "      <td>-0.020133</td>\n",
       "      <td>-0.020149</td>\n",
       "      <td>0.206641</td>\n",
       "      <td>0.000162</td>\n",
       "      <td>0.052413</td>\n",
       "      <td>0.068868</td>\n",
       "      <td>-0.025121</td>\n",
       "      <td>-0.092465</td>\n",
       "      <td>-0.092467</td>\n",
       "      <td>...</td>\n",
       "      <td>-0.001404</td>\n",
       "      <td>1.000000</td>\n",
       "      <td>0.008613</td>\n",
       "      <td>-0.173209</td>\n",
       "      <td>0.094430</td>\n",
       "      <td>0.016563</td>\n",
       "      <td>0.089110</td>\n",
       "      <td>0.120172</td>\n",
       "      <td>0.141766</td>\n",
       "      <td>-0.084731</td>\n",
       "    </tr>\n",
       "    <tr>\n",
       "      <th>pct_tl_nvr_dlq</th>\n",
       "      <td>0.087934</td>\n",
       "      <td>0.087934</td>\n",
       "      <td>0.087948</td>\n",
       "      <td>-0.063701</td>\n",
       "      <td>0.070509</td>\n",
       "      <td>-0.007275</td>\n",
       "      <td>0.072104</td>\n",
       "      <td>-0.444748</td>\n",
       "      <td>0.300555</td>\n",
       "      <td>0.300552</td>\n",
       "      <td>...</td>\n",
       "      <td>-0.268758</td>\n",
       "      <td>0.008613</td>\n",
       "      <td>1.000000</td>\n",
       "      <td>-0.004135</td>\n",
       "      <td>0.032089</td>\n",
       "      <td>-0.033663</td>\n",
       "      <td>0.024896</td>\n",
       "      <td>0.063180</td>\n",
       "      <td>0.015613</td>\n",
       "      <td>0.014573</td>\n",
       "    </tr>\n",
       "    <tr>\n",
       "      <th>percent_bc_gt_75</th>\n",
       "      <td>0.020342</td>\n",
       "      <td>0.020341</td>\n",
       "      <td>0.020290</td>\n",
       "      <td>0.248037</td>\n",
       "      <td>0.040028</td>\n",
       "      <td>-0.016370</td>\n",
       "      <td>0.127592</td>\n",
       "      <td>-0.010852</td>\n",
       "      <td>-0.410429</td>\n",
       "      <td>-0.410426</td>\n",
       "      <td>...</td>\n",
       "      <td>-0.013188</td>\n",
       "      <td>-0.173209</td>\n",
       "      <td>-0.004135</td>\n",
       "      <td>1.000000</td>\n",
       "      <td>-0.041690</td>\n",
       "      <td>-0.018228</td>\n",
       "      <td>-0.016810</td>\n",
       "      <td>0.061761</td>\n",
       "      <td>0.010372</td>\n",
       "      <td>-0.060528</td>\n",
       "    </tr>\n",
       "    <tr>\n",
       "      <th>pub_rec_bankruptcies</th>\n",
       "      <td>-0.092956</td>\n",
       "      <td>-0.092761</td>\n",
       "      <td>-0.092393</td>\n",
       "      <td>0.058580</td>\n",
       "      <td>-0.085199</td>\n",
       "      <td>-0.043951</td>\n",
       "      <td>-0.016726</td>\n",
       "      <td>-0.047360</td>\n",
       "      <td>-0.202539</td>\n",
       "      <td>-0.202536</td>\n",
       "      <td>...</td>\n",
       "      <td>-0.008100</td>\n",
       "      <td>0.094430</td>\n",
       "      <td>0.032089</td>\n",
       "      <td>-0.041690</td>\n",
       "      <td>1.000000</td>\n",
       "      <td>0.035383</td>\n",
       "      <td>-0.107317</td>\n",
       "      <td>-0.077376</td>\n",
       "      <td>-0.035664</td>\n",
       "      <td>-0.025750</td>\n",
       "    </tr>\n",
       "    <tr>\n",
       "      <th>tax_liens</th>\n",
       "      <td>0.007817</td>\n",
       "      <td>0.007949</td>\n",
       "      <td>0.008243</td>\n",
       "      <td>0.011477</td>\n",
       "      <td>0.014752</td>\n",
       "      <td>0.037793</td>\n",
       "      <td>-0.022822</td>\n",
       "      <td>0.011169</td>\n",
       "      <td>-0.057341</td>\n",
       "      <td>-0.057341</td>\n",
       "      <td>...</td>\n",
       "      <td>0.002016</td>\n",
       "      <td>0.016563</td>\n",
       "      <td>-0.033663</td>\n",
       "      <td>-0.018228</td>\n",
       "      <td>0.035383</td>\n",
       "      <td>1.000000</td>\n",
       "      <td>-0.001726</td>\n",
       "      <td>-0.001940</td>\n",
       "      <td>0.005977</td>\n",
       "      <td>-0.010247</td>\n",
       "    </tr>\n",
       "    <tr>\n",
       "      <th>tot_hi_cred_lim</th>\n",
       "      <td>0.334170</td>\n",
       "      <td>0.334169</td>\n",
       "      <td>0.334197</td>\n",
       "      <td>-0.118486</td>\n",
       "      <td>0.301477</td>\n",
       "      <td>0.408800</td>\n",
       "      <td>0.015190</td>\n",
       "      <td>0.058910</td>\n",
       "      <td>0.195576</td>\n",
       "      <td>0.195577</td>\n",
       "      <td>...</td>\n",
       "      <td>0.005872</td>\n",
       "      <td>0.089110</td>\n",
       "      <td>0.024896</td>\n",
       "      <td>-0.016810</td>\n",
       "      <td>-0.107317</td>\n",
       "      <td>-0.001726</td>\n",
       "      <td>1.000000</td>\n",
       "      <td>0.507862</td>\n",
       "      <td>0.401361</td>\n",
       "      <td>0.077608</td>\n",
       "    </tr>\n",
       "    <tr>\n",
       "      <th>total_bal_ex_mort</th>\n",
       "      <td>0.275413</td>\n",
       "      <td>0.275413</td>\n",
       "      <td>0.275419</td>\n",
       "      <td>0.004525</td>\n",
       "      <td>0.260119</td>\n",
       "      <td>0.315126</td>\n",
       "      <td>0.223567</td>\n",
       "      <td>0.032243</td>\n",
       "      <td>0.031953</td>\n",
       "      <td>0.031951</td>\n",
       "      <td>...</td>\n",
       "      <td>0.015769</td>\n",
       "      <td>0.120172</td>\n",
       "      <td>0.063180</td>\n",
       "      <td>0.061761</td>\n",
       "      <td>-0.077376</td>\n",
       "      <td>-0.001940</td>\n",
       "      <td>0.507862</td>\n",
       "      <td>1.000000</td>\n",
       "      <td>0.873296</td>\n",
       "      <td>0.002165</td>\n",
       "    </tr>\n",
       "    <tr>\n",
       "      <th>total_il_high_credit_limit</th>\n",
       "      <td>0.200318</td>\n",
       "      <td>0.200315</td>\n",
       "      <td>0.200319</td>\n",
       "      <td>-0.002747</td>\n",
       "      <td>0.185541</td>\n",
       "      <td>0.262025</td>\n",
       "      <td>0.252218</td>\n",
       "      <td>0.062321</td>\n",
       "      <td>0.062800</td>\n",
       "      <td>0.062798</td>\n",
       "      <td>...</td>\n",
       "      <td>0.033004</td>\n",
       "      <td>0.141766</td>\n",
       "      <td>0.015613</td>\n",
       "      <td>0.010372</td>\n",
       "      <td>-0.035664</td>\n",
       "      <td>0.005977</td>\n",
       "      <td>0.401361</td>\n",
       "      <td>0.873296</td>\n",
       "      <td>1.000000</td>\n",
       "      <td>-0.001483</td>\n",
       "    </tr>\n",
       "    <tr>\n",
       "      <th>classes</th>\n",
       "      <td>-0.072908</td>\n",
       "      <td>-0.072978</td>\n",
       "      <td>-0.072597</td>\n",
       "      <td>-0.263577</td>\n",
       "      <td>-0.057873</td>\n",
       "      <td>0.039071</td>\n",
       "      <td>-0.084895</td>\n",
       "      <td>-0.020347</td>\n",
       "      <td>0.129188</td>\n",
       "      <td>0.129186</td>\n",
       "      <td>...</td>\n",
       "      <td>-0.009805</td>\n",
       "      <td>-0.084731</td>\n",
       "      <td>0.014573</td>\n",
       "      <td>-0.060528</td>\n",
       "      <td>-0.025750</td>\n",
       "      <td>-0.010247</td>\n",
       "      <td>0.077608</td>\n",
       "      <td>0.002165</td>\n",
       "      <td>-0.001483</td>\n",
       "      <td>1.000000</td>\n",
       "    </tr>\n",
       "  </tbody>\n",
       "</table>\n",
       "<p>55 rows × 55 columns</p>\n",
       "</div>"
      ],
      "text/plain": [
       "                            loan_amnt  funded_amnt  funded_amnt_inv  int_rate  \\\n",
       "loan_amnt                    1.000000     0.999556         0.998259  0.142477   \n",
       "funded_amnt                  0.999556     1.000000         0.998808  0.142571   \n",
       "funded_amnt_inv              0.998259     0.998808         1.000000  0.142661   \n",
       "int_rate                     0.142477     0.142571         0.142661  1.000000   \n",
       "installment                  0.953021     0.953674         0.952313  0.155666   \n",
       "annual_inc                   0.309873     0.309765         0.309242 -0.071362   \n",
       "dti                          0.032195     0.032588         0.033657  0.146165   \n",
       "delinq_2yrs                 -0.002138    -0.001945        -0.001645  0.047965   \n",
       "fico_range_low               0.101643     0.100813         0.100030 -0.403169   \n",
       "fico_range_high              0.101642     0.100812         0.100029 -0.403166   \n",
       "inq_last_6mths              -0.019264    -0.019645        -0.022477  0.209321   \n",
       "open_acc                     0.185681     0.185981         0.186387 -0.004353   \n",
       "pub_rec                     -0.064388    -0.064146        -0.063475  0.052233   \n",
       "revol_bal                    0.314501     0.314379         0.313296 -0.028264   \n",
       "revol_util                   0.106218     0.106383         0.106490  0.240323   \n",
       "total_acc                    0.207573     0.207506         0.207591 -0.043344   \n",
       "out_prncp                    0.109561     0.109717         0.109926  0.070006   \n",
       "out_prncp_inv                0.109561     0.109717         0.109927  0.070007   \n",
       "recoveries                   0.187639     0.187775         0.187526  0.184337   \n",
       "collection_recovery_fee      0.179745     0.179954         0.179623  0.171063   \n",
       "last_pymnt_amnt              0.492016     0.492400         0.492682  0.079604   \n",
       "last_fico_range_high         0.048651     0.048420         0.048267 -0.348143   \n",
       "last_fico_range_low          0.046008     0.045824         0.045783 -0.270077   \n",
       "collections_12_mths_ex_med  -0.017797    -0.017690        -0.017403  0.015452   \n",
       "acc_now_delinq               0.001500     0.001566         0.001684  0.016639   \n",
       "tot_coll_amt                -0.003434    -0.003434        -0.003434  0.002360   \n",
       "tot_cur_bal                  0.313727     0.313727         0.313750 -0.084877   \n",
       "acc_open_past_24mths         0.009901     0.009902         0.009893  0.189125   \n",
       "avg_cur_bal                  0.228813     0.228814         0.228835 -0.084062   \n",
       "bc_open_to_buy               0.198490     0.198497         0.198552 -0.279467   \n",
       "bc_util                      0.051034     0.051028         0.050967  0.250880   \n",
       "chargeoff_within_12_mths    -0.000613    -0.000532        -0.000344  0.011634   \n",
       "delinq_amnt                  0.000454     0.000473         0.000509  0.005333   \n",
       "mort_acc                     0.222444     0.222446         0.222459 -0.084655   \n",
       "num_accts_ever_120_pd       -0.049895    -0.049897        -0.049914  0.043085   \n",
       "num_actv_bc_tl               0.194419     0.194419         0.194401  0.022400   \n",
       "num_actv_rev_tl              0.151521     0.151520         0.151492  0.085249   \n",
       "num_bc_sats                  0.214004     0.214003         0.214002 -0.054187   \n",
       "num_bc_tl                    0.196046     0.196045         0.196028 -0.084845   \n",
       "num_il_tl                    0.077918     0.077917         0.077913  0.011222   \n",
       "num_op_rev_tl                0.165899     0.165898         0.165888 -0.009371   \n",
       "num_rev_accts                0.169400     0.169398         0.169385 -0.057986   \n",
       "num_rev_tl_bal_gt_0          0.150833     0.150833         0.150803  0.085073   \n",
       "num_sats                     0.182377     0.182377         0.182369 -0.009847   \n",
       "num_tl_30dpd                 0.002409     0.002409         0.002397  0.013722   \n",
       "num_tl_90g_dpd_24m          -0.021811    -0.021812        -0.021826  0.026583   \n",
       "num_tl_op_past_12m          -0.020131    -0.020133        -0.020149  0.206641   \n",
       "pct_tl_nvr_dlq               0.087934     0.087934         0.087948 -0.063701   \n",
       "percent_bc_gt_75             0.020342     0.020341         0.020290  0.248037   \n",
       "pub_rec_bankruptcies        -0.092956    -0.092761        -0.092393  0.058580   \n",
       "tax_liens                    0.007817     0.007949         0.008243  0.011477   \n",
       "tot_hi_cred_lim              0.334170     0.334169         0.334197 -0.118486   \n",
       "total_bal_ex_mort            0.275413     0.275413         0.275419  0.004525   \n",
       "total_il_high_credit_limit   0.200318     0.200315         0.200319 -0.002747   \n",
       "classes                     -0.072908    -0.072978        -0.072597 -0.263577   \n",
       "\n",
       "                            installment  annual_inc       dti  delinq_2yrs  \\\n",
       "loan_amnt                      0.953021    0.309873  0.032195    -0.002138   \n",
       "funded_amnt                    0.953674    0.309765  0.032588    -0.001945   \n",
       "funded_amnt_inv                0.952313    0.309242  0.033657    -0.001645   \n",
       "int_rate                       0.155666   -0.071362  0.146165     0.047965   \n",
       "installment                    1.000000    0.300753  0.035986     0.007124   \n",
       "annual_inc                     0.300753    1.000000 -0.139055     0.040924   \n",
       "dti                            0.035986   -0.139055  1.000000    -0.008023   \n",
       "delinq_2yrs                    0.007124    0.040924 -0.008023     1.000000   \n",
       "fico_range_low                 0.051494    0.069903 -0.060032    -0.174090   \n",
       "fico_range_high                0.051493    0.069904 -0.060035    -0.174088   \n",
       "inq_last_6mths                 0.002737    0.031598 -0.009542     0.022412   \n",
       "open_acc                       0.176024    0.134801  0.222143     0.052478   \n",
       "pub_rec                       -0.052988   -0.004803 -0.030566    -0.020327   \n",
       "revol_bal                      0.303342    0.284923  0.107710    -0.027881   \n",
       "revol_util                     0.124952    0.035590  0.139436    -0.011202   \n",
       "total_acc                      0.184598    0.175246  0.171435     0.119579   \n",
       "out_prncp                      0.095007    0.018582  0.018349     0.004917   \n",
       "out_prncp_inv                  0.095000    0.018583  0.018346     0.004915   \n",
       "recoveries                     0.168780    0.027375  0.047194     0.017965   \n",
       "collection_recovery_fee        0.162029    0.027231  0.047751     0.018590   \n",
       "last_pymnt_amnt                0.432396    0.177731 -0.002852    -0.016859   \n",
       "last_fico_range_high           0.035247    0.066452 -0.074253    -0.072732   \n",
       "last_fico_range_low            0.036046    0.059827 -0.044970    -0.035930   \n",
       "collections_12_mths_ex_med    -0.014181   -0.003954 -0.003189     0.071017   \n",
       "acc_now_delinq                 0.004239    0.013429  0.002823     0.123928   \n",
       "tot_coll_amt                  -0.002896    0.000010 -0.002880    -0.000335   \n",
       "tot_cur_bal                    0.283254    0.395615  0.005928     0.057641   \n",
       "acc_open_past_24mths           0.023351    0.056872  0.117854    -0.054050   \n",
       "avg_cur_bal                    0.202667    0.305661 -0.084362     0.044907   \n",
       "bc_open_to_buy                 0.165162    0.157346 -0.058959    -0.053702   \n",
       "bc_util                        0.073153   -0.003034  0.142599    -0.008944   \n",
       "chargeoff_within_12_mths       0.001455    0.008972 -0.002726     0.142133   \n",
       "delinq_amnt                    0.001470    0.006568 -0.004269     0.030182   \n",
       "mort_acc                       0.189466    0.212430 -0.028550     0.073332   \n",
       "num_accts_ever_120_pd         -0.041318    0.016954 -0.033432     0.215394   \n",
       "num_actv_bc_tl                 0.197567    0.104187  0.126502    -0.042993   \n",
       "num_actv_rev_tl                0.158999    0.073012  0.189363    -0.004920   \n",
       "num_bc_sats                    0.206650    0.122157  0.078955    -0.032389   \n",
       "num_bc_tl                      0.183223    0.126115  0.050344     0.031794   \n",
       "num_il_tl                      0.061786    0.100921  0.172610     0.084854   \n",
       "num_op_rev_tl                  0.161779    0.078527  0.135582     0.006303   \n",
       "num_rev_accts                  0.157494    0.101611  0.098314     0.077157   \n",
       "num_rev_tl_bal_gt_0            0.158126    0.071899  0.191467    -0.008683   \n",
       "num_sats                       0.171590    0.132132  0.215098     0.047464   \n",
       "num_tl_30dpd                   0.004671    0.012177  0.004360     0.103982   \n",
       "num_tl_90g_dpd_24m            -0.016399    0.007510 -0.013967     0.656164   \n",
       "num_tl_op_past_12m             0.000162    0.052413  0.068868    -0.025121   \n",
       "pct_tl_nvr_dlq                 0.070509   -0.007275  0.072104    -0.444748   \n",
       "percent_bc_gt_75               0.040028   -0.016370  0.127592    -0.010852   \n",
       "pub_rec_bankruptcies          -0.085199   -0.043951 -0.016726    -0.047360   \n",
       "tax_liens                      0.014752    0.037793 -0.022822     0.011169   \n",
       "tot_hi_cred_lim                0.301477    0.408800  0.015190     0.058910   \n",
       "total_bal_ex_mort              0.260119    0.315126  0.223567     0.032243   \n",
       "total_il_high_credit_limit     0.185541    0.262025  0.252218     0.062321   \n",
       "classes                       -0.057873    0.039071 -0.084895    -0.020347   \n",
       "\n",
       "                            fico_range_low  fico_range_high  ...  \\\n",
       "loan_amnt                         0.101643         0.101642  ...   \n",
       "funded_amnt                       0.100813         0.100812  ...   \n",
       "funded_amnt_inv                   0.100030         0.100029  ...   \n",
       "int_rate                         -0.403169        -0.403166  ...   \n",
       "installment                       0.051494         0.051493  ...   \n",
       "annual_inc                        0.069903         0.069904  ...   \n",
       "dti                              -0.060032        -0.060035  ...   \n",
       "delinq_2yrs                      -0.174090        -0.174088  ...   \n",
       "fico_range_low                    1.000000         1.000000  ...   \n",
       "fico_range_high                   1.000000         1.000000  ...   \n",
       "inq_last_6mths                   -0.086113        -0.086113  ...   \n",
       "open_acc                          0.017038         0.017037  ...   \n",
       "pub_rec                          -0.191011        -0.191009  ...   \n",
       "revol_bal                         0.025751         0.025749  ...   \n",
       "revol_util                       -0.459067        -0.459066  ...   \n",
       "total_acc                         0.020993         0.020992  ...   \n",
       "out_prncp                         0.000762         0.000763  ...   \n",
       "out_prncp_inv                     0.000766         0.000767  ...   \n",
       "recoveries                       -0.058543        -0.058543  ...   \n",
       "collection_recovery_fee          -0.056584        -0.056583  ...   \n",
       "last_pymnt_amnt                   0.104774         0.104774  ...   \n",
       "last_fico_range_high              0.342210         0.342209  ...   \n",
       "last_fico_range_low               0.245194         0.245193  ...   \n",
       "collections_12_mths_ex_med       -0.069024        -0.069023  ...   \n",
       "acc_now_delinq                   -0.039043        -0.039042  ...   \n",
       "tot_coll_amt                     -0.015907        -0.015907  ...   \n",
       "tot_cur_bal                       0.133941         0.133940  ...   \n",
       "acc_open_past_24mths             -0.101059        -0.101061  ...   \n",
       "avg_cur_bal                       0.124878         0.124879  ...   \n",
       "bc_open_to_buy                    0.512248         0.512251  ...   \n",
       "bc_util                          -0.480634        -0.480632  ...   \n",
       "chargeoff_within_12_mths         -0.052619        -0.052618  ...   \n",
       "delinq_amnt                      -0.011678        -0.011677  ...   \n",
       "mort_acc                          0.097311         0.097312  ...   \n",
       "num_accts_ever_120_pd            -0.196383        -0.196380  ...   \n",
       "num_actv_bc_tl                   -0.110028        -0.110029  ...   \n",
       "num_actv_rev_tl                  -0.187546        -0.187546  ...   \n",
       "num_bc_sats                       0.063170         0.063169  ...   \n",
       "num_bc_tl                         0.056203         0.056202  ...   \n",
       "num_il_tl                        -0.014185        -0.014188  ...   \n",
       "num_op_rev_tl                     0.016935         0.016934  ...   \n",
       "num_rev_accts                     0.022658         0.022658  ...   \n",
       "num_rev_tl_bal_gt_0              -0.186513        -0.186513  ...   \n",
       "num_sats                          0.032683         0.032682  ...   \n",
       "num_tl_30dpd                     -0.030364        -0.030363  ...   \n",
       "num_tl_90g_dpd_24m               -0.101882        -0.101881  ...   \n",
       "num_tl_op_past_12m               -0.092465        -0.092467  ...   \n",
       "pct_tl_nvr_dlq                    0.300555         0.300552  ...   \n",
       "percent_bc_gt_75                 -0.410429        -0.410426  ...   \n",
       "pub_rec_bankruptcies             -0.202539        -0.202536  ...   \n",
       "tax_liens                        -0.057341        -0.057341  ...   \n",
       "tot_hi_cred_lim                   0.195576         0.195577  ...   \n",
       "total_bal_ex_mort                 0.031953         0.031951  ...   \n",
       "total_il_high_credit_limit        0.062800         0.062798  ...   \n",
       "classes                           0.129188         0.129186  ...   \n",
       "\n",
       "                            num_tl_90g_dpd_24m  num_tl_op_past_12m  \\\n",
       "loan_amnt                            -0.021811           -0.020131   \n",
       "funded_amnt                          -0.021812           -0.020133   \n",
       "funded_amnt_inv                      -0.021826           -0.020149   \n",
       "int_rate                              0.026583            0.206641   \n",
       "installment                          -0.016399            0.000162   \n",
       "annual_inc                            0.007510            0.052413   \n",
       "dti                                  -0.013967            0.068868   \n",
       "delinq_2yrs                           0.656164           -0.025121   \n",
       "fico_range_low                       -0.101882           -0.092465   \n",
       "fico_range_high                      -0.101881           -0.092467   \n",
       "inq_last_6mths                        0.031360            0.316861   \n",
       "open_acc                              0.011561            0.367172   \n",
       "pub_rec                              -0.000668            0.083674   \n",
       "revol_bal                            -0.033468           -0.025593   \n",
       "revol_util                           -0.011085           -0.218025   \n",
       "total_acc                             0.070575            0.328138   \n",
       "out_prncp                             0.000428            0.009914   \n",
       "out_prncp_inv                         0.000429            0.009911   \n",
       "recoveries                            0.004116            0.053904   \n",
       "collection_recovery_fee               0.004434            0.053707   \n",
       "last_pymnt_amnt                      -0.017668            0.023831   \n",
       "last_fico_range_high                 -0.038160           -0.122611   \n",
       "last_fico_range_low                  -0.020406           -0.089385   \n",
       "collections_12_mths_ex_med            0.104698            0.014081   \n",
       "acc_now_delinq                        0.059901           -0.005989   \n",
       "tot_coll_amt                          0.001009            0.004737   \n",
       "tot_cur_bal                           0.008401            0.084882   \n",
       "acc_open_past_24mths                 -0.032303            0.758237   \n",
       "avg_cur_bal                           0.010646           -0.050049   \n",
       "bc_open_to_buy                       -0.041072            0.105090   \n",
       "bc_util                              -0.012482           -0.186214   \n",
       "chargeoff_within_12_mths              0.214325            0.001901   \n",
       "delinq_amnt                           0.041912           -0.001686   \n",
       "mort_acc                              0.033374            0.054396   \n",
       "num_accts_ever_120_pd                 0.309943            0.080333   \n",
       "num_actv_bc_tl                       -0.033677            0.160583   \n",
       "num_actv_rev_tl                      -0.017884            0.257452   \n",
       "num_bc_sats                          -0.020621            0.236342   \n",
       "num_bc_tl                             0.015924            0.217824   \n",
       "num_il_tl                             0.069554            0.191526   \n",
       "num_op_rev_tl                        -0.025182            0.346469   \n",
       "num_rev_accts                         0.029829            0.296044   \n",
       "num_rev_tl_bal_gt_0                  -0.025356            0.244594   \n",
       "num_sats                              0.009300            0.365146   \n",
       "num_tl_30dpd                          0.006054           -0.006006   \n",
       "num_tl_90g_dpd_24m                    1.000000           -0.001404   \n",
       "num_tl_op_past_12m                   -0.001404            1.000000   \n",
       "pct_tl_nvr_dlq                       -0.268758            0.008613   \n",
       "percent_bc_gt_75                     -0.013188           -0.173209   \n",
       "pub_rec_bankruptcies                 -0.008100            0.094430   \n",
       "tax_liens                             0.002016            0.016563   \n",
       "tot_hi_cred_lim                       0.005872            0.089110   \n",
       "total_bal_ex_mort                     0.015769            0.120172   \n",
       "total_il_high_credit_limit            0.033004            0.141766   \n",
       "classes                              -0.009805           -0.084731   \n",
       "\n",
       "                            pct_tl_nvr_dlq  percent_bc_gt_75  \\\n",
       "loan_amnt                         0.087934          0.020342   \n",
       "funded_amnt                       0.087934          0.020341   \n",
       "funded_amnt_inv                   0.087948          0.020290   \n",
       "int_rate                         -0.063701          0.248037   \n",
       "installment                       0.070509          0.040028   \n",
       "annual_inc                       -0.007275         -0.016370   \n",
       "dti                               0.072104          0.127592   \n",
       "delinq_2yrs                      -0.444748         -0.010852   \n",
       "fico_range_low                    0.300555         -0.410429   \n",
       "fico_range_high                   0.300552         -0.410426   \n",
       "inq_last_6mths                   -0.032253         -0.067344   \n",
       "open_acc                          0.109034         -0.095612   \n",
       "pub_rec                          -0.026497         -0.044444   \n",
       "revol_bal                         0.114909          0.128369   \n",
       "revol_util                       -0.016431          0.727165   \n",
       "total_acc                         0.016215         -0.071838   \n",
       "out_prncp                        -0.007197         -0.018080   \n",
       "out_prncp_inv                    -0.007196         -0.018081   \n",
       "recoveries                        0.000265          0.043822   \n",
       "collection_recovery_fee          -0.001048          0.040385   \n",
       "last_pymnt_amnt                   0.057681         -0.049763   \n",
       "last_fico_range_high              0.104086         -0.166494   \n",
       "last_fico_range_low               0.058719         -0.113356   \n",
       "collections_12_mths_ex_med       -0.046268         -0.032588   \n",
       "acc_now_delinq                   -0.047552         -0.022940   \n",
       "tot_coll_amt                     -0.014120         -0.006817   \n",
       "tot_cur_bal                       0.014382          0.027970   \n",
       "acc_open_past_24mths              0.059152         -0.163760   \n",
       "avg_cur_bal                      -0.042943          0.058922   \n",
       "bc_open_to_buy                    0.158435         -0.441321   \n",
       "bc_util                          -0.018333          0.844756   \n",
       "chargeoff_within_12_mths         -0.084713         -0.013162   \n",
       "delinq_amnt                      -0.014160         -0.006439   \n",
       "mort_acc                         -0.035370          0.001889   \n",
       "num_accts_ever_120_pd            -0.568331         -0.032052   \n",
       "num_actv_bc_tl                    0.126007          0.034182   \n",
       "num_actv_rev_tl                   0.091644          0.094839   \n",
       "num_bc_sats                       0.136761         -0.169033   \n",
       "num_bc_tl                         0.048173         -0.148005   \n",
       "num_il_tl                         0.002474          0.018047   \n",
       "num_op_rev_tl                     0.133580         -0.140296   \n",
       "num_rev_accts                     0.033742         -0.120670   \n",
       "num_rev_tl_bal_gt_0               0.100909          0.101658   \n",
       "num_sats                          0.111686         -0.095461   \n",
       "num_tl_30dpd                     -0.038773         -0.017017   \n",
       "num_tl_90g_dpd_24m               -0.268758         -0.013188   \n",
       "num_tl_op_past_12m                0.008613         -0.173209   \n",
       "pct_tl_nvr_dlq                    1.000000         -0.004135   \n",
       "percent_bc_gt_75                 -0.004135          1.000000   \n",
       "pub_rec_bankruptcies              0.032089         -0.041690   \n",
       "tax_liens                        -0.033663         -0.018228   \n",
       "tot_hi_cred_lim                   0.024896         -0.016810   \n",
       "total_bal_ex_mort                 0.063180          0.061761   \n",
       "total_il_high_credit_limit        0.015613          0.010372   \n",
       "classes                           0.014573         -0.060528   \n",
       "\n",
       "                            pub_rec_bankruptcies  tax_liens  tot_hi_cred_lim  \\\n",
       "loan_amnt                              -0.092956   0.007817         0.334170   \n",
       "funded_amnt                            -0.092761   0.007949         0.334169   \n",
       "funded_amnt_inv                        -0.092393   0.008243         0.334197   \n",
       "int_rate                                0.058580   0.011477        -0.118486   \n",
       "installment                            -0.085199   0.014752         0.301477   \n",
       "annual_inc                             -0.043951   0.037793         0.408800   \n",
       "dti                                    -0.016726  -0.022822         0.015190   \n",
       "delinq_2yrs                            -0.047360   0.011169         0.058910   \n",
       "fico_range_low                         -0.202539  -0.057341         0.195576   \n",
       "fico_range_high                        -0.202536  -0.057341         0.195577   \n",
       "inq_last_6mths                          0.073295   0.008850         0.030790   \n",
       "open_acc                               -0.021868  -0.004509         0.281847   \n",
       "pub_rec                                 0.647560   0.701350        -0.075084   \n",
       "revol_bal                              -0.115992  -0.012126         0.463819   \n",
       "revol_util                             -0.085778  -0.011014         0.027776   \n",
       "total_acc                               0.033614  -0.018891         0.334283   \n",
       "out_prncp                               0.002076   0.000629         0.009402   \n",
       "out_prncp_inv                           0.002073   0.000629         0.009404   \n",
       "recoveries                             -0.001641   0.004188         0.013300   \n",
       "collection_recovery_fee                 0.000369   0.004823         0.014091   \n",
       "last_pymnt_amnt                        -0.025370  -0.010357         0.235021   \n",
       "last_fico_range_high                   -0.063487  -0.020133         0.139315   \n",
       "last_fico_range_low                    -0.049310  -0.017056         0.126286   \n",
       "collections_12_mths_ex_med              0.000134   0.012738        -0.011427   \n",
       "acc_now_delinq                         -0.009200   0.007259         0.027202   \n",
       "tot_coll_amt                            0.000495   0.002557        -0.001590   \n",
       "tot_cur_bal                            -0.097681  -0.002920         0.973010   \n",
       "acc_open_past_24mths                    0.115018   0.014275         0.104902   \n",
       "avg_cur_bal                            -0.081224   0.001055         0.794453   \n",
       "bc_open_to_buy                         -0.095654  -0.016777         0.261470   \n",
       "bc_util                                -0.038911  -0.010297        -0.014916   \n",
       "chargeoff_within_12_mths               -0.010554  -0.001602         0.007614   \n",
       "delinq_amnt                            -0.000564   0.002813         0.020863   \n",
       "mort_acc                                0.006211  -0.011868         0.531346   \n",
       "num_accts_ever_120_pd                  -0.022792   0.012850         0.006766   \n",
       "num_actv_bc_tl                         -0.061622   0.010687         0.128773   \n",
       "num_actv_rev_tl                        -0.014496   0.007001         0.118132   \n",
       "num_bc_sats                            -0.049801   0.002509         0.168065   \n",
       "num_bc_tl                               0.011768  -0.011588         0.182286   \n",
       "num_il_tl                              -0.006650  -0.011872         0.190361   \n",
       "num_op_rev_tl                           0.002264  -0.000732         0.146241   \n",
       "num_rev_accts                           0.053802  -0.018017         0.185202   \n",
       "num_rev_tl_bal_gt_0                    -0.023133   0.007535         0.117539   \n",
       "num_sats                               -0.033682  -0.006832         0.281907   \n",
       "num_tl_30dpd                           -0.012969   0.005268         0.026858   \n",
       "num_tl_90g_dpd_24m                     -0.008100   0.002016         0.005872   \n",
       "num_tl_op_past_12m                      0.094430   0.016563         0.089110   \n",
       "pct_tl_nvr_dlq                          0.032089  -0.033663         0.024896   \n",
       "percent_bc_gt_75                       -0.041690  -0.018228        -0.016810   \n",
       "pub_rec_bankruptcies                    1.000000   0.035383        -0.107317   \n",
       "tax_liens                               0.035383   1.000000        -0.001726   \n",
       "tot_hi_cred_lim                        -0.107317  -0.001726         1.000000   \n",
       "total_bal_ex_mort                      -0.077376  -0.001940         0.507862   \n",
       "total_il_high_credit_limit             -0.035664   0.005977         0.401361   \n",
       "classes                                -0.025750  -0.010247         0.077608   \n",
       "\n",
       "                            total_bal_ex_mort  total_il_high_credit_limit  \\\n",
       "loan_amnt                            0.275413                    0.200318   \n",
       "funded_amnt                          0.275413                    0.200315   \n",
       "funded_amnt_inv                      0.275419                    0.200319   \n",
       "int_rate                             0.004525                   -0.002747   \n",
       "installment                          0.260119                    0.185541   \n",
       "annual_inc                           0.315126                    0.262025   \n",
       "dti                                  0.223567                    0.252218   \n",
       "delinq_2yrs                          0.032243                    0.062321   \n",
       "fico_range_low                       0.031953                    0.062800   \n",
       "fico_range_high                      0.031951                    0.062798   \n",
       "inq_last_6mths                       0.036628                    0.044760   \n",
       "open_acc                             0.400299                    0.361762   \n",
       "pub_rec                             -0.058000                   -0.022949   \n",
       "revol_bal                            0.504233                    0.119308   \n",
       "revol_util                           0.120968                    0.031970   \n",
       "total_acc                            0.429953                    0.417639   \n",
       "out_prncp                            0.018527                    0.021167   \n",
       "out_prncp_inv                        0.018527                    0.021167   \n",
       "recoveries                           0.048415                    0.042282   \n",
       "collection_recovery_fee              0.049332                    0.043495   \n",
       "last_pymnt_amnt                      0.157128                    0.127177   \n",
       "last_fico_range_high                 0.027659                    0.020217   \n",
       "last_fico_range_low                  0.044595                    0.038831   \n",
       "collections_12_mths_ex_med          -0.010474                    0.001188   \n",
       "acc_now_delinq                       0.009823                    0.016494   \n",
       "tot_coll_amt                        -0.001848                    0.000953   \n",
       "tot_cur_bal                          0.518625                    0.406836   \n",
       "acc_open_past_24mths                 0.160219                    0.190003   \n",
       "avg_cur_bal                          0.290178                    0.206962   \n",
       "bc_open_to_buy                       0.113192                    0.062830   \n",
       "bc_util                              0.082621                    0.017869   \n",
       "chargeoff_within_12_mths            -0.002572                    0.005671   \n",
       "delinq_amnt                          0.002881                    0.002002   \n",
       "mort_acc                             0.149615                    0.105429   \n",
       "num_accts_ever_120_pd                0.016866                    0.047897   \n",
       "num_actv_bc_tl                       0.147762                    0.029323   \n",
       "num_actv_rev_tl                      0.142375                    0.024950   \n",
       "num_bc_sats                          0.140892                    0.042373   \n",
       "num_bc_tl                            0.124406                    0.045311   \n",
       "num_il_tl                            0.512464                    0.587654   \n",
       "num_op_rev_tl                        0.132308                    0.043119   \n",
       "num_rev_accts                        0.127227                    0.054640   \n",
       "num_rev_tl_bal_gt_0                  0.146105                    0.026709   \n",
       "num_sats                             0.400457                    0.362345   \n",
       "num_tl_30dpd                         0.009719                    0.014953   \n",
       "num_tl_90g_dpd_24m                   0.015769                    0.033004   \n",
       "num_tl_op_past_12m                   0.120172                    0.141766   \n",
       "pct_tl_nvr_dlq                       0.063180                    0.015613   \n",
       "percent_bc_gt_75                     0.061761                    0.010372   \n",
       "pub_rec_bankruptcies                -0.077376                   -0.035664   \n",
       "tax_liens                           -0.001940                    0.005977   \n",
       "tot_hi_cred_lim                      0.507862                    0.401361   \n",
       "total_bal_ex_mort                    1.000000                    0.873296   \n",
       "total_il_high_credit_limit           0.873296                    1.000000   \n",
       "classes                              0.002165                   -0.001483   \n",
       "\n",
       "                             classes  \n",
       "loan_amnt                  -0.072908  \n",
       "funded_amnt                -0.072978  \n",
       "funded_amnt_inv            -0.072597  \n",
       "int_rate                   -0.263577  \n",
       "installment                -0.057873  \n",
       "annual_inc                  0.039071  \n",
       "dti                        -0.084895  \n",
       "delinq_2yrs                -0.020347  \n",
       "fico_range_low              0.129188  \n",
       "fico_range_high             0.129186  \n",
       "inq_last_6mths             -0.061624  \n",
       "open_acc                   -0.026775  \n",
       "pub_rec                    -0.026086  \n",
       "revol_bal                   0.020725  \n",
       "revol_util                 -0.054068  \n",
       "total_acc                   0.016556  \n",
       "out_prncp                  -0.211324  \n",
       "out_prncp_inv              -0.211313  \n",
       "recoveries                 -0.477313  \n",
       "collection_recovery_fee    -0.453070  \n",
       "last_pymnt_amnt             0.358162  \n",
       "last_fico_range_high        0.664926  \n",
       "last_fico_range_low         0.567334  \n",
       "collections_12_mths_ex_med -0.017173  \n",
       "acc_now_delinq             -0.003277  \n",
       "tot_coll_amt                0.000482  \n",
       "tot_cur_bal                 0.070672  \n",
       "acc_open_past_24mths       -0.099427  \n",
       "avg_cur_bal                 0.078310  \n",
       "bc_open_to_buy              0.078908  \n",
       "bc_util                    -0.059209  \n",
       "chargeoff_within_12_mths   -0.003621  \n",
       "delinq_amnt                -0.002729  \n",
       "mort_acc                    0.080139  \n",
       "num_accts_ever_120_pd      -0.011646  \n",
       "num_actv_bc_tl             -0.040996  \n",
       "num_actv_rev_tl            -0.068844  \n",
       "num_bc_sats                -0.014645  \n",
       "num_bc_tl                   0.023442  \n",
       "num_il_tl                  -0.004791  \n",
       "num_op_rev_tl              -0.031303  \n",
       "num_rev_accts               0.010818  \n",
       "num_rev_tl_bal_gt_0        -0.067071  \n",
       "num_sats                   -0.025043  \n",
       "num_tl_30dpd               -0.002311  \n",
       "num_tl_90g_dpd_24m         -0.009805  \n",
       "num_tl_op_past_12m         -0.084731  \n",
       "pct_tl_nvr_dlq              0.014573  \n",
       "percent_bc_gt_75           -0.060528  \n",
       "pub_rec_bankruptcies       -0.025750  \n",
       "tax_liens                  -0.010247  \n",
       "tot_hi_cred_lim             0.077608  \n",
       "total_bal_ex_mort           0.002165  \n",
       "total_il_high_credit_limit -0.001483  \n",
       "classes                     1.000000  \n",
       "\n",
       "[55 rows x 55 columns]"
      ]
     },
     "execution_count": 31,
     "metadata": {},
     "output_type": "execute_result"
    }
   ],
   "source": [
    "numeric_data = data.select_dtypes(include='number')\n",
    "corr_df = numeric_data.corr()\n",
    "# corr_df = data.corr()\n",
    "corr_df"
   ]
  },
  {
   "cell_type": "code",
   "execution_count": 32,
   "metadata": {
    "scrolled": true
   },
   "outputs": [
    {
     "data": {
      "text/plain": [
       "desc                       1247947\n",
       "emp_title                    88473\n",
       "emp_length                   80850\n",
       "pct_tl_nvr_dlq               70430\n",
       "avg_cur_bal                  70299\n",
       "                            ...   \n",
       "collection_recovery_fee          0\n",
       "last_pymnt_amnt                  0\n",
       "last_fico_range_high             0\n",
       "last_fico_range_low              0\n",
       "classes                          0\n",
       "Length: 72, dtype: int64"
      ]
     },
     "execution_count": 32,
     "metadata": {},
     "output_type": "execute_result"
    }
   ],
   "source": [
    "data.isnull().sum().sort_values(ascending=False)"
   ]
  },
  {
   "cell_type": "code",
   "execution_count": 33,
   "metadata": {},
   "outputs": [
    {
     "data": {
      "text/plain": [
       "(1373915, 72)"
      ]
     },
     "execution_count": 33,
     "metadata": {},
     "output_type": "execute_result"
    }
   ],
   "source": [
    "data.shape"
   ]
  },
  {
   "cell_type": "code",
   "execution_count": 34,
   "metadata": {
    "scrolled": true
   },
   "outputs": [
    {
     "data": {
      "text/plain": [
       "title\n",
       "Debt consolidation             675757\n",
       "Credit card refinancing        254681\n",
       "Home improvement                76832\n",
       "Other                           68683\n",
       "Major purchase                  24718\n",
       "                                ...  \n",
       "Life Perserver Loan                 1\n",
       "NeverAgain                          1\n",
       "Consolidate 3 loans                 1\n",
       "notebook                            1\n",
       "debt reduction/hone updates         1\n",
       "Name: count, Length: 63153, dtype: int64"
      ]
     },
     "execution_count": 34,
     "metadata": {},
     "output_type": "execute_result"
    }
   ],
   "source": [
    "data['title'].value_counts()"
   ]
  },
  {
   "cell_type": "code",
   "execution_count": 35,
   "metadata": {
    "scrolled": true
   },
   "outputs": [
    {
     "data": {
      "text/plain": [
       "desc                       1247947\n",
       "emp_title                    88473\n",
       "emp_length                   80850\n",
       "pct_tl_nvr_dlq               70430\n",
       "avg_cur_bal                  70299\n",
       "                            ...   \n",
       "collection_recovery_fee          0\n",
       "last_pymnt_amnt                  0\n",
       "last_fico_range_high             0\n",
       "last_fico_range_low              0\n",
       "classes                          0\n",
       "Length: 72, dtype: int64"
      ]
     },
     "execution_count": 35,
     "metadata": {},
     "output_type": "execute_result"
    }
   ],
   "source": [
    "data.isnull().sum().sort_values(ascending=False)"
   ]
  },
  {
   "cell_type": "code",
   "execution_count": 36,
   "metadata": {},
   "outputs": [],
   "source": [
    "# 'num_actv_bc_tl' is the first attempt to remove the majority of the 70,200 missing values across 17 features\n",
    "data = data[data['num_actv_bc_tl'].notna()]"
   ]
  },
  {
   "cell_type": "code",
   "execution_count": 37,
   "metadata": {},
   "outputs": [],
   "source": [
    "data = data[data['bc_util'].notna()]"
   ]
  },
  {
   "cell_type": "code",
   "execution_count": 38,
   "metadata": {},
   "outputs": [],
   "source": [
    "data = data[data['emp_length'].notna()]"
   ]
  },
  {
   "cell_type": "markdown",
   "metadata": {},
   "source": [
    "I drop the employment length missing values because, although likely to be underreported, it is worse to make up data here"
   ]
  },
  {
   "cell_type": "code",
   "execution_count": 39,
   "metadata": {},
   "outputs": [
    {
     "data": {
      "text/plain": [
       "purpose\n",
       "debt_consolidation    710891\n",
       "credit_card           270494\n",
       "home_improvement       76974\n",
       "other                  66793\n",
       "major_purchase         25068\n",
       "medical                13259\n",
       "small_business         12454\n",
       "car                    11741\n",
       "moving                  8087\n",
       "vacation                7791\n",
       "house                   6283\n",
       "wedding                  848\n",
       "renewable_energy         747\n",
       "educational                1\n",
       "Name: count, dtype: int64"
      ]
     },
     "execution_count": 39,
     "metadata": {},
     "output_type": "execute_result"
    }
   ],
   "source": [
    "#exploring the supplied purpose field for loans\n",
    "data['purpose'].value_counts()"
   ]
  },
  {
   "cell_type": "code",
   "execution_count": 40,
   "metadata": {},
   "outputs": [],
   "source": [
    "#dropping educational as a purpose for loans due to there only being a single instance\n",
    "data = data[data['purpose'] != 'educational']"
   ]
  },
  {
   "cell_type": "code",
   "execution_count": 41,
   "metadata": {},
   "outputs": [
    {
     "data": {
      "text/plain": [
       "(1211430, 72)"
      ]
     },
     "execution_count": 41,
     "metadata": {},
     "output_type": "execute_result"
    }
   ],
   "source": [
    "data.shape"
   ]
  },
  {
   "cell_type": "markdown",
   "metadata": {},
   "source": [
    "### Visualizing EDA"
   ]
  },
  {
   "cell_type": "code",
   "execution_count": 42,
   "metadata": {
    "scrolled": true
   },
   "outputs": [
    {
     "data": {
      "image/png": "[encoded data removed]",
      "text/plain": [
       "<Figure size 640x480 with 1 Axes>"
      ]
     },
     "metadata": {},
     "output_type": "display_data"
    }
   ],
   "source": [
    "data['loan_amnt'].hist(bins=30)\n",
    "plt.title('Loan Amounts ($)', size=20);\n",
    "plt.xlabel('$ Amount', size= 12);\n",
    "plt.ylabel('Quantity of Loans', size=12);"
   ]
  },
  {
   "cell_type": "markdown",
   "metadata": {},
   "source": [
    "**Thoughts:** The loan amount data clearly exhibits higher frequencies at values that are multiples of 5,000. To account for these patterns when creating bins, it is essential to ensure that these spikes are positioned at the center of each bin. The following bin ranges are proposed to achieve this:\n",
    "\n",
    "- 0–2,500\n",
    "- 2,501–7,500\n",
    "- 7,501–12,500\n",
    "- 12,501–17,500\n",
    "- 17,501–22,500\n",
    "- 22,501–27,500\n",
    "- 27,501–32,500\n",
    "- 32,501–37,500\n",
    "- 37,501–42,500"
   ]
  },
  {
   "cell_type": "code",
   "execution_count": 43,
   "metadata": {},
   "outputs": [
    {
     "data": {
      "image/png": "[encoded data removed]",
      "text/plain": [
       "<Figure size 640x480 with 1 Axes>"
      ]
     },
     "metadata": {},
     "output_type": "display_data"
    }
   ],
   "source": [
    "data['annual_inc'].hist(bins=30)\n",
    "plt.title('Annual Incomes', size=20);\n",
    "plt.xlabel('$ Amount', size=12);\n",
    "plt.ylabel('Frequency of Salaries', size=12);"
   ]
  },
  {
   "cell_type": "markdown",
   "metadata": {},
   "source": [
    "**Thoughts:** It is immediately obvious there is something going on with the annual_inc column, most likely large outliers are present. This results in the absurd graph above, which I will need to investigate further. Before removing the outliers, the income ranges from "
   ]
  },
  {
   "cell_type": "code",
   "execution_count": 44,
   "metadata": {},
   "outputs": [
    {
     "data": {
      "text/plain": [
       "<matplotlib.collections.PathCollection at 0x16b752950>"
      ]
     },
     "execution_count": 44,
     "metadata": {},
     "output_type": "execute_result"
    },
    {
     "data": {
      "image/png": "[encoded data removed]",
      "text/plain": [
       "<Figure size 640x480 with 1 Axes>"
      ]
     },
     "metadata": {},
     "output_type": "display_data"
    }
   ],
   "source": [
    "## SCATTER PLOT OF ANNUAL INCOME TO SHOW OUTLIERS\n",
    "plt.scatter(data['annual_inc'], data['loan_amnt'])"
   ]
  },
  {
   "cell_type": "code",
   "execution_count": 45,
   "metadata": {
    "scrolled": true
   },
   "outputs": [
    {
     "data": {
      "image/png": "[encoded data removed]",
      "text/plain": [
       "<Figure size 640x480 with 1 Axes>"
      ]
     },
     "metadata": {},
     "output_type": "display_data"
    }
   ],
   "source": [
    "data['avg_cur_bal'].hist(bins=25)\n",
    "plt.title('Avg Current Balance', size = 20);\n",
    "plt.xlabel('balance size', size = 12);\n",
    "plt.ylabel('Frequency of Balances', size = 12);"
   ]
  },
  {
   "cell_type": "code",
   "execution_count": 46,
   "metadata": {},
   "outputs": [
    {
     "data": {
      "text/plain": [
       "<matplotlib.collections.PathCollection at 0x1563371d0>"
      ]
     },
     "execution_count": 46,
     "metadata": {},
     "output_type": "execute_result"
    },
    {
     "data": {
      "image/png": "[encoded data removed]",
      "text/plain": [
       "<Figure size 640x480 with 1 Axes>"
      ]
     },
     "metadata": {},
     "output_type": "display_data"
    }
   ],
   "source": [
    "## SCATTER PLOT OF AVG CURRENT BALANCE TO SHOW OUTLIERS\n",
    "plt.scatter(data['avg_cur_bal'], data['loan_amnt'])"
   ]
  },
  {
   "cell_type": "code",
   "execution_count": 47,
   "metadata": {
    "scrolled": true
   },
   "outputs": [
    {
     "data": {
      "text/plain": [
       "count    1.211430e+06\n",
       "mean     1.357119e+04\n",
       "std      1.611179e+04\n",
       "min      0.000000e+00\n",
       "25%      3.185000e+03\n",
       "50%      7.554000e+03\n",
       "75%      1.885100e+04\n",
       "max      5.559250e+05\n",
       "Name: avg_cur_bal, dtype: float64"
      ]
     },
     "execution_count": 47,
     "metadata": {},
     "output_type": "execute_result"
    }
   ],
   "source": [
    "data['avg_cur_bal'].describe()"
   ]
  },
  {
   "cell_type": "markdown",
   "metadata": {},
   "source": [
    "## Data CleaningDealing with outliers- IMPROVE VISUALIZATIONS\n",
    "annual_inc, avg_cur_bal"
   ]
  },
  {
   "cell_type": "code",
   "execution_count": 48,
   "metadata": {},
   "outputs": [],
   "source": [
    "# capping the annual income at 300_000 in order to represent a more normal distribution and remove outliers\n",
    "data_scrub = data[data['annual_inc'] <= 250_000 ]"
   ]
  },
  {
   "cell_type": "code",
   "execution_count": 49,
   "metadata": {},
   "outputs": [],
   "source": [
    "# capping the minimum of annual reported income at 1_000 as that data is unreliable\n",
    "data_scrub = data_scrub[data_scrub['annual_inc']> 500]"
   ]
  },
  {
   "cell_type": "code",
   "execution_count": 50,
   "metadata": {
    "scrolled": false
   },
   "outputs": [
    {
     "data": {
      "image/png": "[encoded data removed]",
      "text/plain": [
       "<Figure size 640x480 with 1 Axes>"
      ]
     },
     "metadata": {},
     "output_type": "display_data"
    }
   ],
   "source": [
    "data_scrub['annual_inc'].hist(bins=35)\n",
    "plt.title('Annual Incomes (No Outliers)', size=20);\n",
    "plt.xlabel('Income Amount', size=12);\n",
    "plt.ylabel('Frequency of Salaries', size=12);"
   ]
  },
  {
   "cell_type": "code",
   "execution_count": 51,
   "metadata": {},
   "outputs": [],
   "source": [
    "data_scrub = data_scrub[data_scrub['avg_cur_bal'] < 60_000]"
   ]
  },
  {
   "cell_type": "code",
   "execution_count": 52,
   "metadata": {},
   "outputs": [
    {
     "data": {
      "image/png": "[encoded data removed]",
      "text/plain": [
       "<Figure size 640x480 with 1 Axes>"
      ]
     },
     "metadata": {},
     "output_type": "display_data"
    }
   ],
   "source": [
    "data_scrub['avg_cur_bal'].hist(bins=35)\n",
    "plt.title('Avg Current Balance (No Outliers)', size = 20);\n",
    "plt.xlabel('balance size', size = 12);\n",
    "plt.ylabel('Frequency of Balances', size = 12);"
   ]
  },
  {
   "cell_type": "markdown",
   "metadata": {},
   "source": [
    "### Looking at Text Fields: \n",
    "a handful of columns in this dataset are text based and need further investigation in order to determine how to manipulate them so they are more useful. As they are currently object data types we need to find a way to convert this data into numerical information. Two approaches immediately "
   ]
  },
  {
   "cell_type": "code",
   "execution_count": 53,
   "metadata": {
    "scrolled": true
   },
   "outputs": [
    {
     "data": {
      "text/plain": [
       "emp_title\n",
       "Teacher                              21355\n",
       "Manager                              19772\n",
       "Owner                                10641\n",
       "Registered Nurse                      8885\n",
       "RN                                    8585\n",
       "                                     ...  \n",
       "Peer mentor                              1\n",
       "Sr. Information Security Analyst         1\n",
       "ETL- Log                                 1\n",
       "Promotions coordinator                   1\n",
       "Exec Dir Internal Audit                  1\n",
       "Name: count, Length: 341751, dtype: int64"
      ]
     },
     "execution_count": 53,
     "metadata": {},
     "output_type": "execute_result"
    }
   ],
   "source": [
    "data['emp_title'].value_counts()"
   ]
  },
  {
   "cell_type": "code",
   "execution_count": 54,
   "metadata": {
    "scrolled": true
   },
   "outputs": [
    {
     "data": {
      "text/plain": [
       "title\n",
       "Debt consolidation                628293\n",
       "Credit card refinancing           237167\n",
       "Home improvement                   69634\n",
       "Other                              61647\n",
       "Major purchase                     22770\n",
       "                                   ...  \n",
       "Mission: Debt Payoff!                  1\n",
       "Positive Financial Steps               1\n",
       "personal  payoff                       1\n",
       "renovation of existing home.           1\n",
       "Home Improvement/Pay off Debts         1\n",
       "Name: count, Length: 37176, dtype: int64"
      ]
     },
     "execution_count": 54,
     "metadata": {},
     "output_type": "execute_result"
    }
   ],
   "source": [
    "data['title'].value_counts()"
   ]
  },
  {
   "cell_type": "code",
   "execution_count": 55,
   "metadata": {
    "scrolled": true
   },
   "outputs": [
    {
     "data": {
      "text/plain": [
       "desc\n",
       "                                                                                                                                                                                                                                                                                                                                                 23\n",
       "  Borrower added on 03/17/14 > Debt consolidation<br>                                                                                                                                                                                                                                                                                            10\n",
       "  Borrower added on 03/10/14 > Debt consolidation<br>                                                                                                                                                                                                                                                                                            10\n",
       "  Borrower added on 01/29/14 > Debt consolidation<br>                                                                                                                                                                                                                                                                                             8\n",
       "  Borrower added on 01/15/14 > Debt consolidation<br>                                                                                                                                                                                                                                                                                             7\n",
       "                                                                                                                                                                                                                                                                                                                                                 ..\n",
       "  Borrower added on 09/30/13 > I've gotten about $10,000 in high interest rate credit card debt and i'm paying about $400 monthly on three different cards and the amount doesn't seem to be going down. This load will help me get a handle on this.<br>                                                                                         1\n",
       "  Borrower added on 09/30/13 > Refinance Credit Card Debt with a more manageable interest rate.<br>                                                                                                                                                                                                                                               1\n",
       "  Borrower added on 09/30/13 > My business of 3 years crumbled and in order to pay off all of my debtors, I was forced to use my credit cards at very high interest rates (we all know banks only offer umbrellas when its sunny outside). Now I am stuck with high interest payments and little options to a quick recovery.  Thank you!<br>     1\n",
       "  Borrower added on 09/30/13 > This loan will allow me to consolidate my credit card debt.<br>                                                                                                                                                                                                                                                    1\n",
       "This loan will be used solely to consolidate credit card debts accrued while wife was/is unemployed.                                                                                                                                                                                                                                              1\n",
       "Name: count, Length: 73999, dtype: int64"
      ]
     },
     "execution_count": 55,
     "metadata": {},
     "output_type": "execute_result"
    }
   ],
   "source": [
    "data['desc'].value_counts()"
   ]
  },
  {
   "cell_type": "markdown",
   "metadata": {},
   "source": [
    "**Thoughts:** The dataset contains significant complexity in textual columns, with **341,751 unique values for `emp_title`**, **37,177 for `title`**, and **73,999 for `desc`**. This level of variability makes it challenging to process these columns directly. After converting these fields to string format, Natural Language Processing (NLP) techniques will need to be integrated into the project. Ideally, this would involve reducing complexity by grouping similar titles, correcting spelling errors, and applying other preprocessing techniques. However, due to time constraints, it may not be feasible to implement these comprehensive approaches in this project."
   ]
  },
  {
   "cell_type": "markdown",
   "metadata": {},
   "source": [
    "### Additional Data Cleaning"
   ]
  },
  {
   "cell_type": "code",
   "execution_count": 56,
   "metadata": {
    "scrolled": false
   },
   "outputs": [
    {
     "name": "stdout",
     "output_type": "stream",
     "text": [
      "finished checking column  \"loan_amnt\"\n",
      "finished checking column  \"funded_amnt\"\n",
      "finished checking column  \"funded_amnt_inv\"\n",
      "finished checking column  \"term\"\n",
      "finished checking column  \"int_rate\"\n",
      "finished checking column  \"installment\"\n",
      "finished checking column  \"grade\"\n",
      "finished checking column  \"emp_title\"\n",
      "finished checking column  \"emp_length\"\n",
      "finished checking column  \"home_ownership\"\n",
      "finished checking column  \"annual_inc\"\n",
      "finished checking column  \"verification_status\"\n",
      "finished checking column  \"issue_d\"\n",
      "finished checking column  \"pymnt_plan\"\n",
      "finished checking column  \"desc\"\n",
      "finished checking column  \"purpose\"\n",
      "finished checking column  \"title\"\n",
      "finished checking column  \"addr_state\"\n",
      "finished checking column  \"dti\"\n",
      "finished checking column  \"delinq_2yrs\"\n",
      "finished checking column  \"earliest_cr_line\"\n",
      "finished checking column  \"fico_range_low\"\n",
      "finished checking column  \"fico_range_high\"\n",
      "finished checking column  \"inq_last_6mths\"\n",
      "finished checking column  \"open_acc\"\n",
      "finished checking column  \"pub_rec\"\n",
      "finished checking column  \"revol_bal\"\n",
      "finished checking column  \"revol_util\"\n",
      "finished checking column  \"total_acc\"\n",
      "finished checking column  \"out_prncp\"\n",
      "finished checking column  \"out_prncp_inv\"\n",
      "finished checking column  \"recoveries\"\n",
      "finished checking column  \"collection_recovery_fee\"\n",
      "finished checking column  \"last_pymnt_amnt\"\n",
      "finished checking column  \"last_fico_range_high\"\n",
      "finished checking column  \"last_fico_range_low\"\n",
      "finished checking column  \"collections_12_mths_ex_med\"\n",
      "finished checking column  \"application_type\"\n",
      "finished checking column  \"acc_now_delinq\"\n",
      "finished checking column  \"tot_coll_amt\"\n",
      "finished checking column  \"tot_cur_bal\"\n",
      "finished checking column  \"acc_open_past_24mths\"\n",
      "finished checking column  \"avg_cur_bal\"\n",
      "finished checking column  \"bc_open_to_buy\"\n",
      "finished checking column  \"bc_util\"\n",
      "finished checking column  \"chargeoff_within_12_mths\"\n",
      "finished checking column  \"delinq_amnt\"\n",
      "finished checking column  \"mort_acc\"\n",
      "finished checking column  \"num_accts_ever_120_pd\"\n",
      "finished checking column  \"num_actv_bc_tl\"\n",
      "finished checking column  \"num_actv_rev_tl\"\n",
      "finished checking column  \"num_bc_sats\"\n",
      "finished checking column  \"num_bc_tl\"\n",
      "finished checking column  \"num_il_tl\"\n",
      "finished checking column  \"num_op_rev_tl\"\n",
      "finished checking column  \"num_rev_accts\"\n",
      "finished checking column  \"num_rev_tl_bal_gt_0\"\n",
      "finished checking column  \"num_sats\"\n",
      "finished checking column  \"num_tl_30dpd\"\n",
      "finished checking column  \"num_tl_90g_dpd_24m\"\n",
      "finished checking column  \"num_tl_op_past_12m\"\n",
      "finished checking column  \"pct_tl_nvr_dlq\"\n",
      "finished checking column  \"percent_bc_gt_75\"\n",
      "finished checking column  \"pub_rec_bankruptcies\"\n",
      "finished checking column  \"tax_liens\"\n",
      "finished checking column  \"tot_hi_cred_lim\"\n",
      "finished checking column  \"total_bal_ex_mort\"\n",
      "finished checking column  \"total_il_high_credit_limit\"\n",
      "finished checking column  \"hardship_flag\"\n",
      "finished checking column  \"disbursement_method\"\n",
      "finished checking column  \"debt_settlement_flag\"\n",
      "finished checking column  \"classes\"\n",
      "FINISHED ALL!\n"
     ]
    }
   ],
   "source": [
    "#i wrote a function to automate the dropping of rows that contain NaN in columns which had 2000 or less NaN\n",
    "\n",
    "def drop_na(df):\n",
    "    cols=data.columns\n",
    "    subset=[]\n",
    "    for i in cols:\n",
    "        #check number of missing values\n",
    "        missing_vals = df[i].isnull().sum()\n",
    "        #if less than 2000 na, drop the rows containing na\n",
    "        if missing_vals <= 2000:\n",
    "            subset.append(i)\n",
    "            \n",
    "        df.dropna(subset=subset,inplace=True)\n",
    "        print(f'finished checking column  \"{i}\"')\n",
    "    print('FINISHED ALL!')\n",
    "\n",
    "drop_na(data)"
   ]
  },
  {
   "cell_type": "code",
   "execution_count": 57,
   "metadata": {
    "scrolled": true
   },
   "outputs": [
    {
     "data": {
      "text/plain": [
       "desc                       1135844\n",
       "title                        14534\n",
       "emp_title                     5806\n",
       "loan_amnt                        0\n",
       "num_accts_ever_120_pd            0\n",
       "                            ...   \n",
       "collection_recovery_fee          0\n",
       "last_pymnt_amnt                  0\n",
       "last_fico_range_high             0\n",
       "last_fico_range_low              0\n",
       "classes                          0\n",
       "Length: 72, dtype: int64"
      ]
     },
     "execution_count": 57,
     "metadata": {},
     "output_type": "execute_result"
    }
   ],
   "source": [
    "data.isnull().sum().sort_values(ascending=False)"
   ]
  },
  {
   "cell_type": "code",
   "execution_count": 58,
   "metadata": {},
   "outputs": [],
   "source": [
    "data['emp_title'].fillna(\" . \", inplace= True)"
   ]
  },
  {
   "cell_type": "code",
   "execution_count": 59,
   "metadata": {},
   "outputs": [],
   "source": [
    "data['title'].fillna(\" . \", inplace= True)"
   ]
  },
  {
   "cell_type": "code",
   "execution_count": 60,
   "metadata": {},
   "outputs": [],
   "source": [
    "data['desc'].fillna(\" . \", inplace= True)"
   ]
  },
  {
   "cell_type": "code",
   "execution_count": 61,
   "metadata": {
    "scrolled": true
   },
   "outputs": [
    {
     "data": {
      "text/plain": [
       "(1210906, 72)"
      ]
     },
     "execution_count": 61,
     "metadata": {},
     "output_type": "execute_result"
    }
   ],
   "source": [
    "data.shape"
   ]
  },
  {
   "cell_type": "markdown",
   "metadata": {},
   "source": [
    "## Reviewing Data Types"
   ]
  },
  {
   "cell_type": "code",
   "execution_count": 62,
   "metadata": {
    "scrolled": false
   },
   "outputs": [
    {
     "data": {
      "text/plain": [
       "float64    54\n",
       "object     17\n",
       "int64       1\n",
       "Name: count, dtype: int64"
      ]
     },
     "execution_count": 62,
     "metadata": {},
     "output_type": "execute_result"
    }
   ],
   "source": [
    "data.dtypes.value_counts()"
   ]
  },
  {
   "cell_type": "code",
   "execution_count": 63,
   "metadata": {},
   "outputs": [],
   "source": [
    "object_cols = data.select_dtypes(include='object').columns"
   ]
  },
  {
   "cell_type": "code",
   "execution_count": 64,
   "metadata": {},
   "outputs": [],
   "source": [
    "# data['issue_d'].head()"
   ]
  },
  {
   "cell_type": "code",
   "execution_count": 65,
   "metadata": {
    "scrolled": true
   },
   "outputs": [
    {
     "name": "stderr",
     "output_type": "stream",
     "text": [
      "/var/folders/mz/7whxfwmx1bs3m6p4ln701xkw0000gn/T/ipykernel_1738/2469893809.py:1: UserWarning: Could not infer format, so each element will be parsed individually, falling back to `dateutil`. To ensure parsing is consistent and as-expected, please specify a format.\n",
      "  data['issue_d'] = pd.to_datetime(data['issue_d'])\n"
     ]
    }
   ],
   "source": [
    "data['issue_d'] = pd.to_datetime(data['issue_d'])"
   ]
  },
  {
   "cell_type": "code",
   "execution_count": 66,
   "metadata": {},
   "outputs": [
    {
     "data": {
      "text/plain": [
       "0    Aug-2003\n",
       "1    Dec-1999\n",
       "2    Aug-2000\n",
       "4    Jun-1998\n",
       "5    Oct-1987\n",
       "Name: earliest_cr_line, dtype: object"
      ]
     },
     "execution_count": 66,
     "metadata": {},
     "output_type": "execute_result"
    }
   ],
   "source": [
    "data['earliest_cr_line'].head()"
   ]
  },
  {
   "cell_type": "code",
   "execution_count": 67,
   "metadata": {},
   "outputs": [
    {
     "name": "stderr",
     "output_type": "stream",
     "text": [
      "/var/folders/mz/7whxfwmx1bs3m6p4ln701xkw0000gn/T/ipykernel_1738/1040952477.py:1: UserWarning: Could not infer format, so each element will be parsed individually, falling back to `dateutil`. To ensure parsing is consistent and as-expected, please specify a format.\n",
      "  data['earliest_cr_line'] = pd.to_datetime(data['earliest_cr_line'])\n"
     ]
    }
   ],
   "source": [
    "data['earliest_cr_line'] = pd.to_datetime(data['earliest_cr_line'])"
   ]
  },
  {
   "cell_type": "code",
   "execution_count": 68,
   "metadata": {},
   "outputs": [],
   "source": [
    "# taking the difference of the 2 columns to create length of credit history\n",
    "data['credit_length_days'] = data['issue_d'] - data['earliest_cr_line']"
   ]
  },
  {
   "cell_type": "code",
   "execution_count": 69,
   "metadata": {
    "scrolled": true
   },
   "outputs": [],
   "source": [
    "#extracting just the days out of the timedate format\n",
    "data['credit_length_days'] = data['credit_length_days'].dt.days"
   ]
  },
  {
   "cell_type": "code",
   "execution_count": 70,
   "metadata": {},
   "outputs": [
    {
     "data": {
      "text/plain": [
       "0     4505\n",
       "1     5844\n",
       "2     5600\n",
       "4     6392\n",
       "5    10288\n",
       "Name: credit_length_days, dtype: int64"
      ]
     },
     "execution_count": 70,
     "metadata": {},
     "output_type": "execute_result"
    }
   ],
   "source": [
    "#verifying the output\n",
    "data['credit_length_days'].head()"
   ]
  },
  {
   "cell_type": "code",
   "execution_count": 71,
   "metadata": {
    "scrolled": true
   },
   "outputs": [
    {
     "data": {
      "text/plain": [
       "<matplotlib.collections.PathCollection at 0x164474b90>"
      ]
     },
     "execution_count": 71,
     "metadata": {},
     "output_type": "execute_result"
    },
    {
     "data": {
      "image/png": "[encoded data removed]",
      "text/plain": [
       "<Figure size 640x480 with 1 Axes>"
      ]
     },
     "metadata": {},
     "output_type": "display_data"
    }
   ],
   "source": [
    "plt.scatter(data['loan_amnt'], data['credit_length_days'])"
   ]
  },
  {
   "cell_type": "code",
   "execution_count": 72,
   "metadata": {},
   "outputs": [
    {
     "data": {
      "text/plain": [
       "1096"
      ]
     },
     "execution_count": 72,
     "metadata": {},
     "output_type": "execute_result"
    }
   ],
   "source": [
    "data['credit_length_days'].min()"
   ]
  },
  {
   "cell_type": "code",
   "execution_count": 73,
   "metadata": {},
   "outputs": [
    {
     "data": {
      "image/png": "[encoded data removed]",
      "text/plain": [
       "<Figure size 640x480 with 1 Axes>"
      ]
     },
     "metadata": {},
     "output_type": "display_data"
    }
   ],
   "source": [
    "data['credit_length_days'].hist(bins=35)\n",
    "plt.title(('Length of Credit History'), size = 20);\n",
    "plt.xlabel('Length in Days', size = 12);\n",
    "plt.ylabel('Frequency of Amounts', size = 12);"
   ]
  },
  {
   "cell_type": "code",
   "execution_count": 74,
   "metadata": {},
   "outputs": [
    {
     "data": {
      "text/plain": [
       "5868.0097472471025"
      ]
     },
     "execution_count": 74,
     "metadata": {},
     "output_type": "execute_result"
    }
   ],
   "source": [
    "data['credit_length_days'].mean()"
   ]
  },
  {
   "cell_type": "code",
   "execution_count": 75,
   "metadata": {},
   "outputs": [
    {
     "data": {
      "text/plain": [
       "78467.85838115429"
      ]
     },
     "execution_count": 75,
     "metadata": {},
     "output_type": "execute_result"
    }
   ],
   "source": [
    "data['annual_inc'].mean()"
   ]
  },
  {
   "cell_type": "code",
   "execution_count": 76,
   "metadata": {},
   "outputs": [],
   "source": [
    "data.drop(columns=['issue_d', 'earliest_cr_line'], inplace=True)"
   ]
  },
  {
   "cell_type": "code",
   "execution_count": 77,
   "metadata": {
    "scrolled": true
   },
   "outputs": [
    {
     "data": {
      "text/plain": [
       "loan_amnt             0\n",
       "mort_acc              0\n",
       "num_il_tl             0\n",
       "num_bc_tl             0\n",
       "num_bc_sats           0\n",
       "                     ..\n",
       "pub_rec               0\n",
       "open_acc              0\n",
       "inq_last_6mths        0\n",
       "fico_range_high       0\n",
       "credit_length_days    0\n",
       "Length: 71, dtype: int64"
      ]
     },
     "execution_count": 77,
     "metadata": {},
     "output_type": "execute_result"
    }
   ],
   "source": [
    "data.isnull().sum().sort_values(ascending=False)"
   ]
  },
  {
   "cell_type": "code",
   "execution_count": 78,
   "metadata": {},
   "outputs": [
    {
     "data": {
      "text/plain": [
       "850.0"
      ]
     },
     "execution_count": 78,
     "metadata": {},
     "output_type": "execute_result"
    }
   ],
   "source": [
    "data['fico_range_high'].max()"
   ]
  },
  {
   "cell_type": "code",
   "execution_count": 79,
   "metadata": {},
   "outputs": [
    {
     "data": {
      "text/plain": [
       "660.0"
      ]
     },
     "execution_count": 79,
     "metadata": {},
     "output_type": "execute_result"
    }
   ],
   "source": [
    "data['fico_range_low'].min()"
   ]
  },
  {
   "cell_type": "code",
   "execution_count": 80,
   "metadata": {},
   "outputs": [
    {
     "data": {
      "text/plain": [
       "0           4505\n",
       "1           5844\n",
       "2           5600\n",
       "4           6392\n",
       "5          10288\n",
       "           ...  \n",
       "2260688     4475\n",
       "2260690     5328\n",
       "2260691     1949\n",
       "2260692     7001\n",
       "2260697     6302\n",
       "Name: credit_length_days, Length: 1210906, dtype: int64"
      ]
     },
     "execution_count": 80,
     "metadata": {},
     "output_type": "execute_result"
    }
   ],
   "source": [
    "data['credit_length_days']"
   ]
  },
  {
   "cell_type": "code",
   "execution_count": 81,
   "metadata": {},
   "outputs": [],
   "source": [
    "data.to_csv('./dataset/cleaned.csv', index=False)"
   ]
  },
  {
   "cell_type": "markdown",
   "metadata": {},
   "source": [
    "With all missing values addressed in the dataset, the next steps can proceed. The upcoming notebook will focus on Feature Engineering and further Exploratory Data Analysis (EDA). To streamline this process, the current dataset is being exported as a CSV file, allowing it to be easily loaded into the next notebook for continued analysis. Splitting the workflow across notebooks ensures a more organized and efficient approach."
   ]
  }
 ],
 "metadata": {
  "kernelspec": {
   "display_name": "base",
   "language": "python",
   "name": "python3"
  },
  "language_info": {
   "codemirror_mode": {
    "name": "ipython",
    "version": 3
   },
   "file_extension": ".py",
   "mimetype": "text/x-python",
   "name": "python",
   "nbconvert_exporter": "python",
   "pygments_lexer": "ipython3",
   "version": "3.11.7"
  }
 },
 "nbformat": 4,
 "nbformat_minor": 2
}
