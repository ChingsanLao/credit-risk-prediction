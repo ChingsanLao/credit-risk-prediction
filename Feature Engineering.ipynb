{
 "cells": [
  {
   "cell_type": "markdown",
   "metadata": {},
   "source": [
    "# Part 2: Feature Engineering"
   ]
  },
  {
   "cell_type": "markdown",
   "metadata": {},
   "source": [
    "### Content List\n",
    "- [Imports](#Imports)\n",
    "- [Check Data Types](#Check-Data-Types)\n",
    "- [User-Submitted Text Features](#User-Submitted-Text-Features)\n",
    "- [Ordinal Rankings](#Ordinal-Rankings)\n",
    "- [One-Hot Encoding](#One-Hot-Encoding)\n",
    "- [Interaction Features](#Interaction-Features)\n"
   ]
  },
  {
   "cell_type": "markdown",
   "metadata": {},
   "source": [
    "### Imports\n",
    "Similar imports as in Part 1"
   ]
  },
  {
   "cell_type": "code",
   "execution_count": 1,
   "metadata": {},
   "outputs": [],
   "source": [
    "\n",
    "%matplotlib inline\n",
    "import pandas as pd\n",
    "import matplotlib.pyplot as plt\n",
    "import seaborn as sns\n",
    "import numpy as np\n",
    "import math"
   ]
  },
  {
   "cell_type": "code",
   "execution_count": 85,
   "metadata": {},
   "outputs": [],
   "source": [
    "data_ = pd.read_csv('./data/cleaned.csv')"
   ]
  },
  {
   "cell_type": "code",
   "execution_count": 86,
   "metadata": {},
   "outputs": [],
   "source": [
    "data = data_"
   ]
  },
  {
   "cell_type": "code",
   "execution_count": 87,
   "metadata": {},
   "outputs": [
    {
     "name": "stdout",
     "output_type": "stream",
     "text": [
      "(1210906, 71)\n"
     ]
    }
   ],
   "source": [
    "print(data.shape)"
   ]
  },
  {
   "cell_type": "markdown",
   "metadata": {},
   "source": [
    "### Check Data Types\n",
    "This is an important step as we need to have a clear idea of which how many object columns remain as we need to get them into an interpretable format. "
   ]
  },
  {
   "cell_type": "code",
   "execution_count": 88,
   "metadata": {},
   "outputs": [
    {
     "data": {
      "text/plain": [
       "float64    54\n",
       "object     15\n",
       "int64       2\n",
       "Name: count, dtype: int64"
      ]
     },
     "execution_count": 88,
     "metadata": {},
     "output_type": "execute_result"
    }
   ],
   "source": [
    "data.dtypes.value_counts()"
   ]
  },
  {
   "cell_type": "code",
   "execution_count": 89,
   "metadata": {
    "scrolled": false
   },
   "outputs": [
    {
     "data": {
      "text/plain": [
       "Index(['term', 'grade', 'emp_title', 'emp_length', 'home_ownership',\n",
       "       'verification_status', 'pymnt_plan', 'desc', 'purpose', 'title',\n",
       "       'addr_state', 'application_type', 'hardship_flag',\n",
       "       'disbursement_method', 'debt_settlement_flag'],\n",
       "      dtype='object')"
      ]
     },
     "execution_count": 89,
     "metadata": {},
     "output_type": "execute_result"
    }
   ],
   "source": [
    "object_cols = data.select_dtypes(include='object').columns\n",
    "object_cols"
   ]
  },
  {
   "cell_type": "markdown",
   "metadata": {},
   "source": [
    "The dataset will undergo the following encoding and transformation processes to prepare it for analysis and modeling:  \n",
    "\n",
    "1. **Binarization**:  \n",
    "   The following features will be binarized:  \n",
    "   - `term`  \n",
    "   - `verification_status`  \n",
    "   - `payment_plan`  \n",
    "   - `application_type`  \n",
    "   - `hardship_flag`  \n",
    "   - `disbursement_method`  \n",
    "   - `debt_settlement_flag`  \n",
    "\n",
    "2. **One-Hot Encoding**:  \n",
    "   The following features will be one-hot encoded:  \n",
    "   - `home_ownership`  \n",
    "   - `purpose`  \n",
    "   - `addr_state`  \n",
    "\n",
    "3. **Ordinal Encoding**:  \n",
    "   The following features will be encoded based on ordinal rank:  \n",
    "   - `emp_length`  \n",
    "   - `grade`  \n",
    "\n",
    "4. **Text Feature Transformation**:  \n",
    "   - The text columns `desc`, `emp_title`, and `title` will be measured by their length.  \n",
    "   - These lengths will then be combined into a single feature for potential use in Natural Language Processing (NLP) tasks.  \n",
    "\n",
    "5. **DateTime Conversion**:  \n",
    "   - The text columns `issue_d` and `earliest_cr_line` will be converted into DateTime format.  \n",
    "   - A new column will be created to represent the difference between these dates, which will then be converted into an integer for modeling purposes.  \n"
   ]
  },
  {
   "cell_type": "code",
   "execution_count": 90,
   "metadata": {},
   "outputs": [
    {
     "data": {
      "text/plain": [
       "Index(['loan_amnt', 'funded_amnt', 'funded_amnt_inv', 'term', 'int_rate',\n",
       "       'installment', 'grade', 'emp_title', 'emp_length', 'home_ownership',\n",
       "       'annual_inc', 'verification_status', 'pymnt_plan', 'desc', 'purpose',\n",
       "       'title', 'addr_state', 'dti', 'delinq_2yrs', 'fico_range_low',\n",
       "       'fico_range_high', 'inq_last_6mths', 'open_acc', 'pub_rec', 'revol_bal',\n",
       "       'revol_util', 'total_acc', 'out_prncp', 'out_prncp_inv', 'recoveries',\n",
       "       'collection_recovery_fee', 'last_pymnt_amnt', 'last_fico_range_high',\n",
       "       'last_fico_range_low', 'collections_12_mths_ex_med', 'application_type',\n",
       "       'acc_now_delinq', 'tot_coll_amt', 'tot_cur_bal', 'acc_open_past_24mths',\n",
       "       'avg_cur_bal', 'bc_open_to_buy', 'bc_util', 'chargeoff_within_12_mths',\n",
       "       'delinq_amnt', 'mort_acc', 'num_accts_ever_120_pd', 'num_actv_bc_tl',\n",
       "       'num_actv_rev_tl', 'num_bc_sats', 'num_bc_tl', 'num_il_tl',\n",
       "       'num_op_rev_tl', 'num_rev_accts', 'num_rev_tl_bal_gt_0', 'num_sats',\n",
       "       'num_tl_30dpd', 'num_tl_90g_dpd_24m', 'num_tl_op_past_12m',\n",
       "       'pct_tl_nvr_dlq', 'percent_bc_gt_75', 'pub_rec_bankruptcies',\n",
       "       'tax_liens', 'tot_hi_cred_lim', 'total_bal_ex_mort',\n",
       "       'total_il_high_credit_limit', 'hardship_flag', 'disbursement_method',\n",
       "       'debt_settlement_flag', 'classes', 'credit_length_days'],\n",
       "      dtype='object')"
      ]
     },
     "execution_count": 90,
     "metadata": {},
     "output_type": "execute_result"
    }
   ],
   "source": [
    "data.columns"
   ]
  },
  {
   "cell_type": "markdown",
   "metadata": {},
   "source": [
    "### User-Submitted Text Features"
   ]
  },
  {
   "cell_type": "markdown",
   "metadata": {},
   "source": [
    "#### build an aggregate column of all text input"
   ]
  },
  {
   "cell_type": "code",
   "execution_count": 91,
   "metadata": {},
   "outputs": [],
   "source": [
    "desc_length = []\n",
    "\n",
    "[desc_length.append(len(i)) for i in data.desc]\n",
    "\n",
    "data[\"desc_length\"]= desc_length"
   ]
  },
  {
   "cell_type": "code",
   "execution_count": 92,
   "metadata": {
    "scrolled": true
   },
   "outputs": [
    {
     "data": {
      "text/plain": [
       "0    3\n",
       "1    3\n",
       "2    3\n",
       "3    3\n",
       "4    3\n",
       "Name: desc_length, dtype: int64"
      ]
     },
     "execution_count": 92,
     "metadata": {},
     "output_type": "execute_result"
    }
   ],
   "source": [
    "data['desc_length'].head()"
   ]
  },
  {
   "cell_type": "code",
   "execution_count": 93,
   "metadata": {},
   "outputs": [],
   "source": [
    "data['all_text'] = data['desc'] + \" \" + data['emp_title'] + \" \" + data['title']"
   ]
  },
  {
   "cell_type": "code",
   "execution_count": 94,
   "metadata": {
    "scrolled": true
   },
   "outputs": [
    {
     "data": {
      "text/plain": [
       "0                  .  leadman Debt consolidation\n",
       "1                           .  Engineer Business\n",
       "2                            .  truck driver  . \n",
       "3          .  Contract Specialist Major purchase\n",
       "4     .  Veterinary Tecnician Debt consolidation\n",
       "Name: all_text, dtype: object"
      ]
     },
     "execution_count": 94,
     "metadata": {},
     "output_type": "execute_result"
    }
   ],
   "source": [
    "data['all_text'].head()"
   ]
  },
  {
   "cell_type": "markdown",
   "metadata": {},
   "source": [
    "#### Using List Comprehension, measure the lengths of each item dealing with user text input and return that as a new column"
   ]
  },
  {
   "cell_type": "code",
   "execution_count": 95,
   "metadata": {},
   "outputs": [],
   "source": [
    "all_text_length = [len(i) for i in data['all_text']]\n",
    "    \n",
    "data[\"all_text_length\"] = all_text_length"
   ]
  },
  {
   "cell_type": "code",
   "execution_count": 96,
   "metadata": {
    "scrolled": true
   },
   "outputs": [
    {
     "data": {
      "text/plain": [
       "all_text_length\n",
       "38      60580\n",
       "30      57492\n",
       "39      56927\n",
       "37      55074\n",
       "35      51277\n",
       "        ...  \n",
       "782         1\n",
       "817         1\n",
       "937         1\n",
       "999         1\n",
       "1094        1\n",
       "Name: count, Length: 973, dtype: int64"
      ]
     },
     "execution_count": 96,
     "metadata": {},
     "output_type": "execute_result"
    }
   ],
   "source": [
    "data['all_text_length'].value_counts()"
   ]
  },
  {
   "cell_type": "code",
   "execution_count": 97,
   "metadata": {
    "scrolled": true
   },
   "outputs": [
    {
     "data": {
      "text/plain": [
       "0                 leadman\n",
       "1                Engineer\n",
       "2            truck driver\n",
       "3     Contract Specialist\n",
       "4    Veterinary Tecnician\n",
       "Name: emp_title, dtype: object"
      ]
     },
     "execution_count": 97,
     "metadata": {},
     "output_type": "execute_result"
    }
   ],
   "source": [
    "data.emp_title.head()"
   ]
  },
  {
   "cell_type": "code",
   "execution_count": 98,
   "metadata": {},
   "outputs": [],
   "source": [
    "desc_length = [len(i) for i in data.desc]\n",
    "    \n",
    "data[\"desc_length\"]= desc_length"
   ]
  },
  {
   "cell_type": "code",
   "execution_count": 99,
   "metadata": {
    "scrolled": true
   },
   "outputs": [],
   "source": [
    "emp_title_length = [len(i) for i in data.emp_title]\n",
    "\n",
    "data[\"emp_title_length\"] = emp_title_length"
   ]
  },
  {
   "cell_type": "code",
   "execution_count": 100,
   "metadata": {},
   "outputs": [],
   "source": [
    "title_length = [len(i) for i in data.title]\n",
    "    \n",
    "data[\"title_length\"] = title_length"
   ]
  },
  {
   "cell_type": "markdown",
   "metadata": {},
   "source": [
    "### Ordinal Rankings\n",
    "converting grade G:1 to A:7"
   ]
  },
  {
   "cell_type": "code",
   "execution_count": 101,
   "metadata": {},
   "outputs": [
    {
     "name": "stderr",
     "output_type": "stream",
     "text": [
      "C:\\Users\\USER\\AppData\\Local\\Temp\\ipykernel_13668\\697013423.py:9: FutureWarning: A value is trying to be set on a copy of a DataFrame or Series through chained assignment using an inplace method.\n",
      "The behavior will change in pandas 3.0. This inplace method will never work because the intermediate object on which we are setting values always behaves as a copy.\n",
      "\n",
      "For example, when doing 'df[col].method(value, inplace=True)', try using 'df.method({col: value}, inplace=True)' or df[col] = df[col].method(value) instead, to perform the operation inplace on the original object.\n",
      "\n",
      "\n",
      "  data['grade'].replace(length_dict, inplace=True)\n",
      "C:\\Users\\USER\\AppData\\Local\\Temp\\ipykernel_13668\\697013423.py:9: FutureWarning: Downcasting behavior in `replace` is deprecated and will be removed in a future version. To retain the old behavior, explicitly call `result.infer_objects(copy=False)`. To opt-in to the future behavior, set `pd.set_option('future.no_silent_downcasting', True)`\n",
      "  data['grade'].replace(length_dict, inplace=True)\n"
     ]
    }
   ],
   "source": [
    "#building a dictionary of values to identify and replace grade-  G:1 to A:7\n",
    "length_dict = {'A':7,\n",
    "               'B': 6,               \n",
    "               'C': 5,\n",
    "               'D': 4,\n",
    "               'E': 3,\n",
    "               'F': 2,\n",
    "               'G': 1,}\n",
    "data['grade'].replace(length_dict, inplace=True)"
   ]
  },
  {
   "cell_type": "code",
   "execution_count": 102,
   "metadata": {},
   "outputs": [
    {
     "data": {
      "text/plain": [
       "0    5\n",
       "1    5\n",
       "2    6\n",
       "3    2\n",
       "4    5\n",
       "Name: grade, dtype: int64"
      ]
     },
     "execution_count": 102,
     "metadata": {},
     "output_type": "execute_result"
    }
   ],
   "source": [
    "data['grade'].head()"
   ]
  },
  {
   "cell_type": "code",
   "execution_count": 103,
   "metadata": {},
   "outputs": [
    {
     "name": "stderr",
     "output_type": "stream",
     "text": [
      "C:\\Users\\USER\\AppData\\Local\\Temp\\ipykernel_13668\\1744365477.py:13: FutureWarning: A value is trying to be set on a copy of a DataFrame or Series through chained assignment using an inplace method.\n",
      "The behavior will change in pandas 3.0. This inplace method will never work because the intermediate object on which we are setting values always behaves as a copy.\n",
      "\n",
      "For example, when doing 'df[col].method(value, inplace=True)', try using 'df.method({col: value}, inplace=True)' or df[col] = df[col].method(value) instead, to perform the operation inplace on the original object.\n",
      "\n",
      "\n",
      "  data['emp_length'].replace(length_dict, inplace=True)\n",
      "C:\\Users\\USER\\AppData\\Local\\Temp\\ipykernel_13668\\1744365477.py:13: FutureWarning: Downcasting behavior in `replace` is deprecated and will be removed in a future version. To retain the old behavior, explicitly call `result.infer_objects(copy=False)`. To opt-in to the future behavior, set `pd.set_option('future.no_silent_downcasting', True)`\n",
      "  data['emp_length'].replace(length_dict, inplace=True)\n"
     ]
    }
   ],
   "source": [
    "#building a dictionary of values to identify and replace\n",
    "length_dict = {'10+ years':10,\n",
    "        '2 years': 2,\n",
    "        '< 1 year': 0,\n",
    "        '3 years': 3,\n",
    "        '1 year': 1,\n",
    "        '5 years': 5,\n",
    "        '4 years': 4,\n",
    "        '6 years': 6,\n",
    "        '8 years': 8,\n",
    "        '7 years': 7,\n",
    "        '9 years': 9}\n",
    "data['emp_length'].replace(length_dict, inplace=True)"
   ]
  },
  {
   "cell_type": "code",
   "execution_count": 104,
   "metadata": {
    "scrolled": true
   },
   "outputs": [
    {
     "data": {
      "image/png": "[encoded data removed]",
      "text/plain": [
       "<Figure size 640x480 with 1 Axes>"
      ]
     },
     "metadata": {},
     "output_type": "display_data"
    }
   ],
   "source": [
    "plt.hist(data['emp_length'], bins=11)\n",
    "plt.title('Employment Lengths', size=20);\n",
    "plt.xlabel('Years Employed', size=12);\n",
    "plt.ylabel('Frequency', size=12);"
   ]
  },
  {
   "cell_type": "code",
   "execution_count": 105,
   "metadata": {
    "scrolled": true
   },
   "outputs": [
    {
     "data": {
      "text/plain": [
       "emp_length\n",
       "10    0.353633\n",
       "2     0.095727\n",
       "3     0.084659\n",
       "0     0.084487\n",
       "1     0.069488\n",
       "5     0.065368\n",
       "4     0.062566\n",
       "6     0.048762\n",
       "8     0.048173\n",
       "7     0.046742\n",
       "9     0.040395\n",
       "Name: proportion, dtype: float64"
      ]
     },
     "execution_count": 105,
     "metadata": {},
     "output_type": "execute_result"
    }
   ],
   "source": [
    "data['emp_length'].value_counts(normalize=True)"
   ]
  },
  {
   "cell_type": "code",
   "execution_count": 106,
   "metadata": {},
   "outputs": [
    {
     "data": {
      "text/plain": [
       "5.997059226727756"
      ]
     },
     "execution_count": 106,
     "metadata": {},
     "output_type": "execute_result"
    }
   ],
   "source": [
    "data['emp_length'].mean()"
   ]
  },
  {
   "cell_type": "code",
   "execution_count": 107,
   "metadata": {},
   "outputs": [
    {
     "data": {
      "text/plain": [
       "classes\n",
       "0    5.860851\n",
       "1    6.033932\n",
       "Name: emp_length, dtype: float64"
      ]
     },
     "execution_count": 107,
     "metadata": {},
     "output_type": "execute_result"
    }
   ],
   "source": [
    "# Find the mean employment length of people whose loans did or did not succeed.\n",
    "\n",
    "data.groupby(by='classes')['emp_length'].mean()"
   ]
  },
  {
   "cell_type": "markdown",
   "metadata": {},
   "source": [
    "### One-Hot Encoding\n",
    "- purpose\n",
    "- verification_status\n",
    "- addr_state\n",
    "- pymnt_plan\n",
    "- initial_list_status\n",
    "- application_type\n",
    "- hardship_flag\n",
    "- disbursement_method\n",
    "- debt_settlement_flag"
   ]
  },
  {
   "cell_type": "code",
   "execution_count": 108,
   "metadata": {},
   "outputs": [
    {
     "data": {
      "text/plain": [
       "76"
      ]
     },
     "execution_count": 108,
     "metadata": {},
     "output_type": "execute_result"
    }
   ],
   "source": [
    "len(data.columns)"
   ]
  },
  {
   "cell_type": "code",
   "execution_count": 109,
   "metadata": {},
   "outputs": [
    {
     "data": {
      "text/plain": [
       "Index(['term', 'grade', 'emp_title', 'emp_length', 'home_ownership',\n",
       "       'verification_status', 'pymnt_plan', 'desc', 'purpose', 'title',\n",
       "       'addr_state', 'application_type', 'hardship_flag',\n",
       "       'disbursement_method', 'debt_settlement_flag'],\n",
       "      dtype='object')"
      ]
     },
     "execution_count": 109,
     "metadata": {},
     "output_type": "execute_result"
    }
   ],
   "source": [
    "## all remaining object cols\n",
    "object_cols"
   ]
  },
  {
   "cell_type": "code",
   "execution_count": 110,
   "metadata": {},
   "outputs": [
    {
     "data": {
      "text/plain": [
       "0     36 months\n",
       "1     36 months\n",
       "2     60 months\n",
       "3     60 months\n",
       "4     36 months\n",
       "Name: term, dtype: object"
      ]
     },
     "execution_count": 110,
     "metadata": {},
     "output_type": "execute_result"
    }
   ],
   "source": [
    "data['term'].head()"
   ]
  },
  {
   "cell_type": "markdown",
   "metadata": {},
   "source": [
    "#### Purpose"
   ]
  },
  {
   "cell_type": "code",
   "execution_count": 111,
   "metadata": {},
   "outputs": [
    {
     "data": {
      "text/plain": [
       "purpose\n",
       "debt_consolidation    710586\n",
       "credit_card           270419\n",
       "home_improvement       76917\n",
       "other                  66739\n",
       "major_purchase         25060\n",
       "medical                13252\n",
       "small_business         12448\n",
       "car                    11737\n",
       "moving                  8085\n",
       "vacation                7788\n",
       "house                   6281\n",
       "wedding                  848\n",
       "renewable_energy         746\n",
       "Name: count, dtype: int64"
      ]
     },
     "execution_count": 111,
     "metadata": {},
     "output_type": "execute_result"
    }
   ],
   "source": [
    "data['purpose'].value_counts()"
   ]
  },
  {
   "cell_type": "code",
   "execution_count": 112,
   "metadata": {},
   "outputs": [
    {
     "data": {
      "text/plain": [
       "classes  purpose           \n",
       "0        debt_consolidation    0.617561\n",
       "         credit_card           0.188380\n",
       "         other                 0.059608\n",
       "         home_improvement      0.057523\n",
       "         major_purchase        0.020580\n",
       "         small_business        0.015711\n",
       "         medical               0.011843\n",
       "         moving                0.007896\n",
       "         car                   0.007400\n",
       "         vacation              0.006299\n",
       "         house                 0.005974\n",
       "         renewable_energy      0.000744\n",
       "         wedding               0.000481\n",
       "1        debt_consolidation    0.578500\n",
       "         credit_card           0.232778\n",
       "         home_improvement      0.065144\n",
       "         other                 0.053899\n",
       "         major_purchase        0.020726\n",
       "         medical               0.010701\n",
       "         car                   0.010313\n",
       "         small_business        0.008810\n",
       "         vacation              0.006467\n",
       "         moving                0.006347\n",
       "         house                 0.004974\n",
       "         wedding               0.000760\n",
       "         renewable_energy      0.000581\n",
       "Name: proportion, dtype: float64"
      ]
     },
     "execution_count": 112,
     "metadata": {},
     "output_type": "execute_result"
    }
   ],
   "source": [
    "data.groupby(by='classes')['purpose'].value_counts(normalize= True)"
   ]
  },
  {
   "cell_type": "code",
   "execution_count": 113,
   "metadata": {},
   "outputs": [],
   "source": [
    "one_hot = ['purpose', 'term',\n",
    "'verification_status',\n",
    "'pymnt_plan',\n",
    "'application_type',\n",
    "'hardship_flag', 'addr_state',\n",
    "'disbursement_method', \n",
    "'debt_settlement_flag', 'home_ownership']"
   ]
  },
  {
   "cell_type": "code",
   "execution_count": 114,
   "metadata": {},
   "outputs": [],
   "source": [
    "data = pd.get_dummies(data= data, columns = one_hot, drop_first=True)"
   ]
  },
  {
   "cell_type": "code",
   "execution_count": 115,
   "metadata": {
    "scrolled": true
   },
   "outputs": [
    {
     "data": {
      "text/plain": [
       "Index(['loan_amnt', 'funded_amnt', 'funded_amnt_inv', 'int_rate',\n",
       "       'installment', 'grade', 'emp_title', 'emp_length', 'annual_inc', 'desc',\n",
       "       ...\n",
       "       'addr_state_WI', 'addr_state_WV', 'addr_state_WY',\n",
       "       'disbursement_method_DirectPay', 'debt_settlement_flag_Y',\n",
       "       'home_ownership_MORTGAGE', 'home_ownership_NONE',\n",
       "       'home_ownership_OTHER', 'home_ownership_OWN', 'home_ownership_RENT'],\n",
       "      dtype='object', length=141)"
      ]
     },
     "execution_count": 115,
     "metadata": {},
     "output_type": "execute_result"
    }
   ],
   "source": [
    "data.columns"
   ]
  },
  {
   "cell_type": "code",
   "execution_count": 116,
   "metadata": {},
   "outputs": [
    {
     "data": {
      "text/plain": [
       "141"
      ]
     },
     "execution_count": 116,
     "metadata": {},
     "output_type": "execute_result"
    }
   ],
   "source": [
    "len(data.columns)"
   ]
  },
  {
   "cell_type": "code",
   "execution_count": 138,
   "metadata": {},
   "outputs": [],
   "source": [
    "num_cols = data.select_dtypes(include=('int64', 'float64')).columns\n",
    "\n",
    "X = data[num_cols].drop(columns='classes')\n",
    "y = data['classes']"
   ]
  },
  {
   "cell_type": "code",
   "execution_count": 141,
   "metadata": {},
   "outputs": [
    {
     "name": "stdout",
     "output_type": "stream",
     "text": [
      "Index(['loan_amnt', 'funded_amnt', 'funded_amnt_inv', 'int_rate',\n",
      "       'installment', 'grade', 'emp_length', 'annual_inc', 'dti',\n",
      "       'delinq_2yrs', 'fico_range_low', 'fico_range_high', 'inq_last_6mths',\n",
      "       'open_acc', 'pub_rec', 'revol_bal', 'revol_util', 'total_acc',\n",
      "       'out_prncp', 'out_prncp_inv', 'recoveries', 'collection_recovery_fee',\n",
      "       'last_pymnt_amnt', 'last_fico_range_high', 'last_fico_range_low',\n",
      "       'collections_12_mths_ex_med', 'acc_now_delinq', 'tot_coll_amt',\n",
      "       'tot_cur_bal', 'acc_open_past_24mths', 'avg_cur_bal', 'bc_open_to_buy',\n",
      "       'bc_util', 'chargeoff_within_12_mths', 'delinq_amnt', 'mort_acc',\n",
      "       'num_accts_ever_120_pd', 'num_actv_bc_tl', 'num_actv_rev_tl',\n",
      "       'num_bc_sats', 'num_bc_tl', 'num_il_tl', 'num_op_rev_tl',\n",
      "       'num_rev_accts', 'num_rev_tl_bal_gt_0', 'num_sats', 'num_tl_30dpd',\n",
      "       'num_tl_90g_dpd_24m', 'num_tl_op_past_12m', 'pct_tl_nvr_dlq',\n",
      "       'percent_bc_gt_75', 'pub_rec_bankruptcies', 'tax_liens',\n",
      "       'tot_hi_cred_lim', 'total_bal_ex_mort', 'total_il_high_credit_limit',\n",
      "       'credit_length_days', 'desc_length', 'all_text_length',\n",
      "       'emp_title_length', 'title_length'],\n",
      "      dtype='object')\n",
      "0    1\n",
      "1    1\n",
      "2    1\n",
      "3    1\n",
      "4    1\n",
      "Name: classes, dtype: int64\n"
     ]
    }
   ],
   "source": [
    "print(X.columns)  # This should show all feature columns\n",
    "print(y.head())   # This should show the target 'classes'"
   ]
  },
  {
   "cell_type": "code",
   "execution_count": 142,
   "metadata": {},
   "outputs": [
    {
     "name": "stdout",
     "output_type": "stream",
     "text": [
      "last_fico_range_high       0.676471\n",
      "last_fico_range_low        0.576524\n",
      "last_pymnt_amnt            0.365640\n",
      "grade                      0.267092\n",
      "fico_range_low             0.127869\n",
      "                             ...   \n",
      "out_prncp_inv             -0.215422\n",
      "out_prncp                 -0.215432\n",
      "int_rate                  -0.266967\n",
      "collection_recovery_fee   -0.468686\n",
      "recoveries                -0.487781\n",
      "Length: 61, dtype: float64\n"
     ]
    }
   ],
   "source": [
    "# Calculate correlation between features and target 'classes'\n",
    "corr_with_target = X.corrwith(y).sort_values(ascending=False)\n",
    "\n",
    "# Display the correlation\n",
    "print(corr_with_target)"
   ]
  },
  {
   "cell_type": "code",
   "execution_count": 146,
   "metadata": {},
   "outputs": [
    {
     "name": "stdout",
     "output_type": "stream",
     "text": [
      "last_fico_range_high       0.676471\n",
      "last_fico_range_low        0.576524\n",
      "last_pymnt_amnt            0.365640\n",
      "grade                      0.267092\n",
      "fico_range_low             0.127869\n",
      "fico_range_high            0.127868\n",
      "acc_open_past_24mths      -0.103102\n",
      "out_prncp_inv             -0.215422\n",
      "out_prncp                 -0.215432\n",
      "int_rate                  -0.266967\n",
      "collection_recovery_fee   -0.468686\n",
      "recoveries                -0.487781\n",
      "dtype: float64\n"
     ]
    }
   ],
   "source": [
    "# Select features with correlation greater than 0.3 or less than -0.3\n",
    "selected_features = corr_with_target[abs(corr_with_target) > 0.1]\n",
    "print(selected_features)\n"
   ]
  },
  {
   "cell_type": "code",
   "execution_count": 151,
   "metadata": {},
   "outputs": [
    {
     "name": "stdout",
     "output_type": "stream",
     "text": [
      "last_fico_range_high       0.676471\n",
      "last_fico_range_low        0.576524\n",
      "recoveries                 0.487781\n",
      "collection_recovery_fee    0.468686\n",
      "last_pymnt_amnt            0.365640\n",
      "grade                      0.267092\n",
      "int_rate                   0.266967\n",
      "out_prncp                  0.215432\n",
      "out_prncp_inv              0.215422\n",
      "fico_range_low             0.127869\n",
      "fico_range_high            0.127868\n",
      "acc_open_past_24mths       0.103102\n",
      "dti                        0.094116\n",
      "num_tl_op_past_12m         0.087883\n",
      "mort_acc                   0.080323\n",
      "bc_open_to_buy             0.078072\n",
      "loan_amnt                  0.077418\n",
      "funded_amnt                0.077416\n",
      "funded_amnt_inv            0.077404\n",
      "avg_cur_bal                0.077212\n",
      "dtype: float64\n"
     ]
    }
   ],
   "source": [
    "# Select top 20 features with highest correlation\n",
    "top_features = corr_with_target.abs().sort_values(ascending=False).head(20)\n",
    "print(top_features)"
   ]
  },
  {
   "cell_type": "code",
   "execution_count": 154,
   "metadata": {},
   "outputs": [
    {
     "name": "stderr",
     "output_type": "stream",
     "text": [
      "C:\\Users\\USER\\AppData\\Local\\Temp\\ipykernel_13668\\2164752713.py:3: SettingWithCopyWarning: \n",
      "A value is trying to be set on a copy of a slice from a DataFrame.\n",
      "Try using .loc[row_indexer,col_indexer] = value instead\n",
      "\n",
      "See the caveats in the documentation: https://pandas.pydata.org/pandas-docs/stable/user_guide/indexing.html#returning-a-view-versus-a-copy\n",
      "  data_top_features['classes'] = data['classes']\n"
     ]
    }
   ],
   "source": [
    "# save the data of top 20 features and target 'classes' to a new dataframe\n",
    "data_top_features = data[top_features.index]\n",
    "data_top_features['classes'] = data['classes']\n",
    "\n",
    "# save the data to a new csv file\n",
    "data_top_features.to_csv('./data/cleaned_FEATURES.csv', index=False)\n"
   ]
  }
 ],
 "metadata": {
  "kernelspec": {
   "display_name": "Python 3",
   "language": "python",
   "name": "python3"
  },
  "language_info": {
   "codemirror_mode": {
    "name": "ipython",
    "version": 3
   },
   "file_extension": ".py",
   "mimetype": "text/x-python",
   "name": "python",
   "nbconvert_exporter": "python",
   "pygments_lexer": "ipython3",
   "version": "3.10.0"
  }
 },
 "nbformat": 4,
 "nbformat_minor": 2
}
