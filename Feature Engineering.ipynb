{
 "cells": [
  {
   "cell_type": "markdown",
   "metadata": {},
   "source": [
    "# Part 2: Feature Engineering"
   ]
  },
  {
   "cell_type": "markdown",
   "metadata": {},
   "source": [
    "### Content List\n",
    "- [Imports](#Imports)\n",
    "- [Check Data Types](#Check-Data-Types)\n",
    "- [User-Submitted Text Features](#User-Submitted-Text-Features)\n",
    "- [Ordinal Rankings](#Ordinal-Rankings)\n",
    "- [One-Hot Encoding](#One-Hot-Encoding)\n",
    "- [Interaction Features](#Interaction-Features)\n"
   ]
  },
  {
   "cell_type": "markdown",
   "metadata": {},
   "source": [
    "### Imports\n",
    "Similar imports as in Part 1"
   ]
  },
  {
   "cell_type": "code",
   "execution_count": 1,
   "metadata": {},
   "outputs": [],
   "source": [
    "\n",
    "%matplotlib inline\n",
    "import pandas as pd\n",
    "import matplotlib.pyplot as plt\n",
    "import seaborn as sns\n",
    "import numpy as np\n",
    "import math"
   ]
  },
  {
   "cell_type": "code",
   "execution_count": 2,
   "metadata": {},
   "outputs": [],
   "source": [
    "data_ = pd.read_csv('./dataset/cleaned.csv')"
   ]
  },
  {
   "cell_type": "code",
   "execution_count": 3,
   "metadata": {},
   "outputs": [],
   "source": [
    "data = data_"
   ]
  },
  {
   "cell_type": "markdown",
   "metadata": {},
   "source": [
    "### Check Data Types\n",
    "This is an important step as we need to have a clear idea of which how many object columns remain as we need to get them into an interpretable format. "
   ]
  },
  {
   "cell_type": "code",
   "execution_count": 4,
   "metadata": {},
   "outputs": [
    {
     "data": {
      "text/plain": [
       "float64    54\n",
       "object     15\n",
       "int64       2\n",
       "Name: count, dtype: int64"
      ]
     },
     "execution_count": 4,
     "metadata": {},
     "output_type": "execute_result"
    }
   ],
   "source": [
    "data.dtypes.value_counts()"
   ]
  },
  {
   "cell_type": "code",
   "execution_count": 5,
   "metadata": {
    "scrolled": false
   },
   "outputs": [
    {
     "data": {
      "text/plain": [
       "Index(['term', 'grade', 'emp_title', 'emp_length', 'home_ownership',\n",
       "       'verification_status', 'pymnt_plan', 'desc', 'purpose', 'title',\n",
       "       'addr_state', 'application_type', 'hardship_flag',\n",
       "       'disbursement_method', 'debt_settlement_flag'],\n",
       "      dtype='object')"
      ]
     },
     "execution_count": 5,
     "metadata": {},
     "output_type": "execute_result"
    }
   ],
   "source": [
    "object_cols = data.select_dtypes(include='object').columns\n",
    "object_cols"
   ]
  },
  {
   "cell_type": "markdown",
   "metadata": {},
   "source": [
    "The dataset will undergo the following encoding and transformation processes to prepare it for analysis and modeling:  \n",
    "\n",
    "1. **Binarization**:  \n",
    "   The following features will be binarized:  \n",
    "   - `term`  \n",
    "   - `verification_status`  \n",
    "   - `payment_plan`  \n",
    "   - `application_type`  \n",
    "   - `hardship_flag`  \n",
    "   - `disbursement_method`  \n",
    "   - `debt_settlement_flag`  \n",
    "\n",
    "2. **One-Hot Encoding**:  \n",
    "   The following features will be one-hot encoded:  \n",
    "   - `home_ownership`  \n",
    "   - `purpose`  \n",
    "   - `addr_state`  \n",
    "\n",
    "3. **Ordinal Encoding**:  \n",
    "   The following features will be encoded based on ordinal rank:  \n",
    "   - `emp_length`  \n",
    "   - `grade`  \n",
    "\n",
    "4. **Text Feature Transformation**:  \n",
    "   - The text columns `desc`, `emp_title`, and `title` will be measured by their length.  \n",
    "   - These lengths will then be combined into a single feature for potential use in Natural Language Processing (NLP) tasks.  \n",
    "\n",
    "5. **DateTime Conversion**:  \n",
    "   - The text columns `issue_d` and `earliest_cr_line` will be converted into DateTime format.  \n",
    "   - A new column will be created to represent the difference between these dates, which will then be converted into an integer for modeling purposes.  \n"
   ]
  },
  {
   "cell_type": "code",
   "execution_count": 6,
   "metadata": {},
   "outputs": [
    {
     "data": {
      "text/plain": [
       "Index(['loan_amnt', 'funded_amnt', 'funded_amnt_inv', 'term', 'int_rate',\n",
       "       'installment', 'grade', 'emp_title', 'emp_length', 'home_ownership',\n",
       "       'annual_inc', 'verification_status', 'pymnt_plan', 'desc', 'purpose',\n",
       "       'title', 'addr_state', 'dti', 'delinq_2yrs', 'fico_range_low',\n",
       "       'fico_range_high', 'inq_last_6mths', 'open_acc', 'pub_rec', 'revol_bal',\n",
       "       'revol_util', 'total_acc', 'out_prncp', 'out_prncp_inv', 'recoveries',\n",
       "       'collection_recovery_fee', 'last_pymnt_amnt', 'last_fico_range_high',\n",
       "       'last_fico_range_low', 'collections_12_mths_ex_med', 'application_type',\n",
       "       'acc_now_delinq', 'tot_coll_amt', 'tot_cur_bal', 'acc_open_past_24mths',\n",
       "       'avg_cur_bal', 'bc_open_to_buy', 'bc_util', 'chargeoff_within_12_mths',\n",
       "       'delinq_amnt', 'mort_acc', 'num_accts_ever_120_pd', 'num_actv_bc_tl',\n",
       "       'num_actv_rev_tl', 'num_bc_sats', 'num_bc_tl', 'num_il_tl',\n",
       "       'num_op_rev_tl', 'num_rev_accts', 'num_rev_tl_bal_gt_0', 'num_sats',\n",
       "       'num_tl_30dpd', 'num_tl_90g_dpd_24m', 'num_tl_op_past_12m',\n",
       "       'pct_tl_nvr_dlq', 'percent_bc_gt_75', 'pub_rec_bankruptcies',\n",
       "       'tax_liens', 'tot_hi_cred_lim', 'total_bal_ex_mort',\n",
       "       'total_il_high_credit_limit', 'hardship_flag', 'disbursement_method',\n",
       "       'debt_settlement_flag', 'classes', 'credit_length_days'],\n",
       "      dtype='object')"
      ]
     },
     "execution_count": 6,
     "metadata": {},
     "output_type": "execute_result"
    }
   ],
   "source": [
    "data.columns"
   ]
  },
  {
   "cell_type": "markdown",
   "metadata": {},
   "source": [
    "### User-Submitted Text Features"
   ]
  },
  {
   "cell_type": "markdown",
   "metadata": {},
   "source": [
    "#### build an aggregate column of all text input"
   ]
  },
  {
   "cell_type": "code",
   "execution_count": 7,
   "metadata": {},
   "outputs": [],
   "source": [
    "desc_length = []\n",
    "\n",
    "[desc_length.append(len(i)) for i in data.desc]\n",
    "    \n",
    "data[\"desc_length\"]= desc_length"
   ]
  },
  {
   "cell_type": "code",
   "execution_count": 8,
   "metadata": {
    "scrolled": true
   },
   "outputs": [
    {
     "data": {
      "text/plain": [
       "0    3\n",
       "1    3\n",
       "2    3\n",
       "3    3\n",
       "4    3\n",
       "Name: desc_length, dtype: int64"
      ]
     },
     "execution_count": 8,
     "metadata": {},
     "output_type": "execute_result"
    }
   ],
   "source": [
    "data['desc_length'].head()"
   ]
  },
  {
   "cell_type": "code",
   "execution_count": 9,
   "metadata": {},
   "outputs": [],
   "source": [
    "data['all_text'] = data['desc'] + \" \" + data['emp_title'] + \" \" + data['title']"
   ]
  },
  {
   "cell_type": "code",
   "execution_count": 10,
   "metadata": {
    "scrolled": true
   },
   "outputs": [
    {
     "data": {
      "text/plain": [
       "0                  .  leadman Debt consolidation\n",
       "1                           .  Engineer Business\n",
       "2                            .  truck driver  . \n",
       "3          .  Contract Specialist Major purchase\n",
       "4     .  Veterinary Tecnician Debt consolidation\n",
       "Name: all_text, dtype: object"
      ]
     },
     "execution_count": 10,
     "metadata": {},
     "output_type": "execute_result"
    }
   ],
   "source": [
    "data['all_text'].head()"
   ]
  },
  {
   "cell_type": "markdown",
   "metadata": {},
   "source": [
    "#### Using List Comprehension, measure the lengths of each item dealing with user text input and return that as a new column"
   ]
  },
  {
   "cell_type": "code",
   "execution_count": 11,
   "metadata": {},
   "outputs": [],
   "source": [
    "all_text_length = [len(i) for i in data['all_text']]\n",
    "    \n",
    "data[\"all_text_length\"] = all_text_length"
   ]
  },
  {
   "cell_type": "code",
   "execution_count": 12,
   "metadata": {
    "scrolled": true
   },
   "outputs": [
    {
     "data": {
      "text/plain": [
       "all_text_length\n",
       "38      60580\n",
       "30      57492\n",
       "39      56927\n",
       "37      55074\n",
       "35      51277\n",
       "        ...  \n",
       "782         1\n",
       "817         1\n",
       "937         1\n",
       "999         1\n",
       "1094        1\n",
       "Name: count, Length: 973, dtype: int64"
      ]
     },
     "execution_count": 12,
     "metadata": {},
     "output_type": "execute_result"
    }
   ],
   "source": [
    "data['all_text_length'].value_counts()"
   ]
  },
  {
   "cell_type": "code",
   "execution_count": 13,
   "metadata": {
    "scrolled": true
   },
   "outputs": [
    {
     "data": {
      "text/plain": [
       "0                 leadman\n",
       "1                Engineer\n",
       "2            truck driver\n",
       "3     Contract Specialist\n",
       "4    Veterinary Tecnician\n",
       "Name: emp_title, dtype: object"
      ]
     },
     "execution_count": 13,
     "metadata": {},
     "output_type": "execute_result"
    }
   ],
   "source": [
    "data.emp_title.head()"
   ]
  },
  {
   "cell_type": "code",
   "execution_count": 14,
   "metadata": {},
   "outputs": [],
   "source": [
    "desc_length = [len(i) for i in data.desc]\n",
    "    \n",
    "data[\"desc_length\"]= desc_length"
   ]
  },
  {
   "cell_type": "code",
   "execution_count": 15,
   "metadata": {
    "scrolled": true
   },
   "outputs": [],
   "source": [
    "emp_title_length = [len(i) for i in data.emp_title]\n",
    "\n",
    "data[\"emp_title_length\"] = emp_title_length"
   ]
  },
  {
   "cell_type": "code",
   "execution_count": 16,
   "metadata": {},
   "outputs": [],
   "source": [
    "title_length = [len(i) for i in data.title]\n",
    "    \n",
    "data[\"title_length\"] = title_length"
   ]
  },
  {
   "cell_type": "markdown",
   "metadata": {},
   "source": [
    "### Ordinal Rankings\n",
    "converting grade G:1 to A:7"
   ]
  },
  {
   "cell_type": "code",
   "execution_count": 17,
   "metadata": {},
   "outputs": [],
   "source": [
    "#building a dictionary of values to identify and replace grade-  G:1 to A:7\n",
    "length_dict = {'A':7,\n",
    "               'B': 6,               \n",
    "               'C': 5,\n",
    "               'D': 4,\n",
    "               'E': 3,\n",
    "               'F': 2,\n",
    "               'G': 1,}\n",
    "data['grade'].replace(length_dict, inplace=True)"
   ]
  },
  {
   "cell_type": "code",
   "execution_count": 18,
   "metadata": {},
   "outputs": [
    {
     "data": {
      "text/plain": [
       "0    5\n",
       "1    5\n",
       "2    6\n",
       "3    2\n",
       "4    5\n",
       "Name: grade, dtype: int64"
      ]
     },
     "execution_count": 18,
     "metadata": {},
     "output_type": "execute_result"
    }
   ],
   "source": [
    "data['grade'].head()"
   ]
  },
  {
   "cell_type": "code",
   "execution_count": 19,
   "metadata": {},
   "outputs": [],
   "source": [
    "#building a dictionary of values to identify and replace\n",
    "length_dict = {'10+ years':10,\n",
    "        '2 years': 2,\n",
    "        '< 1 year': 0,\n",
    "        '3 years': 3,\n",
    "        '1 year': 1,\n",
    "        '5 years': 5,\n",
    "        '4 years': 4,\n",
    "        '6 years': 6,\n",
    "        '8 years': 8,\n",
    "        '7 years': 7,\n",
    "        '9 years': 9}\n",
    "data['emp_length'].replace(length_dict, inplace=True)"
   ]
  },
  {
   "cell_type": "code",
   "execution_count": 20,
   "metadata": {
    "scrolled": true
   },
   "outputs": [
    {
     "data": {
      "image/png": "[encoded data removed]",
      "text/plain": [
       "<Figure size 640x480 with 1 Axes>"
      ]
     },
     "metadata": {},
     "output_type": "display_data"
    }
   ],
   "source": [
    "plt.hist(data['emp_length'], bins=11)\n",
    "plt.title('Employment Lengths', size=20);\n",
    "plt.xlabel('Years Employed', size=12);\n",
    "plt.ylabel('Frequency', size=12);"
   ]
  },
  {
   "cell_type": "code",
   "execution_count": 21,
   "metadata": {
    "scrolled": true
   },
   "outputs": [
    {
     "data": {
      "text/plain": [
       "emp_length\n",
       "10    0.353633\n",
       "2     0.095727\n",
       "3     0.084659\n",
       "0     0.084487\n",
       "1     0.069488\n",
       "5     0.065368\n",
       "4     0.062566\n",
       "6     0.048762\n",
       "8     0.048173\n",
       "7     0.046742\n",
       "9     0.040395\n",
       "Name: proportion, dtype: float64"
      ]
     },
     "execution_count": 21,
     "metadata": {},
     "output_type": "execute_result"
    }
   ],
   "source": [
    "data['emp_length'].value_counts(normalize=True)"
   ]
  },
  {
   "cell_type": "code",
   "execution_count": 22,
   "metadata": {},
   "outputs": [
    {
     "data": {
      "text/plain": [
       "5.997059226727756"
      ]
     },
     "execution_count": 22,
     "metadata": {},
     "output_type": "execute_result"
    }
   ],
   "source": [
    "data['emp_length'].mean()"
   ]
  },
  {
   "cell_type": "code",
   "execution_count": 23,
   "metadata": {},
   "outputs": [
    {
     "data": {
      "text/plain": [
       "classes\n",
       "0    5.860851\n",
       "1    6.033932\n",
       "Name: emp_length, dtype: float64"
      ]
     },
     "execution_count": 23,
     "metadata": {},
     "output_type": "execute_result"
    }
   ],
   "source": [
    "# Find the mean employment length of people whose loans did or did not succeed.\n",
    "\n",
    "data.groupby(by='classes')['emp_length'].mean()"
   ]
  },
  {
   "cell_type": "markdown",
   "metadata": {},
   "source": [
    "### One-Hot Encoding\n",
    "- purpose\n",
    "- verification_status\n",
    "- addr_state\n",
    "- pymnt_plan\n",
    "- initial_list_status\n",
    "- application_type\n",
    "- hardship_flag\n",
    "- disbursement_method\n",
    "- debt_settlement_flag"
   ]
  },
  {
   "cell_type": "code",
   "execution_count": 24,
   "metadata": {},
   "outputs": [
    {
     "data": {
      "text/plain": [
       "76"
      ]
     },
     "execution_count": 24,
     "metadata": {},
     "output_type": "execute_result"
    }
   ],
   "source": [
    "len(data.columns)"
   ]
  },
  {
   "cell_type": "code",
   "execution_count": 25,
   "metadata": {},
   "outputs": [
    {
     "data": {
      "text/plain": [
       "Index(['term', 'grade', 'emp_title', 'emp_length', 'home_ownership',\n",
       "       'verification_status', 'pymnt_plan', 'desc', 'purpose', 'title',\n",
       "       'addr_state', 'application_type', 'hardship_flag',\n",
       "       'disbursement_method', 'debt_settlement_flag'],\n",
       "      dtype='object')"
      ]
     },
     "execution_count": 25,
     "metadata": {},
     "output_type": "execute_result"
    }
   ],
   "source": [
    "## all remaining object cols\n",
    "object_cols"
   ]
  },
  {
   "cell_type": "code",
   "execution_count": 26,
   "metadata": {},
   "outputs": [
    {
     "data": {
      "text/plain": [
       "0     36 months\n",
       "1     36 months\n",
       "2     60 months\n",
       "3     60 months\n",
       "4     36 months\n",
       "Name: term, dtype: object"
      ]
     },
     "execution_count": 26,
     "metadata": {},
     "output_type": "execute_result"
    }
   ],
   "source": [
    "data['term'].head()"
   ]
  },
  {
   "cell_type": "markdown",
   "metadata": {},
   "source": [
    "#### Purpose"
   ]
  },
  {
   "cell_type": "code",
   "execution_count": 27,
   "metadata": {},
   "outputs": [
    {
     "data": {
      "text/plain": [
       "purpose\n",
       "debt_consolidation    710586\n",
       "credit_card           270419\n",
       "home_improvement       76917\n",
       "other                  66739\n",
       "major_purchase         25060\n",
       "medical                13252\n",
       "small_business         12448\n",
       "car                    11737\n",
       "moving                  8085\n",
       "vacation                7788\n",
       "house                   6281\n",
       "wedding                  848\n",
       "renewable_energy         746\n",
       "Name: count, dtype: int64"
      ]
     },
     "execution_count": 27,
     "metadata": {},
     "output_type": "execute_result"
    }
   ],
   "source": [
    "data['purpose'].value_counts()"
   ]
  },
  {
   "cell_type": "code",
   "execution_count": 28,
   "metadata": {},
   "outputs": [
    {
     "data": {
      "text/plain": [
       "classes  purpose           \n",
       "0        debt_consolidation    0.617561\n",
       "         credit_card           0.188380\n",
       "         other                 0.059608\n",
       "         home_improvement      0.057523\n",
       "         major_purchase        0.020580\n",
       "         small_business        0.015711\n",
       "         medical               0.011843\n",
       "         moving                0.007896\n",
       "         car                   0.007400\n",
       "         vacation              0.006299\n",
       "         house                 0.005974\n",
       "         renewable_energy      0.000744\n",
       "         wedding               0.000481\n",
       "1        debt_consolidation    0.578500\n",
       "         credit_card           0.232778\n",
       "         home_improvement      0.065144\n",
       "         other                 0.053899\n",
       "         major_purchase        0.020726\n",
       "         medical               0.010701\n",
       "         car                   0.010313\n",
       "         small_business        0.008810\n",
       "         vacation              0.006467\n",
       "         moving                0.006347\n",
       "         house                 0.004974\n",
       "         wedding               0.000760\n",
       "         renewable_energy      0.000581\n",
       "Name: proportion, dtype: float64"
      ]
     },
     "execution_count": 28,
     "metadata": {},
     "output_type": "execute_result"
    }
   ],
   "source": [
    "data.groupby(by='classes')['purpose'].value_counts(normalize= True)"
   ]
  },
  {
   "cell_type": "code",
   "execution_count": 29,
   "metadata": {},
   "outputs": [],
   "source": [
    "one_hot = ['purpose', 'term',\n",
    "'verification_status',\n",
    "'pymnt_plan',\n",
    "'application_type',\n",
    "'hardship_flag', 'addr_state',\n",
    "'disbursement_method', \n",
    "'debt_settlement_flag', 'home_ownership']"
   ]
  },
  {
   "cell_type": "code",
   "execution_count": 30,
   "metadata": {},
   "outputs": [],
   "source": [
    "data = pd.get_dummies(data= data, columns = one_hot, drop_first=True)"
   ]
  },
  {
   "cell_type": "code",
   "execution_count": 31,
   "metadata": {
    "scrolled": true
   },
   "outputs": [
    {
     "data": {
      "text/plain": [
       "Index(['loan_amnt', 'funded_amnt', 'funded_amnt_inv', 'int_rate',\n",
       "       'installment', 'grade', 'emp_title', 'emp_length', 'annual_inc', 'desc',\n",
       "       ...\n",
       "       'addr_state_WI', 'addr_state_WV', 'addr_state_WY',\n",
       "       'disbursement_method_DirectPay', 'debt_settlement_flag_Y',\n",
       "       'home_ownership_MORTGAGE', 'home_ownership_NONE',\n",
       "       'home_ownership_OTHER', 'home_ownership_OWN', 'home_ownership_RENT'],\n",
       "      dtype='object', length=141)"
      ]
     },
     "execution_count": 31,
     "metadata": {},
     "output_type": "execute_result"
    }
   ],
   "source": [
    "data.columns"
   ]
  },
  {
   "cell_type": "code",
   "execution_count": 32,
   "metadata": {},
   "outputs": [
    {
     "data": {
      "text/plain": [
       "141"
      ]
     },
     "execution_count": 32,
     "metadata": {},
     "output_type": "execute_result"
    }
   ],
   "source": [
    "len(data.columns)"
   ]
  },
  {
   "cell_type": "markdown",
   "metadata": {},
   "source": [
    "## Interaction Features"
   ]
  },
  {
   "cell_type": "code",
   "execution_count": 33,
   "metadata": {
    "scrolled": true
   },
   "outputs": [],
   "source": [
    "numeric_data = data.select_dtypes(include='number')\n",
    "dataCorr = numeric_data.corr(method='pearson')\n",
    "# dataCorr = data.corr(method='pearson')\n",
    "dataCorr = dataCorr[abs(dataCorr) >= 0.8].stack().reset_index()\n",
    "dataCorr = dataCorr[dataCorr['level_0'].astype(str)!=dataCorr['level_1'].astype(str)]\n"
   ]
  },
  {
   "cell_type": "code",
   "execution_count": 34,
   "metadata": {},
   "outputs": [],
   "source": [
    "# filtering out lower/upper triangular duplicates \n",
    "dataCorr['ordered-cols'] = dataCorr.apply(lambda x: '-'.join(sorted([x['level_0'],x['level_1']])),axis=1)\n",
    "dataCorr = dataCorr.drop_duplicates(['ordered-cols'])\n",
    "dataCorr.drop(['ordered-cols'], axis=1, inplace=True)"
   ]
  },
  {
   "cell_type": "code",
   "execution_count": 35,
   "metadata": {},
   "outputs": [],
   "source": [
    "dataCorr = pd.DataFrame(dataCorr)\n",
    "\n",
    "dataCorr.columns=['Initial', 'Secondary', 'Corr_Values']\n",
    "#generate absolute value of corr values\n",
    "dataCorr['Abs_Corr_Values'] = abs(dataCorr['Corr_Values'])\n",
    "# initial_cols = list(dataCorr['Initial'])\n",
    "\n",
    "# secondary_cols = list(dataCorr['Secondary'])"
   ]
  },
  {
   "cell_type": "code",
   "execution_count": 36,
   "metadata": {},
   "outputs": [
    {
     "data": {
      "text/html": [
       "<div>\n",
       "<style scoped>\n",
       "    .dataframe tbody tr th:only-of-type {\n",
       "        vertical-align: middle;\n",
       "    }\n",
       "\n",
       "    .dataframe tbody tr th {\n",
       "        vertical-align: top;\n",
       "    }\n",
       "\n",
       "    .dataframe thead th {\n",
       "        text-align: right;\n",
       "    }\n",
       "</style>\n",
       "<table border=\"1\" class=\"dataframe\">\n",
       "  <thead>\n",
       "    <tr style=\"text-align: right;\">\n",
       "      <th></th>\n",
       "      <th>Initial</th>\n",
       "      <th>Secondary</th>\n",
       "      <th>Corr_Values</th>\n",
       "      <th>Abs_Corr_Values</th>\n",
       "    </tr>\n",
       "  </thead>\n",
       "  <tbody>\n",
       "    <tr>\n",
       "      <th>109</th>\n",
       "      <td>desc_length</td>\n",
       "      <td>all_text_length</td>\n",
       "      <td>0.984275</td>\n",
       "      <td>0.984275</td>\n",
       "    </tr>\n",
       "    <tr>\n",
       "      <th>74</th>\n",
       "      <td>num_actv_rev_tl</td>\n",
       "      <td>num_rev_tl_bal_gt_0</td>\n",
       "      <td>0.981772</td>\n",
       "      <td>0.981772</td>\n",
       "    </tr>\n",
       "    <tr>\n",
       "      <th>55</th>\n",
       "      <td>tot_cur_bal</td>\n",
       "      <td>tot_hi_cred_lim</td>\n",
       "      <td>0.976269</td>\n",
       "      <td>0.976269</td>\n",
       "    </tr>\n",
       "    <tr>\n",
       "      <th>42</th>\n",
       "      <td>recoveries</td>\n",
       "      <td>collection_recovery_fee</td>\n",
       "      <td>0.975954</td>\n",
       "      <td>0.975954</td>\n",
       "    </tr>\n",
       "    <tr>\n",
       "      <th>13</th>\n",
       "      <td>int_rate</td>\n",
       "      <td>grade</td>\n",
       "      <td>-0.954909</td>\n",
       "      <td>0.954909</td>\n",
       "    </tr>\n",
       "    <tr>\n",
       "      <th>7</th>\n",
       "      <td>funded_amnt</td>\n",
       "      <td>installment</td>\n",
       "      <td>0.952267</td>\n",
       "      <td>0.952267</td>\n",
       "    </tr>\n",
       "    <tr>\n",
       "      <th>3</th>\n",
       "      <td>loan_amnt</td>\n",
       "      <td>installment</td>\n",
       "      <td>0.952266</td>\n",
       "      <td>0.952266</td>\n",
       "    </tr>\n",
       "    <tr>\n",
       "      <th>11</th>\n",
       "      <td>funded_amnt_inv</td>\n",
       "      <td>installment</td>\n",
       "      <td>0.952221</td>\n",
       "      <td>0.952221</td>\n",
       "    </tr>\n",
       "    <tr>\n",
       "      <th>103</th>\n",
       "      <td>total_bal_ex_mort</td>\n",
       "      <td>total_il_high_credit_limit</td>\n",
       "      <td>0.874174</td>\n",
       "      <td>0.874174</td>\n",
       "    </tr>\n",
       "    <tr>\n",
       "      <th>35</th>\n",
       "      <td>revol_util</td>\n",
       "      <td>bc_util</td>\n",
       "      <td>0.856119</td>\n",
       "      <td>0.856119</td>\n",
       "    </tr>\n",
       "    <tr>\n",
       "      <th>63</th>\n",
       "      <td>bc_util</td>\n",
       "      <td>percent_bc_gt_75</td>\n",
       "      <td>0.844312</td>\n",
       "      <td>0.844312</td>\n",
       "    </tr>\n",
       "    <tr>\n",
       "      <th>54</th>\n",
       "      <td>tot_cur_bal</td>\n",
       "      <td>avg_cur_bal</td>\n",
       "      <td>0.840096</td>\n",
       "      <td>0.840096</td>\n",
       "    </tr>\n",
       "    <tr>\n",
       "      <th>78</th>\n",
       "      <td>num_bc_tl</td>\n",
       "      <td>num_rev_accts</td>\n",
       "      <td>0.838243</td>\n",
       "      <td>0.838243</td>\n",
       "    </tr>\n",
       "    <tr>\n",
       "      <th>47</th>\n",
       "      <td>last_fico_range_high</td>\n",
       "      <td>last_fico_range_low</td>\n",
       "      <td>0.828319</td>\n",
       "      <td>0.828319</td>\n",
       "    </tr>\n",
       "    <tr>\n",
       "      <th>30</th>\n",
       "      <td>open_acc</td>\n",
       "      <td>num_op_rev_tl</td>\n",
       "      <td>0.827421</td>\n",
       "      <td>0.827421</td>\n",
       "    </tr>\n",
       "    <tr>\n",
       "      <th>82</th>\n",
       "      <td>num_op_rev_tl</td>\n",
       "      <td>num_sats</td>\n",
       "      <td>0.826587</td>\n",
       "      <td>0.826587</td>\n",
       "    </tr>\n",
       "    <tr>\n",
       "      <th>70</th>\n",
       "      <td>num_actv_bc_tl</td>\n",
       "      <td>num_bc_sats</td>\n",
       "      <td>0.825358</td>\n",
       "      <td>0.825358</td>\n",
       "    </tr>\n",
       "    <tr>\n",
       "      <th>69</th>\n",
       "      <td>num_actv_bc_tl</td>\n",
       "      <td>num_actv_rev_tl</td>\n",
       "      <td>0.808267</td>\n",
       "      <td>0.808267</td>\n",
       "    </tr>\n",
       "    <tr>\n",
       "      <th>59</th>\n",
       "      <td>avg_cur_bal</td>\n",
       "      <td>tot_hi_cred_lim</td>\n",
       "      <td>0.802171</td>\n",
       "      <td>0.802171</td>\n",
       "    </tr>\n",
       "    <tr>\n",
       "      <th>71</th>\n",
       "      <td>num_actv_bc_tl</td>\n",
       "      <td>num_rev_tl_bal_gt_0</td>\n",
       "      <td>0.800802</td>\n",
       "      <td>0.800802</td>\n",
       "    </tr>\n",
       "  </tbody>\n",
       "</table>\n",
       "</div>"
      ],
      "text/plain": [
       "                  Initial                   Secondary  Corr_Values  \\\n",
       "109           desc_length             all_text_length     0.984275   \n",
       "74        num_actv_rev_tl         num_rev_tl_bal_gt_0     0.981772   \n",
       "55            tot_cur_bal             tot_hi_cred_lim     0.976269   \n",
       "42             recoveries     collection_recovery_fee     0.975954   \n",
       "13               int_rate                       grade    -0.954909   \n",
       "7             funded_amnt                 installment     0.952267   \n",
       "3               loan_amnt                 installment     0.952266   \n",
       "11        funded_amnt_inv                 installment     0.952221   \n",
       "103     total_bal_ex_mort  total_il_high_credit_limit     0.874174   \n",
       "35             revol_util                     bc_util     0.856119   \n",
       "63                bc_util            percent_bc_gt_75     0.844312   \n",
       "54            tot_cur_bal                 avg_cur_bal     0.840096   \n",
       "78              num_bc_tl               num_rev_accts     0.838243   \n",
       "47   last_fico_range_high         last_fico_range_low     0.828319   \n",
       "30               open_acc               num_op_rev_tl     0.827421   \n",
       "82          num_op_rev_tl                    num_sats     0.826587   \n",
       "70         num_actv_bc_tl                 num_bc_sats     0.825358   \n",
       "69         num_actv_bc_tl             num_actv_rev_tl     0.808267   \n",
       "59            avg_cur_bal             tot_hi_cred_lim     0.802171   \n",
       "71         num_actv_bc_tl         num_rev_tl_bal_gt_0     0.800802   \n",
       "\n",
       "     Abs_Corr_Values  \n",
       "109         0.984275  \n",
       "74          0.981772  \n",
       "55          0.976269  \n",
       "42          0.975954  \n",
       "13          0.954909  \n",
       "7           0.952267  \n",
       "3           0.952266  \n",
       "11          0.952221  \n",
       "103         0.874174  \n",
       "35          0.856119  \n",
       "63          0.844312  \n",
       "54          0.840096  \n",
       "78          0.838243  \n",
       "47          0.828319  \n",
       "30          0.827421  \n",
       "82          0.826587  \n",
       "70          0.825358  \n",
       "69          0.808267  \n",
       "59          0.802171  \n",
       "71          0.800802  "
      ]
     },
     "execution_count": 36,
     "metadata": {},
     "output_type": "execute_result"
    }
   ],
   "source": [
    "dataCorr = dataCorr.sort_values(by= 'Abs_Corr_Values', ascending = False)\n",
    "dataCorr = dataCorr.iloc[6:]\n",
    "dataCorr"
   ]
  },
  {
   "cell_type": "markdown",
   "metadata": {},
   "source": [
    "To address issues of autocorrelation and high collinearity within the dataset, new columns will be created for features that exhibit strong correlations with each other. This transformation will aim to consolidate the shared information and reduce redundancy, potentially improving the performance and interpretability of the resulting models."
   ]
  },
  {
   "cell_type": "code",
   "execution_count": 37,
   "metadata": {},
   "outputs": [
    {
     "name": "stdout",
     "output_type": "stream",
     "text": [
      "desc_length*all_text_length\n",
      "num_actv_rev_tl*num_rev_tl_bal_gt_0\n",
      "tot_cur_bal*tot_hi_cred_lim\n",
      "recoveries*collection_recovery_fee\n",
      "int_rate*grade\n",
      "funded_amnt*installment\n",
      "loan_amnt*installment\n",
      "funded_amnt_inv*installment\n",
      "total_bal_ex_mort*total_il_high_credit_limit\n",
      "revol_util*bc_util\n",
      "bc_util*percent_bc_gt_75\n",
      "tot_cur_bal*avg_cur_bal\n",
      "num_bc_tl*num_rev_accts\n",
      "last_fico_range_high*last_fico_range_low\n",
      "open_acc*num_op_rev_tl\n",
      "num_op_rev_tl*num_sats\n",
      "num_actv_bc_tl*num_bc_sats\n",
      "num_actv_bc_tl*num_actv_rev_tl\n",
      "avg_cur_bal*tot_hi_cred_lim\n",
      "num_actv_bc_tl*num_rev_tl_bal_gt_0\n"
     ]
    }
   ],
   "source": [
    "for i,j in zip(dataCorr['Initial'], dataCorr['Secondary']):\n",
    "    name = i + '*' + j  \n",
    "    data[name] = data[i] * data[j]\n",
    "    print(name)"
   ]
  },
  {
   "cell_type": "code",
   "execution_count": 38,
   "metadata": {},
   "outputs": [],
   "source": [
    "#all of the values in this column are 0 since they are non-overlapping binary values\n",
    "data.drop(columns = ['funded_amnt', 'funded_amnt_inv'], inplace= True)"
   ]
  },
  {
   "cell_type": "code",
   "execution_count": 39,
   "metadata": {},
   "outputs": [
    {
     "data": {
      "text/plain": [
       "159"
      ]
     },
     "execution_count": 39,
     "metadata": {},
     "output_type": "execute_result"
    }
   ],
   "source": [
    "len(data.columns)"
   ]
  },
  {
   "cell_type": "code",
   "execution_count": 40,
   "metadata": {},
   "outputs": [
    {
     "data": {
      "text/html": [
       "<div>\n",
       "<style scoped>\n",
       "    .dataframe tbody tr th:only-of-type {\n",
       "        vertical-align: middle;\n",
       "    }\n",
       "\n",
       "    .dataframe tbody tr th {\n",
       "        vertical-align: top;\n",
       "    }\n",
       "\n",
       "    .dataframe thead th {\n",
       "        text-align: right;\n",
       "    }\n",
       "</style>\n",
       "<table border=\"1\" class=\"dataframe\">\n",
       "  <thead>\n",
       "    <tr style=\"text-align: right;\">\n",
       "      <th></th>\n",
       "      <th>loan_amnt</th>\n",
       "      <th>int_rate</th>\n",
       "      <th>installment</th>\n",
       "      <th>grade</th>\n",
       "      <th>emp_title</th>\n",
       "      <th>emp_length</th>\n",
       "      <th>annual_inc</th>\n",
       "      <th>desc</th>\n",
       "      <th>title</th>\n",
       "      <th>dti</th>\n",
       "      <th>...</th>\n",
       "      <th>bc_util*percent_bc_gt_75</th>\n",
       "      <th>tot_cur_bal*avg_cur_bal</th>\n",
       "      <th>num_bc_tl*num_rev_accts</th>\n",
       "      <th>last_fico_range_high*last_fico_range_low</th>\n",
       "      <th>open_acc*num_op_rev_tl</th>\n",
       "      <th>num_op_rev_tl*num_sats</th>\n",
       "      <th>num_actv_bc_tl*num_bc_sats</th>\n",
       "      <th>num_actv_bc_tl*num_actv_rev_tl</th>\n",
       "      <th>avg_cur_bal*tot_hi_cred_lim</th>\n",
       "      <th>num_actv_bc_tl*num_rev_tl_bal_gt_0</th>\n",
       "    </tr>\n",
       "  </thead>\n",
       "  <tbody>\n",
       "    <tr>\n",
       "      <th>0</th>\n",
       "      <td>3600.0</td>\n",
       "      <td>13.99</td>\n",
       "      <td>123.03</td>\n",
       "      <td>5</td>\n",
       "      <td>leadman</td>\n",
       "      <td>10</td>\n",
       "      <td>55000.0</td>\n",
       "      <td>.</td>\n",
       "      <td>Debt consolidation</td>\n",
       "      <td>5.91</td>\n",
       "      <td>...</td>\n",
       "      <td>0.00</td>\n",
       "      <td>2.999658e+09</td>\n",
       "      <td>45.0</td>\n",
       "      <td>315840.0</td>\n",
       "      <td>28.0</td>\n",
       "      <td>28.0</td>\n",
       "      <td>4.0</td>\n",
       "      <td>8.0</td>\n",
       "      <td>3.685813e+09</td>\n",
       "      <td>8.0</td>\n",
       "    </tr>\n",
       "    <tr>\n",
       "      <th>1</th>\n",
       "      <td>24700.0</td>\n",
       "      <td>11.99</td>\n",
       "      <td>820.28</td>\n",
       "      <td>5</td>\n",
       "      <td>Engineer</td>\n",
       "      <td>10</td>\n",
       "      <td>65000.0</td>\n",
       "      <td>.</td>\n",
       "      <td>Business</td>\n",
       "      <td>16.06</td>\n",
       "      <td>...</td>\n",
       "      <td>208.67</td>\n",
       "      <td>1.989386e+09</td>\n",
       "      <td>459.0</td>\n",
       "      <td>485805.0</td>\n",
       "      <td>440.0</td>\n",
       "      <td>440.0</td>\n",
       "      <td>65.0</td>\n",
       "      <td>25.0</td>\n",
       "      <td>3.056327e+09</td>\n",
       "      <td>25.0</td>\n",
       "    </tr>\n",
       "    <tr>\n",
       "      <th>2</th>\n",
       "      <td>20000.0</td>\n",
       "      <td>10.78</td>\n",
       "      <td>432.66</td>\n",
       "      <td>6</td>\n",
       "      <td>truck driver</td>\n",
       "      <td>10</td>\n",
       "      <td>63000.0</td>\n",
       "      <td>.</td>\n",
       "      <td>.</td>\n",
       "      <td>10.78</td>\n",
       "      <td>...</td>\n",
       "      <td>2795.00</td>\n",
       "      <td>5.997713e+09</td>\n",
       "      <td>28.0</td>\n",
       "      <td>492800.0</td>\n",
       "      <td>24.0</td>\n",
       "      <td>24.0</td>\n",
       "      <td>4.0</td>\n",
       "      <td>6.0</td>\n",
       "      <td>6.905722e+09</td>\n",
       "      <td>6.0</td>\n",
       "    </tr>\n",
       "    <tr>\n",
       "      <th>3</th>\n",
       "      <td>10400.0</td>\n",
       "      <td>22.45</td>\n",
       "      <td>289.91</td>\n",
       "      <td>2</td>\n",
       "      <td>Contract Specialist</td>\n",
       "      <td>3</td>\n",
       "      <td>104433.0</td>\n",
       "      <td>.</td>\n",
       "      <td>Major purchase</td>\n",
       "      <td>25.37</td>\n",
       "      <td>...</td>\n",
       "      <td>4650.00</td>\n",
       "      <td>9.170344e+09</td>\n",
       "      <td>171.0</td>\n",
       "      <td>492800.0</td>\n",
       "      <td>84.0</td>\n",
       "      <td>84.0</td>\n",
       "      <td>20.0</td>\n",
       "      <td>24.0</td>\n",
       "      <td>1.215147e+10</td>\n",
       "      <td>24.0</td>\n",
       "    </tr>\n",
       "    <tr>\n",
       "      <th>4</th>\n",
       "      <td>11950.0</td>\n",
       "      <td>13.44</td>\n",
       "      <td>405.18</td>\n",
       "      <td>5</td>\n",
       "      <td>Veterinary Tecnician</td>\n",
       "      <td>4</td>\n",
       "      <td>34000.0</td>\n",
       "      <td>.</td>\n",
       "      <td>Debt consolidation</td>\n",
       "      <td>10.20</td>\n",
       "      <td>...</td>\n",
       "      <td>9100.00</td>\n",
       "      <td>3.276288e+07</td>\n",
       "      <td>8.0</td>\n",
       "      <td>573045.0</td>\n",
       "      <td>20.0</td>\n",
       "      <td>20.0</td>\n",
       "      <td>4.0</td>\n",
       "      <td>6.0</td>\n",
       "      <td>4.326400e+07</td>\n",
       "      <td>6.0</td>\n",
       "    </tr>\n",
       "  </tbody>\n",
       "</table>\n",
       "<p>5 rows × 159 columns</p>\n",
       "</div>"
      ],
      "text/plain": [
       "   loan_amnt  int_rate  installment  grade             emp_title  emp_length  \\\n",
       "0     3600.0     13.99       123.03      5               leadman          10   \n",
       "1    24700.0     11.99       820.28      5              Engineer          10   \n",
       "2    20000.0     10.78       432.66      6          truck driver          10   \n",
       "3    10400.0     22.45       289.91      2   Contract Specialist           3   \n",
       "4    11950.0     13.44       405.18      5  Veterinary Tecnician           4   \n",
       "\n",
       "   annual_inc desc               title    dti  ...  bc_util*percent_bc_gt_75  \\\n",
       "0     55000.0   .   Debt consolidation   5.91  ...                      0.00   \n",
       "1     65000.0   .             Business  16.06  ...                    208.67   \n",
       "2     63000.0   .                   .   10.78  ...                   2795.00   \n",
       "3    104433.0   .       Major purchase  25.37  ...                   4650.00   \n",
       "4     34000.0   .   Debt consolidation  10.20  ...                   9100.00   \n",
       "\n",
       "   tot_cur_bal*avg_cur_bal  num_bc_tl*num_rev_accts  \\\n",
       "0             2.999658e+09                     45.0   \n",
       "1             1.989386e+09                    459.0   \n",
       "2             5.997713e+09                     28.0   \n",
       "3             9.170344e+09                    171.0   \n",
       "4             3.276288e+07                      8.0   \n",
       "\n",
       "   last_fico_range_high*last_fico_range_low  open_acc*num_op_rev_tl  \\\n",
       "0                                  315840.0                    28.0   \n",
       "1                                  485805.0                   440.0   \n",
       "2                                  492800.0                    24.0   \n",
       "3                                  492800.0                    84.0   \n",
       "4                                  573045.0                    20.0   \n",
       "\n",
       "   num_op_rev_tl*num_sats  num_actv_bc_tl*num_bc_sats  \\\n",
       "0                    28.0                         4.0   \n",
       "1                   440.0                        65.0   \n",
       "2                    24.0                         4.0   \n",
       "3                    84.0                        20.0   \n",
       "4                    20.0                         4.0   \n",
       "\n",
       "   num_actv_bc_tl*num_actv_rev_tl  avg_cur_bal*tot_hi_cred_lim  \\\n",
       "0                             8.0                 3.685813e+09   \n",
       "1                            25.0                 3.056327e+09   \n",
       "2                             6.0                 6.905722e+09   \n",
       "3                            24.0                 1.215147e+10   \n",
       "4                             6.0                 4.326400e+07   \n",
       "\n",
       "   num_actv_bc_tl*num_rev_tl_bal_gt_0  \n",
       "0                                 8.0  \n",
       "1                                25.0  \n",
       "2                                 6.0  \n",
       "3                                24.0  \n",
       "4                                 6.0  \n",
       "\n",
       "[5 rows x 159 columns]"
      ]
     },
     "execution_count": 40,
     "metadata": {},
     "output_type": "execute_result"
    }
   ],
   "source": [
    "data.head()"
   ]
  },
  {
   "cell_type": "code",
   "execution_count": 41,
   "metadata": {},
   "outputs": [
    {
     "data": {
      "text/plain": [
       "(1210906, 159)"
      ]
     },
     "execution_count": 41,
     "metadata": {},
     "output_type": "execute_result"
    }
   ],
   "source": [
    "data.shape"
   ]
  },
  {
   "cell_type": "code",
   "execution_count": 42,
   "metadata": {},
   "outputs": [],
   "source": [
    "data.to_csv('./dataset/cleaned_FEATURES.csv', index=False)"
   ]
  },
  {
   "cell_type": "markdown",
   "metadata": {},
   "source": [
    "With the completion of the Feature Engineering stage, including the addition of the engineered columns, the next step is to export the refined dataframe as a CSV file. This will allow for smooth integration into the third and final notebook, where the modeling process will take place."
   ]
  }
 ],
 "metadata": {
  "kernelspec": {
   "display_name": "base",
   "language": "python",
   "name": "python3"
  },
  "language_info": {
   "codemirror_mode": {
    "name": "ipython",
    "version": 3
   },
   "file_extension": ".py",
   "mimetype": "text/x-python",
   "name": "python",
   "nbconvert_exporter": "python",
   "pygments_lexer": "ipython3",
   "version": "3.11.7"
  }
 },
 "nbformat": 4,
 "nbformat_minor": 2
}
